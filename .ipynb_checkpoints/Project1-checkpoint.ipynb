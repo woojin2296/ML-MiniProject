{
 "cells": [
  {
   "metadata": {},
   "cell_type": "markdown",
   "source": [
    "# Mini Project #1\n",
    "---\n",
    "\n",
    "EMNIST 데이터셋의 손글씨 숫자 이미지 분류기 개발\n",
    "\n",
    "---"
   ],
   "id": "8a77807f92f26ee"
  },
  {
   "metadata": {},
   "cell_type": "markdown",
   "source": "## 데이터셋 입력 및 라벨 분리",
   "id": "a289a789fa8cfdf7"
  },
  {
   "metadata": {
    "ExecuteTime": {
     "end_time": "2024-11-08T13:04:16.477999Z",
     "start_time": "2024-11-08T13:04:16.475099Z"
    }
   },
   "cell_type": "code",
   "source": [
    "# 패키지 임포트\n",
    "import numpy as np\n",
    "import pandas as pd\n",
    "import joblib\n",
    "from sklearn.model_selection import cross_val_score"
   ],
   "id": "fbc121e30a2defb3",
   "outputs": [],
   "execution_count": 18
  },
  {
   "metadata": {
    "ExecuteTime": {
     "end_time": "2024-11-07T13:42:30.168317Z",
     "start_time": "2024-11-07T13:42:25.411965Z"
    }
   },
   "cell_type": "code",
   "source": [
    "# 데이터 읽기\n",
    "input_file_name = \"data/emnist-digits-train.csv\"\n",
    "df_train = pd.read_csv(input_file_name, header=None)"
   ],
   "id": "63a64842ae695415",
   "outputs": [],
   "execution_count": 2
  },
  {
   "metadata": {
    "ExecuteTime": {
     "end_time": "2024-11-07T13:42:30.173154Z",
     "start_time": "2024-11-07T13:42:30.171499Z"
    }
   },
   "cell_type": "code",
   "source": [
    "# DataFrame 객체를 numpy 배열로 변환\n",
    "np_data = df_train.to_numpy()"
   ],
   "id": "409d07a559213f3a",
   "outputs": [],
   "execution_count": 3
  },
  {
   "metadata": {
    "ExecuteTime": {
     "end_time": "2024-11-07T13:42:30.190986Z",
     "start_time": "2024-11-07T13:42:30.189293Z"
    }
   },
   "cell_type": "code",
   "source": [
    "# 학습 셋 분리\n",
    "x_train = np_data[:, 1:]"
   ],
   "id": "cde1f215f7686ccf",
   "outputs": [],
   "execution_count": 4
  },
  {
   "metadata": {
    "ExecuteTime": {
     "end_time": "2024-11-07T13:42:30.202223Z",
     "start_time": "2024-11-07T13:42:30.200691Z"
    }
   },
   "cell_type": "code",
   "source": [
    "# 타켓 분리\n",
    "y_train = np_data[:, 0]"
   ],
   "id": "6597e906a3e2c83f",
   "outputs": [],
   "execution_count": 5
  },
  {
   "metadata": {},
   "cell_type": "markdown",
   "source": "## 데이터 전처리",
   "id": "5aa6da4d328ae29f"
  },
  {
   "metadata": {},
   "cell_type": "code",
   "source": [
    "# 픽셀 스케일링\n",
    "# x_train = x_train / 255.0"
   ],
   "id": "f3e9564d1c1ab1c3",
   "outputs": [],
   "execution_count": null
  },
  {
   "metadata": {},
   "cell_type": "code",
   "source": [
    "# 라벨 One Hot 인코딩\n",
    "# from sklearn.preprocessing import OneHotEncoder\n",
    "# \n",
    "# OH_encoder = OneHotEncoder()\n",
    "# y_train_res = y_train.reshape(-1, 1)\n",
    "# y_train_encoded = OH_encoder.fit_transform(y_train_res).toarray()"
   ],
   "id": "b00446883981151e",
   "outputs": [],
   "execution_count": null
  },
  {
   "metadata": {
    "ExecuteTime": {
     "end_time": "2024-11-08T12:56:34.756821Z",
     "start_time": "2024-11-08T12:56:34.754618Z"
    }
   },
   "cell_type": "code",
   "source": [
    "# 데이터 확인\n",
    "# import matplotlib.pyplot as plt\n",
    "# \n",
    "# def show_dataset(data, num_images=25):\n",
    "#     fig, axes = plt.subplots(5, 5, figsize=(10, 10))\n",
    "#     axes = axes.ravel()\n",
    "#     for i in range(num_images):\n",
    "#         axes[i].imshow(np.reshape(data[i], (28, 28)).T, cmap='gray')\n",
    "#         axes[i].axis('off')\n",
    "#     plt.tight_layout()\n",
    "#     plt.show()\n",
    "# \n",
    "# show_dataset(x_train)"
   ],
   "id": "a220aca77093f207",
   "outputs": [],
   "execution_count": 15
  },
  {
   "metadata": {},
   "cell_type": "markdown",
   "source": [
    "## 스태킹 기법 사용\n",
    "### 모델 1 : SVM\n",
    "### 모델 2 : KNN\n",
    "### 모델 3 : Random Forest\n",
    "### 모델 4 : Logistic Regression\n",
    "\n",
    "---"
   ],
   "id": "c70919bf0dbb92ea"
  },
  {
   "metadata": {},
   "cell_type": "markdown",
   "source": "## SVM",
   "id": "5a157b8a898b4e76"
  },
  {
   "metadata": {
    "ExecuteTime": {
     "end_time": "2024-11-07T13:47:41.731570Z",
     "start_time": "2024-11-07T13:47:05.988897Z"
    }
   },
   "cell_type": "code",
   "source": [
    "# SVM용 전처리 - HOG 특징 추출 (36s 소요)\n",
    "from skimage.feature import hog\n",
    "\n",
    "def extract_hog_features(data):\n",
    "    hog_features = []\n",
    "    for img in data:\n",
    "        img_reshaped = np.reshape(img, (28, 28)).T\n",
    "        features = hog(img_reshaped, orientations=8, pixels_per_cell=(7, 7), cells_per_block=(1, 1))\n",
    "        hog_features.append(features)\n",
    "    return np.array(hog_features)\n",
    "\n",
    "x_train_hog = extract_hog_features(x_train)"
   ],
   "id": "56b875ec8995c716",
   "outputs": [],
   "execution_count": 10
  },
  {
   "metadata": {
    "ExecuteTime": {
     "end_time": "2024-11-08T12:53:48.434197Z",
     "start_time": "2024-11-07T13:50:00.959877Z"
    }
   },
   "cell_type": "code",
   "source": [
    "# SVM 모델 정의 및 학습 - GridSearch (23h 3m 소요 : 최적 파라미터 c-10 gamma-0.1)\n",
    "from sklearn.model_selection import GridSearchCV\n",
    "from sklearn.svm import SVC\n",
    "\n",
    "svm = SVC()\n",
    "param_grid = {\n",
    "    'C': [0.1, 1, 10, 100],\n",
    "    'gamma': [1, 0.1, 0.01, 0.001],\n",
    "    'kernel': ['rbf']\n",
    "}\n",
    "grid_search = GridSearchCV(svm, param_grid, refit=True, cv=5, verbose=2, n_jobs=-1)\n",
    "grid_search.fit(x_train_hog, y_train)\n",
    "\n",
    "print(\"Best Parameters:\", grid_search.best_params_)\n",
    "print(\"Best Cross-Validation Score:\", grid_search.best_score_)\n",
    "\n",
    "joblib.dump(grid_search, 'models/hog_svm_model_gridsearch.joblib')"
   ],
   "id": "a98838aabfd22596",
   "outputs": [
    {
     "name": "stdout",
     "output_type": "stream",
     "text": [
      "Fitting 5 folds for each of 16 candidates, totalling 80 fits\n",
      "[CV] END ........................C=0.1, gamma=1, kernel=rbf; total time=323.7min\n",
      "[CV] END .........................C=1, gamma=0.1, kernel=rbf; total time=10.4min\n",
      "[CV] END ........................C=1, gamma=0.01, kernel=rbf; total time=16.8min\n",
      "[CV] END .......................C=1, gamma=0.001, kernel=rbf; total time=42.2min\n",
      "[CV] END .........................C=10, gamma=1, kernel=rbf; total time=623.9min\n",
      "[CV] END .......................C=100, gamma=0.1, kernel=rbf; total time=11.7min\n"
     ]
    },
    {
     "name": "stderr",
     "output_type": "stream",
     "text": [
      "/opt/homebrew/anaconda3/lib/python3.12/site-packages/joblib/externals/loky/process_executor.py:752: UserWarning: A worker stopped while some jobs were given to the executor. This can be caused by a too short worker timeout or by a memory leak.\n",
      "  warnings.warn(\n"
     ]
    },
    {
     "name": "stdout",
     "output_type": "stream",
     "text": [
      "[CV] END ........................C=0.1, gamma=1, kernel=rbf; total time=323.0min\n",
      "[CV] END .........................C=1, gamma=0.1, kernel=rbf; total time=10.3min\n",
      "[CV] END ........................C=1, gamma=0.01, kernel=rbf; total time=16.8min\n",
      "[CV] END .......................C=1, gamma=0.001, kernel=rbf; total time=42.1min\n",
      "[CV] END .........................C=10, gamma=1, kernel=rbf; total time=623.0min\n",
      "[CV] END .......................C=100, gamma=0.1, kernel=rbf; total time=11.5min\n",
      "[CV] END ......................C=100, gamma=0.01, kernel=rbf; total time= 7.3min\n",
      "[CV] END .....................C=100, gamma=0.001, kernel=rbf; total time= 8.7min\n",
      "[CV] END ........................C=0.1, gamma=1, kernel=rbf; total time=323.0min\n",
      "[CV] END .........................C=1, gamma=0.1, kernel=rbf; total time=10.4min\n",
      "[CV] END ........................C=1, gamma=0.01, kernel=rbf; total time=16.8min\n",
      "[CV] END .......................C=1, gamma=0.001, kernel=rbf; total time=42.1min\n",
      "[CV] END .........................C=10, gamma=1, kernel=rbf; total time=623.1min\n",
      "[CV] END .......................C=100, gamma=0.1, kernel=rbf; total time=11.6min\n",
      "[CV] END ......................C=100, gamma=0.01, kernel=rbf; total time= 7.3min\n",
      "[CV] END .....................C=100, gamma=0.001, kernel=rbf; total time= 8.7min\n",
      "[CV] END ........................C=0.1, gamma=1, kernel=rbf; total time=323.3min\n",
      "[CV] END .........................C=1, gamma=0.1, kernel=rbf; total time=10.4min\n",
      "[CV] END ........................C=1, gamma=0.01, kernel=rbf; total time=16.8min\n",
      "[CV] END .......................C=1, gamma=0.001, kernel=rbf; total time=42.1min\n",
      "[CV] END .........................C=10, gamma=1, kernel=rbf; total time=622.8min\n",
      "[CV] END .......................C=100, gamma=0.1, kernel=rbf; total time=11.8min\n",
      "[CV] END ......................C=100, gamma=0.01, kernel=rbf; total time= 7.3min\n",
      "[CV] END .....................C=100, gamma=0.001, kernel=rbf; total time= 8.7min\n",
      "[CV] END ........................C=0.1, gamma=1, kernel=rbf; total time=323.4min\n",
      "[CV] END .........................C=1, gamma=0.1, kernel=rbf; total time=10.4min\n",
      "[CV] END ........................C=1, gamma=0.01, kernel=rbf; total time=16.9min\n",
      "[CV] END .......................C=1, gamma=0.001, kernel=rbf; total time=42.2min\n",
      "[CV] END .........................C=10, gamma=1, kernel=rbf; total time=623.4min\n",
      "[CV] END .......................C=100, gamma=0.1, kernel=rbf; total time=11.7min\n",
      "[CV] END ......................C=100, gamma=0.01, kernel=rbf; total time= 7.3min\n",
      "[CV] END .....................C=100, gamma=0.001, kernel=rbf; total time= 8.7min\n",
      "[CV] END ......................C=100, gamma=0.01, kernel=rbf; total time= 8.2min\n",
      "[CV] END .....................C=100, gamma=0.001, kernel=rbf; total time= 8.3min\n",
      "[CV] END .......................C=0.1, gamma=0.1, kernel=rbf; total time=23.0min\n",
      "[CV] END ......................C=0.1, gamma=0.01, kernel=rbf; total time=43.9min\n",
      "[CV] END ....................C=0.1, gamma=0.001, kernel=rbf; total time=121.3min\n",
      "[CV] END ..........................C=1, gamma=1, kernel=rbf; total time=616.7min\n",
      "[CV] END ........................C=10, gamma=0.1, kernel=rbf; total time=11.1min\n",
      "[CV] END .......................C=10, gamma=0.01, kernel=rbf; total time= 8.7min\n",
      "[CV] END ......................C=10, gamma=0.001, kernel=rbf; total time=16.7min\n",
      "[CV] END ........................C=100, gamma=1, kernel=rbf; total time=528.7min\n",
      "[CV] END .......................C=0.1, gamma=0.1, kernel=rbf; total time=23.2min\n",
      "[CV] END ......................C=0.1, gamma=0.01, kernel=rbf; total time=44.0min\n",
      "[CV] END ....................C=0.1, gamma=0.001, kernel=rbf; total time=121.5min\n",
      "[CV] END ..........................C=1, gamma=1, kernel=rbf; total time=617.8min\n",
      "[CV] END ........................C=10, gamma=0.1, kernel=rbf; total time=11.1min\n",
      "[CV] END .......................C=10, gamma=0.01, kernel=rbf; total time= 8.7min\n",
      "[CV] END ......................C=10, gamma=0.001, kernel=rbf; total time=16.7min\n",
      "[CV] END ........................C=100, gamma=1, kernel=rbf; total time=529.3min\n",
      "[CV] END .......................C=0.1, gamma=0.1, kernel=rbf; total time=23.0min\n",
      "[CV] END ......................C=0.1, gamma=0.01, kernel=rbf; total time=43.9min\n",
      "[CV] END ....................C=0.1, gamma=0.001, kernel=rbf; total time=121.4min\n",
      "[CV] END ..........................C=1, gamma=1, kernel=rbf; total time=616.6min\n",
      "[CV] END ........................C=10, gamma=0.1, kernel=rbf; total time=10.9min\n",
      "[CV] END .......................C=10, gamma=0.01, kernel=rbf; total time= 8.7min\n",
      "[CV] END ......................C=10, gamma=0.001, kernel=rbf; total time=16.6min\n",
      "[CV] END ........................C=100, gamma=1, kernel=rbf; total time=531.5min\n",
      "[CV] END .......................C=0.1, gamma=0.1, kernel=rbf; total time=23.1min\n",
      "[CV] END ......................C=0.1, gamma=0.01, kernel=rbf; total time=44.1min\n",
      "[CV] END ....................C=0.1, gamma=0.001, kernel=rbf; total time=121.5min\n",
      "[CV] END ..........................C=1, gamma=1, kernel=rbf; total time=618.2min\n",
      "[CV] END ........................C=10, gamma=0.1, kernel=rbf; total time=11.0min\n",
      "[CV] END .......................C=10, gamma=0.01, kernel=rbf; total time= 8.7min\n",
      "[CV] END ......................C=10, gamma=0.001, kernel=rbf; total time=16.7min\n",
      "[CV] END ........................C=100, gamma=1, kernel=rbf; total time=529.7min\n",
      "[CV] END .......................C=0.1, gamma=0.1, kernel=rbf; total time=23.0min\n",
      "[CV] END ......................C=0.1, gamma=0.01, kernel=rbf; total time=44.0min\n",
      "[CV] END ....................C=0.1, gamma=0.001, kernel=rbf; total time=121.3min\n",
      "[CV] END ..........................C=1, gamma=1, kernel=rbf; total time=617.5min\n",
      "[CV] END ........................C=10, gamma=0.1, kernel=rbf; total time=11.0min\n",
      "[CV] END .......................C=10, gamma=0.01, kernel=rbf; total time= 8.7min\n",
      "[CV] END ......................C=10, gamma=0.001, kernel=rbf; total time=16.7min\n",
      "[CV] END ........................C=100, gamma=1, kernel=rbf; total time=531.0min\n",
      "Best Parameters: {'C': 10, 'gamma': 0.1, 'kernel': 'rbf'}\n",
      "Best Cross-Validation Score: 0.9846708333333332\n"
     ]
    },
    {
     "data": {
      "text/plain": [
       "['models/svm_model_multi.joblib']"
      ]
     },
     "execution_count": 11,
     "metadata": {},
     "output_type": "execute_result"
    }
   ],
   "execution_count": 11
  },
  {
   "metadata": {
    "ExecuteTime": {
     "end_time": "2024-11-08T13:35:57.077357Z",
     "start_time": "2024-11-08T13:25:43.896556Z"
    }
   },
   "cell_type": "code",
   "source": [
    "# SVM 모델 정의 및 학습 (10m 소요)\n",
    "from sklearn.svm import SVC\n",
    "\n",
    "svm_model = SVC(kernel='rbf', C=10, gamma=0.1)\n",
    "svm_model.fit(x_train_hog, y_train)\n",
    "\n",
    "joblib.dump(svm_model, 'models/hog_svm_model.joblib')"
   ],
   "id": "9d5159c75ad1b993",
   "outputs": [
    {
     "data": {
      "text/plain": [
       "['models/hog_svm_model.joblib']"
      ]
     },
     "execution_count": 31,
     "metadata": {},
     "output_type": "execute_result"
    }
   ],
   "execution_count": 31
  },
  {
   "metadata": {
    "jupyter": {
     "is_executing": true
    }
   },
   "cell_type": "code",
   "source": [
    "# SVM 모델 교차 검증\n",
    "svm_model_test = joblib.load(\"models/hog_svm_model.joblib\")\n",
    "svm_cv_scores = cross_val_score(svm_model_test, x_train_hog, y_train, cv=5, scoring='accuracy')\n",
    "print(\"SVM Cross-Validation Accuracy:\", svm_cv_scores.mean())"
   ],
   "id": "77415fdd296c6002",
   "outputs": [],
   "execution_count": null
  },
  {
   "metadata": {},
   "cell_type": "markdown",
   "source": "## KNN",
   "id": "d0c866de9fb12979"
  },
  {
   "metadata": {
    "ExecuteTime": {
     "end_time": "2024-11-08T13:03:04.167853Z",
     "start_time": "2024-11-08T13:02:52.860956Z"
    }
   },
   "cell_type": "code",
   "source": [
    "# KNN용 전처리 - PCA 적용\n",
    "from sklearn.decomposition import PCA\n",
    "\n",
    "pca = PCA(n_components=50)\n",
    "x_train_pca = pca.fit_transform(x_train)"
   ],
   "id": "16b7f87bc424203a",
   "outputs": [],
   "execution_count": 16
  },
  {
   "metadata": {
    "ExecuteTime": {
     "end_time": "2024-11-08T13:09:26.971724Z",
     "start_time": "2024-11-08T13:09:25.993195Z"
    }
   },
   "cell_type": "code",
   "source": [
    "# KNN 모델 학습\n",
    "from sklearn.neighbors import KNeighborsClassifier\n",
    "\n",
    "knn = KNeighborsClassifier(n_neighbors=7)\n",
    "knn.fit(x_train, y_train)\n",
    "\n",
    "joblib.dump(knn, 'models/pca_knn_model.joblib')"
   ],
   "id": "c66df1110faa739e",
   "outputs": [
    {
     "data": {
      "text/plain": [
       "['models/pca_knn_model.joblib']"
      ]
     },
     "execution_count": 27,
     "metadata": {},
     "output_type": "execute_result"
    }
   ],
   "execution_count": 27
  },
  {
   "metadata": {
    "ExecuteTime": {
     "end_time": "2024-11-08T13:25:17.845452Z",
     "start_time": "2024-11-08T13:24:53.284309Z"
    }
   },
   "cell_type": "code",
   "source": [
    "# KNN 모델 교차 검증\n",
    "knn_cv_scores = cross_val_score(KNeighborsClassifier(n_neighbors=7), x_train_pca, y_train, cv=5, scoring='accuracy')\n",
    "print(\"KNN Cross-Validation Accuracy:\", knn_cv_scores.mean())"
   ],
   "id": "a46eb3856f115ad7",
   "outputs": [
    {
     "name": "stdout",
     "output_type": "stream",
     "text": [
      "KNN Cross-Validation Accuracy: 0.9845333333333333\n"
     ]
    }
   ],
   "execution_count": 29
  },
  {
   "metadata": {},
   "cell_type": "markdown",
   "source": "## SDG Classifier",
   "id": "ca28190a7e6ce100"
  },
  {
   "metadata": {},
   "cell_type": "code",
   "source": [
    "from sklearn.linear_model import SGDClassifier\n",
    "\n",
    "sgd_clf = SGDClassifier(max_iter=5, tol=None, random_state=42)\n",
    "sgd_clf.fit(x_train, y_train)"
   ],
   "id": "4325bcb7b7457ebd",
   "outputs": [],
   "execution_count": null
  },
  {
   "metadata": {},
   "cell_type": "code",
   "source": [
    "from sklearn.model_selection import cross_val_score\n",
    "\n",
    "cross_val_score(sgd_clf, x_train, y_train, cv=10, scoring=\"accuracy\")"
   ],
   "id": "61761292d7f38bb6",
   "outputs": [],
   "execution_count": null
  },
  {
   "metadata": {},
   "cell_type": "code",
   "source": [
    "np.mean([0.92066667, 0.9195    , 0.91804167, 0.91754167, 0.9195    ,\n",
    "       0.91554167, 0.92033333, 0.9245    , 0.92229167, 0.92108333]\n",
    ")"
   ],
   "id": "a6b5b7e18cca93b8",
   "outputs": [],
   "execution_count": null
  }
 ],
 "metadata": {
  "kernelspec": {
   "display_name": "Python 3",
   "language": "python",
   "name": "python3"
  },
  "language_info": {
   "codemirror_mode": {
    "name": "ipython",
    "version": 2
   },
   "file_extension": ".py",
   "mimetype": "text/x-python",
   "name": "python",
   "nbconvert_exporter": "python",
   "pygments_lexer": "ipython2",
   "version": "2.7.6"
  }
 },
 "nbformat": 4,
 "nbformat_minor": 5
}
