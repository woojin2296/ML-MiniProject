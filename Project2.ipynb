{
 "cells": [
  {
   "metadata": {},
   "cell_type": "markdown",
   "source": [
    "# Mini Project #2\n",
    "---\n",
    "\n",
    "스마트폰 수집 신호를 이용한 인간 행위 인식\n",
    "\n",
    "---"
   ],
   "id": "8a77807f92f26ee"
  },
  {
   "metadata": {},
   "cell_type": "markdown",
   "source": "## 데이터셋 입력 및 라벨 분리",
   "id": "a289a789fa8cfdf7"
  },
  {
   "metadata": {
    "ExecuteTime": {
     "end_time": "2024-11-12T06:15:41.010109Z",
     "start_time": "2024-11-12T06:15:38.409234Z"
    }
   },
   "cell_type": "code",
   "source": [
    "# 패키지 임포트\n",
    "import numpy as np\n",
    "import pandas as pd\n",
    "import joblib\n",
    "from sklearn.model_selection import cross_val_score\n",
    "from sklearn.pipeline import make_pipeline\n",
    "import datetime"
   ],
   "id": "fbc121e30a2defb3",
   "outputs": [],
   "execution_count": 1
  },
  {
   "metadata": {
    "ExecuteTime": {
     "end_time": "2024-11-12T06:16:36.598949Z",
     "start_time": "2024-11-12T06:16:35.698718Z"
    }
   },
   "cell_type": "code",
   "source": [
    "# 데이터 읽기 (5s 소요)\n",
    "input_file_name = \"data/train.csv\"\n",
    "df_train = pd.read_csv(input_file_name, header=0)"
   ],
   "id": "63a64842ae695415",
   "outputs": [],
   "execution_count": 3
  },
  {
   "metadata": {
    "ExecuteTime": {
     "end_time": "2024-11-12T06:16:51.727100Z",
     "start_time": "2024-11-12T06:16:51.659408Z"
    }
   },
   "cell_type": "code",
   "source": "df_train",
   "id": "a3f4a7faa1f4af18",
   "outputs": [
    {
     "data": {
      "text/plain": [
       "      tBodyAcc-mean()-X  tBodyAcc-mean()-Y  tBodyAcc-mean()-Z  \\\n",
       "0              0.288585          -0.020294          -0.132905   \n",
       "1              0.278419          -0.016411          -0.123520   \n",
       "2              0.279653          -0.019467          -0.113462   \n",
       "3              0.279174          -0.026201          -0.123283   \n",
       "4              0.276629          -0.016570          -0.115362   \n",
       "...                 ...                ...                ...   \n",
       "7347           0.299665          -0.057193          -0.181233   \n",
       "7348           0.273853          -0.007749          -0.147468   \n",
       "7349           0.273387          -0.017011          -0.045022   \n",
       "7350           0.289654          -0.018843          -0.158281   \n",
       "7351           0.351503          -0.012423          -0.203867   \n",
       "\n",
       "      tBodyAcc-std()-X  tBodyAcc-std()-Y  tBodyAcc-std()-Z  tBodyAcc-mad()-X  \\\n",
       "0            -0.995279         -0.983111         -0.913526         -0.995112   \n",
       "1            -0.998245         -0.975300         -0.960322         -0.998807   \n",
       "2            -0.995380         -0.967187         -0.978944         -0.996520   \n",
       "3            -0.996091         -0.983403         -0.990675         -0.997099   \n",
       "4            -0.998139         -0.980817         -0.990482         -0.998321   \n",
       "...                ...               ...               ...               ...   \n",
       "7347         -0.195387          0.039905          0.077078         -0.282301   \n",
       "7348         -0.235309          0.004816          0.059280         -0.322552   \n",
       "7349         -0.218218         -0.103822          0.274533         -0.304515   \n",
       "7350         -0.219139         -0.111412          0.268893         -0.310487   \n",
       "7351         -0.269270         -0.087212          0.177404         -0.377404   \n",
       "\n",
       "      tBodyAcc-mad()-Y  tBodyAcc-mad()-Z  tBodyAcc-max()-X  ...  \\\n",
       "0            -0.983185         -0.923527         -0.934724  ...   \n",
       "1            -0.974914         -0.957686         -0.943068  ...   \n",
       "2            -0.963668         -0.977469         -0.938692  ...   \n",
       "3            -0.982750         -0.989302         -0.938692  ...   \n",
       "4            -0.979672         -0.990441         -0.942469  ...   \n",
       "...                ...               ...               ...  ...   \n",
       "7347          0.043616          0.060410          0.210795  ...   \n",
       "7348         -0.029456          0.080585          0.117440  ...   \n",
       "7349         -0.098913          0.332584          0.043999  ...   \n",
       "7350         -0.068200          0.319473          0.101702  ...   \n",
       "7351         -0.038678          0.229430          0.269013  ...   \n",
       "\n",
       "      fBodyBodyGyroJerkMag-kurtosis()  angle(tBodyAccMean,gravity)  \\\n",
       "0                           -0.710304                    -0.112754   \n",
       "1                           -0.861499                     0.053477   \n",
       "2                           -0.760104                    -0.118559   \n",
       "3                           -0.482845                    -0.036788   \n",
       "4                           -0.699205                     0.123320   \n",
       "...                               ...                          ...   \n",
       "7347                        -0.880324                    -0.190437   \n",
       "7348                        -0.680744                     0.064907   \n",
       "7349                        -0.304029                     0.052806   \n",
       "7350                        -0.344314                    -0.101360   \n",
       "7351                        -0.740738                    -0.280088   \n",
       "\n",
       "      angle(tBodyAccJerkMean),gravityMean)  angle(tBodyGyroMean,gravityMean)  \\\n",
       "0                                 0.030400                         -0.464761   \n",
       "1                                -0.007435                         -0.732626   \n",
       "2                                 0.177899                          0.100699   \n",
       "3                                -0.012892                          0.640011   \n",
       "4                                 0.122542                          0.693578   \n",
       "...                                    ...                               ...   \n",
       "7347                              0.829718                          0.206972   \n",
       "7348                              0.875679                         -0.879033   \n",
       "7349                             -0.266724                          0.864404   \n",
       "7350                              0.700740                          0.936674   \n",
       "7351                             -0.007739                         -0.056088   \n",
       "\n",
       "      angle(tBodyGyroJerkMean,gravityMean)  angle(X,gravityMean)  \\\n",
       "0                                -0.018446             -0.841247   \n",
       "1                                 0.703511             -0.844788   \n",
       "2                                 0.808529             -0.848933   \n",
       "3                                -0.485366             -0.848649   \n",
       "4                                -0.615971             -0.847865   \n",
       "...                                    ...                   ...   \n",
       "7347                             -0.425619             -0.791883   \n",
       "7348                              0.400219             -0.771840   \n",
       "7349                              0.701169             -0.779133   \n",
       "7350                             -0.589479             -0.785181   \n",
       "7351                             -0.616956             -0.783267   \n",
       "\n",
       "      angle(Y,gravityMean)  angle(Z,gravityMean)  subject          Activity  \n",
       "0                 0.179941             -0.058627        1          STANDING  \n",
       "1                 0.180289             -0.054317        1          STANDING  \n",
       "2                 0.180637             -0.049118        1          STANDING  \n",
       "3                 0.181935             -0.047663        1          STANDING  \n",
       "4                 0.185151             -0.043892        1          STANDING  \n",
       "...                    ...                   ...      ...               ...  \n",
       "7347              0.238604              0.049819       30  WALKING_UPSTAIRS  \n",
       "7348              0.252676              0.050053       30  WALKING_UPSTAIRS  \n",
       "7349              0.249145              0.040811       30  WALKING_UPSTAIRS  \n",
       "7350              0.246432              0.025339       30  WALKING_UPSTAIRS  \n",
       "7351              0.246809              0.036695       30  WALKING_UPSTAIRS  \n",
       "\n",
       "[7352 rows x 563 columns]"
      ],
      "text/html": [
       "<div>\n",
       "<style scoped>\n",
       "    .dataframe tbody tr th:only-of-type {\n",
       "        vertical-align: middle;\n",
       "    }\n",
       "\n",
       "    .dataframe tbody tr th {\n",
       "        vertical-align: top;\n",
       "    }\n",
       "\n",
       "    .dataframe thead th {\n",
       "        text-align: right;\n",
       "    }\n",
       "</style>\n",
       "<table border=\"1\" class=\"dataframe\">\n",
       "  <thead>\n",
       "    <tr style=\"text-align: right;\">\n",
       "      <th></th>\n",
       "      <th>tBodyAcc-mean()-X</th>\n",
       "      <th>tBodyAcc-mean()-Y</th>\n",
       "      <th>tBodyAcc-mean()-Z</th>\n",
       "      <th>tBodyAcc-std()-X</th>\n",
       "      <th>tBodyAcc-std()-Y</th>\n",
       "      <th>tBodyAcc-std()-Z</th>\n",
       "      <th>tBodyAcc-mad()-X</th>\n",
       "      <th>tBodyAcc-mad()-Y</th>\n",
       "      <th>tBodyAcc-mad()-Z</th>\n",
       "      <th>tBodyAcc-max()-X</th>\n",
       "      <th>...</th>\n",
       "      <th>fBodyBodyGyroJerkMag-kurtosis()</th>\n",
       "      <th>angle(tBodyAccMean,gravity)</th>\n",
       "      <th>angle(tBodyAccJerkMean),gravityMean)</th>\n",
       "      <th>angle(tBodyGyroMean,gravityMean)</th>\n",
       "      <th>angle(tBodyGyroJerkMean,gravityMean)</th>\n",
       "      <th>angle(X,gravityMean)</th>\n",
       "      <th>angle(Y,gravityMean)</th>\n",
       "      <th>angle(Z,gravityMean)</th>\n",
       "      <th>subject</th>\n",
       "      <th>Activity</th>\n",
       "    </tr>\n",
       "  </thead>\n",
       "  <tbody>\n",
       "    <tr>\n",
       "      <th>0</th>\n",
       "      <td>0.288585</td>\n",
       "      <td>-0.020294</td>\n",
       "      <td>-0.132905</td>\n",
       "      <td>-0.995279</td>\n",
       "      <td>-0.983111</td>\n",
       "      <td>-0.913526</td>\n",
       "      <td>-0.995112</td>\n",
       "      <td>-0.983185</td>\n",
       "      <td>-0.923527</td>\n",
       "      <td>-0.934724</td>\n",
       "      <td>...</td>\n",
       "      <td>-0.710304</td>\n",
       "      <td>-0.112754</td>\n",
       "      <td>0.030400</td>\n",
       "      <td>-0.464761</td>\n",
       "      <td>-0.018446</td>\n",
       "      <td>-0.841247</td>\n",
       "      <td>0.179941</td>\n",
       "      <td>-0.058627</td>\n",
       "      <td>1</td>\n",
       "      <td>STANDING</td>\n",
       "    </tr>\n",
       "    <tr>\n",
       "      <th>1</th>\n",
       "      <td>0.278419</td>\n",
       "      <td>-0.016411</td>\n",
       "      <td>-0.123520</td>\n",
       "      <td>-0.998245</td>\n",
       "      <td>-0.975300</td>\n",
       "      <td>-0.960322</td>\n",
       "      <td>-0.998807</td>\n",
       "      <td>-0.974914</td>\n",
       "      <td>-0.957686</td>\n",
       "      <td>-0.943068</td>\n",
       "      <td>...</td>\n",
       "      <td>-0.861499</td>\n",
       "      <td>0.053477</td>\n",
       "      <td>-0.007435</td>\n",
       "      <td>-0.732626</td>\n",
       "      <td>0.703511</td>\n",
       "      <td>-0.844788</td>\n",
       "      <td>0.180289</td>\n",
       "      <td>-0.054317</td>\n",
       "      <td>1</td>\n",
       "      <td>STANDING</td>\n",
       "    </tr>\n",
       "    <tr>\n",
       "      <th>2</th>\n",
       "      <td>0.279653</td>\n",
       "      <td>-0.019467</td>\n",
       "      <td>-0.113462</td>\n",
       "      <td>-0.995380</td>\n",
       "      <td>-0.967187</td>\n",
       "      <td>-0.978944</td>\n",
       "      <td>-0.996520</td>\n",
       "      <td>-0.963668</td>\n",
       "      <td>-0.977469</td>\n",
       "      <td>-0.938692</td>\n",
       "      <td>...</td>\n",
       "      <td>-0.760104</td>\n",
       "      <td>-0.118559</td>\n",
       "      <td>0.177899</td>\n",
       "      <td>0.100699</td>\n",
       "      <td>0.808529</td>\n",
       "      <td>-0.848933</td>\n",
       "      <td>0.180637</td>\n",
       "      <td>-0.049118</td>\n",
       "      <td>1</td>\n",
       "      <td>STANDING</td>\n",
       "    </tr>\n",
       "    <tr>\n",
       "      <th>3</th>\n",
       "      <td>0.279174</td>\n",
       "      <td>-0.026201</td>\n",
       "      <td>-0.123283</td>\n",
       "      <td>-0.996091</td>\n",
       "      <td>-0.983403</td>\n",
       "      <td>-0.990675</td>\n",
       "      <td>-0.997099</td>\n",
       "      <td>-0.982750</td>\n",
       "      <td>-0.989302</td>\n",
       "      <td>-0.938692</td>\n",
       "      <td>...</td>\n",
       "      <td>-0.482845</td>\n",
       "      <td>-0.036788</td>\n",
       "      <td>-0.012892</td>\n",
       "      <td>0.640011</td>\n",
       "      <td>-0.485366</td>\n",
       "      <td>-0.848649</td>\n",
       "      <td>0.181935</td>\n",
       "      <td>-0.047663</td>\n",
       "      <td>1</td>\n",
       "      <td>STANDING</td>\n",
       "    </tr>\n",
       "    <tr>\n",
       "      <th>4</th>\n",
       "      <td>0.276629</td>\n",
       "      <td>-0.016570</td>\n",
       "      <td>-0.115362</td>\n",
       "      <td>-0.998139</td>\n",
       "      <td>-0.980817</td>\n",
       "      <td>-0.990482</td>\n",
       "      <td>-0.998321</td>\n",
       "      <td>-0.979672</td>\n",
       "      <td>-0.990441</td>\n",
       "      <td>-0.942469</td>\n",
       "      <td>...</td>\n",
       "      <td>-0.699205</td>\n",
       "      <td>0.123320</td>\n",
       "      <td>0.122542</td>\n",
       "      <td>0.693578</td>\n",
       "      <td>-0.615971</td>\n",
       "      <td>-0.847865</td>\n",
       "      <td>0.185151</td>\n",
       "      <td>-0.043892</td>\n",
       "      <td>1</td>\n",
       "      <td>STANDING</td>\n",
       "    </tr>\n",
       "    <tr>\n",
       "      <th>...</th>\n",
       "      <td>...</td>\n",
       "      <td>...</td>\n",
       "      <td>...</td>\n",
       "      <td>...</td>\n",
       "      <td>...</td>\n",
       "      <td>...</td>\n",
       "      <td>...</td>\n",
       "      <td>...</td>\n",
       "      <td>...</td>\n",
       "      <td>...</td>\n",
       "      <td>...</td>\n",
       "      <td>...</td>\n",
       "      <td>...</td>\n",
       "      <td>...</td>\n",
       "      <td>...</td>\n",
       "      <td>...</td>\n",
       "      <td>...</td>\n",
       "      <td>...</td>\n",
       "      <td>...</td>\n",
       "      <td>...</td>\n",
       "      <td>...</td>\n",
       "    </tr>\n",
       "    <tr>\n",
       "      <th>7347</th>\n",
       "      <td>0.299665</td>\n",
       "      <td>-0.057193</td>\n",
       "      <td>-0.181233</td>\n",
       "      <td>-0.195387</td>\n",
       "      <td>0.039905</td>\n",
       "      <td>0.077078</td>\n",
       "      <td>-0.282301</td>\n",
       "      <td>0.043616</td>\n",
       "      <td>0.060410</td>\n",
       "      <td>0.210795</td>\n",
       "      <td>...</td>\n",
       "      <td>-0.880324</td>\n",
       "      <td>-0.190437</td>\n",
       "      <td>0.829718</td>\n",
       "      <td>0.206972</td>\n",
       "      <td>-0.425619</td>\n",
       "      <td>-0.791883</td>\n",
       "      <td>0.238604</td>\n",
       "      <td>0.049819</td>\n",
       "      <td>30</td>\n",
       "      <td>WALKING_UPSTAIRS</td>\n",
       "    </tr>\n",
       "    <tr>\n",
       "      <th>7348</th>\n",
       "      <td>0.273853</td>\n",
       "      <td>-0.007749</td>\n",
       "      <td>-0.147468</td>\n",
       "      <td>-0.235309</td>\n",
       "      <td>0.004816</td>\n",
       "      <td>0.059280</td>\n",
       "      <td>-0.322552</td>\n",
       "      <td>-0.029456</td>\n",
       "      <td>0.080585</td>\n",
       "      <td>0.117440</td>\n",
       "      <td>...</td>\n",
       "      <td>-0.680744</td>\n",
       "      <td>0.064907</td>\n",
       "      <td>0.875679</td>\n",
       "      <td>-0.879033</td>\n",
       "      <td>0.400219</td>\n",
       "      <td>-0.771840</td>\n",
       "      <td>0.252676</td>\n",
       "      <td>0.050053</td>\n",
       "      <td>30</td>\n",
       "      <td>WALKING_UPSTAIRS</td>\n",
       "    </tr>\n",
       "    <tr>\n",
       "      <th>7349</th>\n",
       "      <td>0.273387</td>\n",
       "      <td>-0.017011</td>\n",
       "      <td>-0.045022</td>\n",
       "      <td>-0.218218</td>\n",
       "      <td>-0.103822</td>\n",
       "      <td>0.274533</td>\n",
       "      <td>-0.304515</td>\n",
       "      <td>-0.098913</td>\n",
       "      <td>0.332584</td>\n",
       "      <td>0.043999</td>\n",
       "      <td>...</td>\n",
       "      <td>-0.304029</td>\n",
       "      <td>0.052806</td>\n",
       "      <td>-0.266724</td>\n",
       "      <td>0.864404</td>\n",
       "      <td>0.701169</td>\n",
       "      <td>-0.779133</td>\n",
       "      <td>0.249145</td>\n",
       "      <td>0.040811</td>\n",
       "      <td>30</td>\n",
       "      <td>WALKING_UPSTAIRS</td>\n",
       "    </tr>\n",
       "    <tr>\n",
       "      <th>7350</th>\n",
       "      <td>0.289654</td>\n",
       "      <td>-0.018843</td>\n",
       "      <td>-0.158281</td>\n",
       "      <td>-0.219139</td>\n",
       "      <td>-0.111412</td>\n",
       "      <td>0.268893</td>\n",
       "      <td>-0.310487</td>\n",
       "      <td>-0.068200</td>\n",
       "      <td>0.319473</td>\n",
       "      <td>0.101702</td>\n",
       "      <td>...</td>\n",
       "      <td>-0.344314</td>\n",
       "      <td>-0.101360</td>\n",
       "      <td>0.700740</td>\n",
       "      <td>0.936674</td>\n",
       "      <td>-0.589479</td>\n",
       "      <td>-0.785181</td>\n",
       "      <td>0.246432</td>\n",
       "      <td>0.025339</td>\n",
       "      <td>30</td>\n",
       "      <td>WALKING_UPSTAIRS</td>\n",
       "    </tr>\n",
       "    <tr>\n",
       "      <th>7351</th>\n",
       "      <td>0.351503</td>\n",
       "      <td>-0.012423</td>\n",
       "      <td>-0.203867</td>\n",
       "      <td>-0.269270</td>\n",
       "      <td>-0.087212</td>\n",
       "      <td>0.177404</td>\n",
       "      <td>-0.377404</td>\n",
       "      <td>-0.038678</td>\n",
       "      <td>0.229430</td>\n",
       "      <td>0.269013</td>\n",
       "      <td>...</td>\n",
       "      <td>-0.740738</td>\n",
       "      <td>-0.280088</td>\n",
       "      <td>-0.007739</td>\n",
       "      <td>-0.056088</td>\n",
       "      <td>-0.616956</td>\n",
       "      <td>-0.783267</td>\n",
       "      <td>0.246809</td>\n",
       "      <td>0.036695</td>\n",
       "      <td>30</td>\n",
       "      <td>WALKING_UPSTAIRS</td>\n",
       "    </tr>\n",
       "  </tbody>\n",
       "</table>\n",
       "<p>7352 rows × 563 columns</p>\n",
       "</div>"
      ]
     },
     "execution_count": 4,
     "metadata": {},
     "output_type": "execute_result"
    }
   ],
   "execution_count": 4
  },
  {
   "metadata": {
    "ExecuteTime": {
     "end_time": "2024-11-12T04:28:56.334951Z",
     "start_time": "2024-11-12T04:28:56.333313Z"
    }
   },
   "cell_type": "code",
   "source": [
    "# DataFrame 객체를 numpy 배열로 변환\n",
    "np_data = df_train.to_numpy()"
   ],
   "id": "409d07a559213f3a",
   "outputs": [],
   "execution_count": 3
  },
  {
   "metadata": {
    "ExecuteTime": {
     "end_time": "2024-11-12T04:28:56.346079Z",
     "start_time": "2024-11-12T04:28:56.344448Z"
    }
   },
   "cell_type": "code",
   "source": [
    "# 학습 셋 분리\n",
    "x_train = np_data[:, 1:]"
   ],
   "id": "cde1f215f7686ccf",
   "outputs": [],
   "execution_count": 4
  },
  {
   "metadata": {
    "ExecuteTime": {
     "end_time": "2024-11-12T04:28:56.357267Z",
     "start_time": "2024-11-12T04:28:56.355566Z"
    }
   },
   "cell_type": "code",
   "source": [
    "# 타겟 분리\n",
    "y_train = np_data[:, 0]"
   ],
   "id": "6597e906a3e2c83f",
   "outputs": [],
   "execution_count": 5
  },
  {
   "metadata": {},
   "cell_type": "markdown",
   "source": "## 데이터 전처리 함수 정의",
   "id": "5aa6da4d328ae29f"
  },
  {
   "metadata": {
    "ExecuteTime": {
     "end_time": "2024-11-12T04:28:56.396149Z",
     "start_time": "2024-11-12T04:28:56.394400Z"
    }
   },
   "cell_type": "code",
   "source": "from sklearn.preprocessing import FunctionTransformer",
   "id": "bb6d4826c0ade6e8",
   "outputs": [],
   "execution_count": 6
  },
  {
   "metadata": {
    "ExecuteTime": {
     "end_time": "2024-11-12T04:28:56.410743Z",
     "start_time": "2024-11-12T04:28:56.408916Z"
    }
   },
   "cell_type": "code",
   "source": [
    "# 정규화\n",
    "def normalize_func(data):\n",
    "    return data / 255.0\n",
    "\n",
    "normalize = FunctionTransformer(normalize_func)"
   ],
   "id": "f3e9564d1c1ab1c3",
   "outputs": [],
   "execution_count": 7
  },
  {
   "metadata": {
    "ExecuteTime": {
     "end_time": "2024-11-12T04:28:56.423110Z",
     "start_time": "2024-11-12T04:28:56.421218Z"
    }
   },
   "cell_type": "code",
   "source": [
    "# Zero-centering\n",
    "def zeroCentering_func(data):\n",
    "    mean = np.mean(data, axis=0)\n",
    "    return data - mean\n",
    "\n",
    "zeroCentering = FunctionTransformer(zeroCentering_func)"
   ],
   "id": "92a906bdebf7f1c7",
   "outputs": [],
   "execution_count": 8
  },
  {
   "metadata": {
    "ExecuteTime": {
     "end_time": "2024-11-12T04:28:56.473380Z",
     "start_time": "2024-11-12T04:28:56.432908Z"
    }
   },
   "cell_type": "code",
   "source": [
    "# HOG 특징 추출 (36s 소요)\n",
    "from skimage.feature import hog\n",
    "\n",
    "def hog_extract_func(data):\n",
    "    hog_features = []\n",
    "    for img in data:\n",
    "        img_reshaped = np.reshape(img, (28, 28)).T\n",
    "        features = hog(img_reshaped, orientations=8, pixels_per_cell=(7, 7), cells_per_block=(1, 1))\n",
    "        hog_features.append(features)\n",
    "    return np.array(hog_features)\n",
    "\n",
    "hog_extract = FunctionTransformer(hog_extract_func)"
   ],
   "id": "56b875ec8995c716",
   "outputs": [],
   "execution_count": 9
  },
  {
   "metadata": {
    "ExecuteTime": {
     "end_time": "2024-11-12T04:28:56.617852Z",
     "start_time": "2024-11-12T04:28:56.483341Z"
    }
   },
   "cell_type": "code",
   "source": [
    "# PCA 적용 (9s 소요)\n",
    "from sklearn.decomposition import PCA\n",
    "\n",
    "def pca_process_func(data):\n",
    "    pca = PCA(n_components=50)\n",
    "    return pca.fit_transform(data)\n",
    "\n",
    "pca_process = FunctionTransformer(pca_process_func)"
   ],
   "id": "16b7f87bc424203a",
   "outputs": [],
   "execution_count": 10
  },
  {
   "metadata": {
    "ExecuteTime": {
     "end_time": "2024-11-12T04:28:56.984496Z",
     "start_time": "2024-11-12T04:28:56.654649Z"
    }
   },
   "cell_type": "code",
   "source": [
    "# 데이터 전처리 (Zero Centering)\n",
    "Z_data = make_pipeline(\n",
    "    zeroCentering\n",
    ").fit_transform(x_train)"
   ],
   "id": "d584b2d5bea204a4",
   "outputs": [],
   "execution_count": 11
  },
  {
   "metadata": {
    "ExecuteTime": {
     "end_time": "2024-11-12T04:29:36.309696Z",
     "start_time": "2024-11-12T04:28:56.996141Z"
    }
   },
   "cell_type": "code",
   "source": [
    "# 데이터 전처리 (Zero Centering, HOG) (39s 소요)\n",
    "ZH_data = make_pipeline(\n",
    "    zeroCentering, \n",
    "    hog_extract\n",
    ").fit_transform(x_train)"
   ],
   "id": "55aa267bffff748d",
   "outputs": [],
   "execution_count": 12
  },
  {
   "metadata": {
    "ExecuteTime": {
     "end_time": "2024-11-12T04:29:50.046406Z",
     "start_time": "2024-11-12T04:29:36.320014Z"
    }
   },
   "cell_type": "code",
   "source": [
    "# 데이터 전처리 (Zero Centering, PCA) (15s 소요)\n",
    "ZP_data = make_pipeline(\n",
    "    zeroCentering,\n",
    "    pca_process\n",
    ").fit_transform(x_train)"
   ],
   "id": "b99bf43ccf2efbee",
   "outputs": [],
   "execution_count": 13
  },
  {
   "metadata": {},
   "cell_type": "markdown",
   "source": "## 데이터 학습",
   "id": "c70919bf0dbb92ea"
  },
  {
   "metadata": {
    "ExecuteTime": {
     "end_time": "2024-11-12T04:29:50.061170Z",
     "start_time": "2024-11-12T04:29:50.059160Z"
    }
   },
   "cell_type": "code",
   "source": [
    "# 하이퍼파라미터 튜닝 함수 정의\n",
    "from sklearn.model_selection import GridSearchCV\n",
    "\n",
    "def tune_model(model, data, param_grid):\n",
    "    grid_search = GridSearchCV(model, param_grid, cv=3, verbose=2, scoring='accuracy', n_jobs=-1)\n",
    "    grid_search.fit(data, y_train)\n",
    "    print(f\"Best params for\", model.__class__.__name__, \":\", grid_search.best_params_)\n",
    "    print(\"Best Cross-Validation Score:\", grid_search.best_score_)\n",
    "    return grid_search.best_estimator_, grid_search.best_params_, grid_search.best_score_"
   ],
   "id": "8bf333334880a4eb",
   "outputs": [],
   "execution_count": 14
  },
  {
   "metadata": {},
   "cell_type": "markdown",
   "source": [
    "\n",
    "## 로그 및 모델 저장"
   ],
   "id": "250b1101141dd27f"
  },
  {
   "metadata": {
    "ExecuteTime": {
     "end_time": "2024-11-12T04:29:50.073862Z",
     "start_time": "2024-11-12T04:29:50.071927Z"
    }
   },
   "cell_type": "code",
   "source": [
    "def save_log(desc, con):\n",
    "    with open('log/ML-P1.log', 'a') as f:\n",
    "        f.write(\"\\n\\n\" + desc + \"\\n\")\n",
    "        f.writelines('\\n'.join(con))"
   ],
   "id": "1e92bc77fcf3c621",
   "outputs": [],
   "execution_count": 15
  },
  {
   "metadata": {
    "ExecuteTime": {
     "end_time": "2024-11-12T04:29:50.086053Z",
     "start_time": "2024-11-12T04:29:50.084431Z"
    }
   },
   "cell_type": "code",
   "source": [
    "def save_model(model, filename):\n",
    "    joblib.dump(model, filename)"
   ],
   "id": "c315cce61bbc4fc7",
   "outputs": [],
   "execution_count": 16
  },
  {
   "metadata": {},
   "cell_type": "markdown",
   "source": "## SVC",
   "id": "5a157b8a898b4e76"
  },
  {
   "metadata": {
    "ExecuteTime": {
     "end_time": "2024-11-11T14:48:29.597121Z",
     "start_time": "2024-11-11T14:48:29.595586Z"
    }
   },
   "cell_type": "code",
   "source": "from sklearn.svm import SVC",
   "id": "9427ba6614b45a73",
   "outputs": [],
   "execution_count": 20
  },
  {
   "metadata": {},
   "cell_type": "markdown",
   "source": [
    "#### Zero Centering, HOG 데이터 사용\n",
    "---"
   ],
   "id": "3dc20da333e45109"
  },
  {
   "metadata": {},
   "cell_type": "code",
   "outputs": [],
   "execution_count": null,
   "source": [
    "# SVC GridSearch (23h 3m 소요)\n",
    "\n",
    "# 결과\n",
    "# 최적 파라미터 : c = 10 gamma = 0.1\n",
    "# 최고 스코어 : 0.9846708333333332\n",
    "\n",
    "model = SVC()\n",
    "param_grid = {\n",
    "    'C': [0.1, 1, 10, 100],\n",
    "    'gamma': [1, 0.1, 0.01, 0.001],\n",
    "    'kernel': ['rbf']\n",
    "}\n",
    "model, params, score = tune_model(model, ZH_data, param_grid)\n",
    "\n",
    "save_model(model, 'models/svc_ZH_gs.joblib')\n",
    "save_log(f'SVC ZH GridSearch {datetime.datetime.now().strftime('%Y-%m-%d %H:%M:%S')}', [\"params : \" + str(params), \"score : \" + str(score)])"
   ],
   "id": "a98838aabfd22596"
  },
  {
   "metadata": {
    "ExecuteTime": {
     "end_time": "2024-11-11T04:21:26.450562Z",
     "start_time": "2024-11-11T04:13:16.496113Z"
    }
   },
   "cell_type": "code",
   "outputs": [
    {
     "data": {
      "text/plain": [
       "['models/svc_ZH_c#10_gamma#0.1.joblib']"
      ]
     },
     "execution_count": 38,
     "metadata": {},
     "output_type": "execute_result"
    }
   ],
   "execution_count": 38,
   "source": [
    "# SVM 모델 학습 (10m 소요)\n",
    "model = SVC(kernel='rbf', C=10, gamma=0.1)\n",
    "model.fit(ZH_data, y_train)\n",
    "\n",
    "joblib.dump(model, 'models/svc_ZH_c#10_gamma#0.1.joblib')"
   ],
   "id": "9d5159c75ad1b993"
  },
  {
   "metadata": {
    "ExecuteTime": {
     "end_time": "2024-11-11T04:33:39.813892Z",
     "start_time": "2024-11-11T04:21:26.584424Z"
    }
   },
   "cell_type": "code",
   "outputs": [
    {
     "name": "stdout",
     "output_type": "stream",
     "text": [
      "SVC Cross-Validation Accuracy: 0.9785208333333333\n"
     ]
    }
   ],
   "execution_count": 39,
   "source": [
    "# SVM 모델 교차 검증 (13m 36s 소요)\n",
    "# 스코어 : 0.9851374999999999\n",
    "\n",
    "model = joblib.load(\"models/svc_ZH_c#10_gamma#0.1.joblib\")\n",
    "score = cross_val_score(model, ZH_data, y_train, cv=10, scoring='accuracy', verbose=0, n_jobs=-1)\n",
    "print(\"SVC Cross-Validation Accuracy:\", score.mean())\n",
    "save_log(f'SVC ZH Cross-Validation {datetime.datetime.now().strftime('%Y-%m-%d %H:%M:%S')}', [\"params : c = 10, gamma = 0.1\", \"score : \" + str(score.mean())])"
   ],
   "id": "77415fdd296c6002"
  },
  {
   "metadata": {},
   "cell_type": "markdown",
   "source": "## KNN",
   "id": "d0c866de9fb12979"
  },
  {
   "metadata": {
    "ExecuteTime": {
     "end_time": "2024-11-11T08:04:28.420730Z",
     "start_time": "2024-11-11T08:04:28.399707Z"
    }
   },
   "cell_type": "code",
   "outputs": [],
   "execution_count": 18,
   "source": "from sklearn.neighbors import KNeighborsClassifier",
   "id": "5a669d8cc36c2f4e"
  },
  {
   "metadata": {},
   "cell_type": "markdown",
   "source": [
    "#### Zero Centering, PCA 데이터 사용\n",
    "---"
   ],
   "id": "13da364579434621"
  },
  {
   "metadata": {
    "ExecuteTime": {
     "end_time": "2024-11-11T02:46:51.648813Z",
     "start_time": "2024-11-11T02:43:17.238709Z"
    }
   },
   "cell_type": "code",
   "outputs": [
    {
     "name": "stdout",
     "output_type": "stream",
     "text": [
      "Fitting 3 folds for each of 10 candidates, totalling 30 fits\n",
      "Best params for KNeighborsClassifier : {'n_neighbors': 3}\n",
      "Best Cross-Validation Score: 0.9846083333333334\n"
     ]
    }
   ],
   "execution_count": 23,
   "source": [
    "# KNN GridSearch (3m 소요)\n",
    "# 최적 파라미터 : n_neighbors = 5\n",
    "# 최고 스코어 : 0.9842583333333333\n",
    "\n",
    "model = KNeighborsClassifier()\n",
    "param_grid = {\n",
    "    'n_neighbors': [1, 2, 3, 4, 5, 6, 7, 8, 9, 10]\n",
    "}\n",
    "model, params, score = tune_model(model, ZP_data, param_grid)\n",
    "\n",
    "save_model(model, 'models/knn_ZP_gs.joblib')\n",
    "save_log(f'KNN ZP GridSearch {datetime.datetime.now().strftime('%Y-%m-%d %H:%M:%S')}', [\"params : \" + str(params), \"score : \" + str(score)])"
   ],
   "id": "aa91545d938a295e"
  },
  {
   "metadata": {
    "ExecuteTime": {
     "end_time": "2024-11-11T08:05:06.385084Z",
     "start_time": "2024-11-11T08:05:06.314145Z"
    }
   },
   "cell_type": "code",
   "outputs": [
    {
     "data": {
      "text/plain": [
       "['models/knn_ZP_n#3.joblib']"
      ]
     },
     "execution_count": 20,
     "metadata": {},
     "output_type": "execute_result"
    }
   ],
   "execution_count": 20,
   "source": [
    "# KNN 모델 학습 \n",
    "model = KNeighborsClassifier(n_neighbors=3)\n",
    "model.fit(ZP_data, y_train)\n",
    "\n",
    "joblib.dump(model, 'models/knn_ZP_n#3.joblib')"
   ],
   "id": "c66df1110faa739e"
  },
  {
   "metadata": {
    "ExecuteTime": {
     "end_time": "2024-11-11T04:11:07.191819Z",
     "start_time": "2024-11-11T04:10:35.954236Z"
    }
   },
   "cell_type": "code",
   "outputs": [
    {
     "name": "stdout",
     "output_type": "stream",
     "text": [
      "KNN Cross-Validation Accuracy: 0.9863\n"
     ]
    }
   ],
   "execution_count": 35,
   "source": [
    "# KNN 모델 교차 검증 (31s 소요) - 0.9863\n",
    "model = joblib.load(\"models/knn_ZP_n#3.joblib\")\n",
    "score = cross_val_score(model, ZP_data, y_train, cv=10, scoring='accuracy', verbose=0, n_jobs=-1)\n",
    "print(\"KNN Cross-Validation Accuracy:\", score.mean())\n",
    "save_log(f'KNN ZP Cross-Validation {datetime.datetime.now().strftime('%Y-%m-%d %H:%M:%S')}', [\"params : n = 3\", \"score : \" + str(score.mean())])"
   ],
   "id": "a46eb3856f115ad7"
  },
  {
   "metadata": {},
   "cell_type": "markdown",
   "source": "## Random Forest",
   "id": "6bc6b886bbd46413"
  },
  {
   "metadata": {
    "ExecuteTime": {
     "end_time": "2024-11-11T08:21:36.350650Z",
     "start_time": "2024-11-11T08:21:36.065101Z"
    }
   },
   "cell_type": "code",
   "source": "from sklearn.ensemble import RandomForestClassifier",
   "id": "bd77bc7231a89f4a",
   "outputs": [],
   "execution_count": 22
  },
  {
   "metadata": {},
   "cell_type": "markdown",
   "source": [
    "#### Zero Centering 데이터 사용\n",
    "---"
   ],
   "id": "7e354486e4c197b8"
  },
  {
   "metadata": {
    "jupyter": {
     "is_executing": true
    },
    "ExecuteTime": {
     "end_time": "2024-11-11T14:46:58.367472Z",
     "start_time": "2024-11-11T13:12:45.101233Z"
    }
   },
   "cell_type": "code",
   "source": [
    "# Random Forest GridSearch (1h 30m 소요)\n",
    "\n",
    "model = RandomForestClassifier()\n",
    "param_grid = {\n",
    "    'n_estimators': [500, 700, 1000],\n",
    "    'max_depth': [50, 100, 500]\n",
    "}\n",
    "\n",
    "model, params, score = tune_model(model, Z_data, param_grid)\n",
    "\n",
    "joblib.dump(model, 'models/randomForest_Z_gs.joblib')\n",
    "save_log(f'Random Forest Z GridSearch {datetime.datetime.now().strftime('%Y-%m-%d %H:%M:%S')}', [\"params : \" + str(params), \"score : \" + str(score)])"
   ],
   "id": "affb9f5f41e9eb03",
   "outputs": [
    {
     "name": "stdout",
     "output_type": "stream",
     "text": [
      "Fitting 3 folds for each of 9 candidates, totalling 27 fits\n"
     ]
    }
   ],
   "execution_count": null
  },
  {
   "metadata": {},
   "cell_type": "markdown",
   "source": [
    "#### Zero Centering, PCA 데이터 사용\n",
    "---"
   ],
   "id": "532baa9e0ddfac20"
  },
  {
   "metadata": {
    "ExecuteTime": {
     "end_time": "2024-11-11T09:31:14.653242Z",
     "start_time": "2024-11-11T08:38:21.641696Z"
    }
   },
   "cell_type": "code",
   "source": [
    "# Random Forest GridSearch (PCA 데이터 사용) (30m 소요)\n",
    "\n",
    "# 결과\n",
    "# 최적 파라미터 : ??\n",
    "# 최고 스코어 : ??\n",
    "\n",
    "model = RandomForestClassifier()\n",
    "param_grid = {\n",
    "    'n_estimators': [50, 100, 200, 300, 500],\n",
    "    'max_depth': [10, 20, 50]\n",
    "}\n",
    "\n",
    "model, params, score = tune_model(model, ZP_data, param_grid)\n",
    "\n",
    "joblib.dump(model, 'models/randomForest_ZP_gs.joblib')\n",
    "save_log(f'Random Forest ZP GridSearch {datetime.datetime.now().strftime('%Y-%m-%d %H:%M:%S')}', [\"params : \" + str(params), \"score : \" + str(score)])"
   ],
   "id": "5d083b65507601b8",
   "outputs": [
    {
     "name": "stdout",
     "output_type": "stream",
     "text": [
      "Fitting 3 folds for each of 15 candidates, totalling 45 fits\n",
      "[CV] END .....................max_depth=10, n_estimators=200; total time= 3.9min\n",
      "[CV] END .....................max_depth=20, n_estimators=100; total time= 3.3min\n"
     ]
    },
    {
     "name": "stderr",
     "output_type": "stream",
     "text": [
      "/opt/homebrew/anaconda3/lib/python3.12/site-packages/joblib/externals/loky/process_executor.py:752: UserWarning: A worker stopped while some jobs were given to the executor. This can be caused by a too short worker timeout or by a memory leak.\n",
      "  warnings.warn(\n"
     ]
    },
    {
     "name": "stdout",
     "output_type": "stream",
     "text": [
      "[CV] END .....................max_depth=10, n_estimators=200; total time= 3.9min\n",
      "[CV] END .....................max_depth=20, n_estimators=100; total time= 3.3min\n",
      "[CV] END .....................max_depth=10, n_estimators=100; total time= 1.9min\n",
      "[CV] END ......................max_depth=20, n_estimators=50; total time= 1.5min\n",
      "[CV] END ......................max_depth=20, n_estimators=50; total time= 1.6min\n",
      "[CV] END .....................max_depth=20, n_estimators=100; total time= 3.1min\n",
      "[CV] END .....................max_depth=10, n_estimators=200; total time= 3.9min\n",
      "[CV] END ......................max_depth=20, n_estimators=50; total time= 1.6min\n",
      "[CV] END .....................max_depth=20, n_estimators=200; total time= 5.8min\n",
      "[CV] END .....................max_depth=10, n_estimators=300; total time= 6.1min\n",
      "[CV] END .....................max_depth=20, n_estimators=200; total time= 5.6min\n",
      "[CV] END ......................max_depth=10, n_estimators=50; total time= 1.0min\n",
      "[CV] END .....................max_depth=10, n_estimators=300; total time= 6.2min\n",
      "[CV] END .....................max_depth=20, n_estimators=200; total time= 5.3min\n",
      "[CV] END ......................max_depth=10, n_estimators=50; total time= 1.0min\n",
      "[CV] END .....................max_depth=10, n_estimators=300; total time= 6.2min\n",
      "[CV] END .....................max_depth=20, n_estimators=300; total time= 7.8min\n",
      "[CV] END .....................max_depth=10, n_estimators=100; total time= 1.9min\n",
      "[CV] END .....................max_depth=10, n_estimators=500; total time= 9.7min\n",
      "[CV] END ......................max_depth=50, n_estimators=50; total time= 1.4min\n",
      "[CV] END .....................max_depth=50, n_estimators=100; total time= 2.9min\n",
      "[CV] END .....................max_depth=10, n_estimators=100; total time= 1.9min\n",
      "[CV] END .....................max_depth=10, n_estimators=500; total time= 9.7min\n",
      "[CV] END ......................max_depth=50, n_estimators=50; total time= 1.5min\n",
      "[CV] END .....................max_depth=50, n_estimators=100; total time= 2.9min\n",
      "[CV] END ......................max_depth=50, n_estimators=50; total time= 1.5min\n",
      "[CV] END .....................max_depth=50, n_estimators=200; total time= 6.2min\n",
      "[CV] END ......................max_depth=10, n_estimators=50; total time= 1.0min\n",
      "[CV] END .....................max_depth=10, n_estimators=500; total time= 9.8min\n",
      "[CV] END .....................max_depth=20, n_estimators=500; total time=13.1min\n",
      "[CV] END .....................max_depth=50, n_estimators=100; total time= 2.9min\n",
      "[CV] END .....................max_depth=50, n_estimators=300; total time= 9.1min\n",
      "[CV] END .....................max_depth=20, n_estimators=300; total time= 7.8min\n",
      "[CV] END .....................max_depth=50, n_estimators=200; total time= 6.4min\n",
      "[CV] END .....................max_depth=20, n_estimators=500; total time=13.3min\n",
      "[CV] END .....................max_depth=20, n_estimators=300; total time= 7.9min\n",
      "[CV] END .....................max_depth=50, n_estimators=300; total time= 9.1min\n",
      "[CV] END .....................max_depth=20, n_estimators=500; total time=13.0min\n",
      "[CV] END .....................max_depth=50, n_estimators=300; total time= 9.0min\n",
      "[CV] END .....................max_depth=50, n_estimators=200; total time= 6.4min\n",
      "[CV] END .....................max_depth=50, n_estimators=500; total time=12.4min\n",
      "[CV] END .....................max_depth=50, n_estimators=500; total time=13.9min\n",
      "[CV] END .....................max_depth=50, n_estimators=500; total time=13.1min\n",
      "Best params for RandomForestClassifier : {'max_depth': 50, 'n_estimators': 500}\n",
      "Best Cross-Validation Score: 0.9714083333333333\n"
     ]
    }
   ],
   "execution_count": 27
  },
  {
   "metadata": {
    "ExecuteTime": {
     "end_time": "2024-11-11T08:23:41.183075Z",
     "start_time": "2024-11-11T08:21:37.037755Z"
    }
   },
   "cell_type": "code",
   "source": [
    "# Random Forest 모델 학습 (PCA 데이터 사용) (1m 30s 소요)\n",
    "model = RandomForestClassifier(n_estimators=100, max_depth=10)\n",
    "model.fit(ZP_data, y_train)\n",
    "\n",
    "joblib.dump(model, 'models/randomForest_ZP_n#100_d#10.joblib')"
   ],
   "id": "8722cdeb17aee6fd",
   "outputs": [
    {
     "data": {
      "text/plain": [
       "['models/randomForest_ZP_n#100_d#10.joblib']"
      ]
     },
     "execution_count": 23,
     "metadata": {},
     "output_type": "execute_result"
    }
   ],
   "execution_count": 23
  },
  {
   "metadata": {
    "ExecuteTime": {
     "end_time": "2024-11-11T08:26:34.481279Z",
     "start_time": "2024-11-11T08:23:41.198294Z"
    }
   },
   "cell_type": "code",
   "source": [
    "# Random Forest 모델 교차 검증 (PCA 데이터 사용) (1m 30s 소요) - 0.9863\n",
    "model = joblib.load(\"models/randomForest_ZP_n#100_d#10.joblib\")\n",
    "score = cross_val_score(model, ZP_data, y_train, cv=10, scoring='accuracy', verbose=0, n_jobs=-1)\n",
    "print(\"Random Forest Cross-Validation Accuracy:\", score.mean())\n",
    "save_log(f'Random Forest ZP Cross-Validation {datetime.datetime.now().strftime('%Y-%m-%d %H:%M:%S')}', [\"params : n = 100, d = 10\", \"score : \" + str(score.mean())])"
   ],
   "id": "1c56704832f256fe",
   "outputs": [
    {
     "name": "stdout",
     "output_type": "stream",
     "text": [
      "Random Forest Cross-Validation Accuracy: 0.9253041666666666\n"
     ]
    }
   ],
   "execution_count": 24
  },
  {
   "metadata": {},
   "cell_type": "markdown",
   "source": "## XGBoost",
   "id": "7701c21596c0b5a0"
  },
  {
   "metadata": {
    "ExecuteTime": {
     "end_time": "2024-11-12T04:29:50.145406Z",
     "start_time": "2024-11-12T04:29:50.096835Z"
    }
   },
   "cell_type": "code",
   "source": "from xgboost import XGBClassifier",
   "id": "d251b635c793cde",
   "outputs": [],
   "execution_count": 17
  },
  {
   "metadata": {},
   "cell_type": "markdown",
   "source": [
    "#### Zero Centering 데이터 사용\n",
    "---"
   ],
   "id": "3db573667e3c9e36"
  },
  {
   "metadata": {
    "jupyter": {
     "is_executing": true
    },
    "ExecuteTime": {
     "start_time": "2024-11-12T04:29:50.157596Z"
    }
   },
   "cell_type": "code",
   "source": [
    "# XGB GridSearch (1d+a 소요)\n",
    "# 최적 파라미터 : ???\n",
    "# 최고 스코어 : ???\n",
    "\n",
    "model = XGBClassifier()\n",
    "param_grid = {\n",
    "    'n_estimators': [50, 100, 200],\n",
    "    'max_depth': [3, 6, 10],\n",
    "    'learning_rate': [0.01, 0.1, 0.2],\n",
    "    'subsample': [0.8, 1.0],\n",
    "    'colsample_bytree': [0.8, 1.0]\n",
    "}\n",
    "\n",
    "model, params, score = tune_model(model, Z_data, param_grid)\n",
    "\n",
    "joblib.dump(model, 'models/xgb_Z_gs.joblib')\n",
    "save_log(f'XGB Z GridSearch {datetime.datetime.now().strftime('%Y-%m-%d %H:%M:%S')}', [\"params : \" + str(params), \"score : \" + str(score)])"
   ],
   "id": "d81d44dd65ad147b",
   "outputs": [
    {
     "name": "stdout",
     "output_type": "stream",
     "text": [
      "Fitting 3 folds for each of 108 candidates, totalling 324 fits\n"
     ]
    }
   ],
   "execution_count": null
  },
  {
   "metadata": {},
   "cell_type": "code",
   "source": [
    "# XGB 모델 교차 검증 (29m 2s 소요) - 0.9877916666666667\n",
    "xgb_model_test = joblib.load(\"models/xgb_Z_gs.joblib\")\n",
    "xgb_cv_scores, xgb_best_params, xgb_best_score = cross_val_score(xgb_model_test, x_train, y_train, cv=3, scoring='accuracy', verbose=2, n_jobs=-1)\n",
    "print(\"XGB Z Cross-Validation Accuracy:\", xgb_cv_scores.mean())"
   ],
   "id": "6328442f58da6591",
   "outputs": [],
   "execution_count": null
  },
  {
   "metadata": {
    "ExecuteTime": {
     "end_time": "2024-11-11T05:20:08.769822Z",
     "start_time": "2024-11-11T05:16:04.405577Z"
    }
   },
   "cell_type": "code",
   "source": [
    "# XGB 모델 학습 (3m 14s 소요)\n",
    "xgb = XGBClassifier()\n",
    "xgb.fit(Z_data, y_train)\n",
    "\n",
    "joblib.dump(xgb, 'models/xgb_Z_default.joblib')"
   ],
   "id": "d69e69ed3b616989",
   "outputs": [
    {
     "data": {
      "text/plain": [
       "['models/xgb_Z_default.joblib']"
      ]
     },
     "execution_count": 42,
     "metadata": {},
     "output_type": "execute_result"
    }
   ],
   "execution_count": 42
  },
  {
   "metadata": {
    "ExecuteTime": {
     "end_time": "2024-11-11T05:39:54.274743Z",
     "start_time": "2024-11-11T05:25:04.790668Z"
    }
   },
   "cell_type": "code",
   "source": [
    "# XGB 모델 교차 검증 (14m 54s 소요)\n",
    "# 스코어 : 0.9863083333333335\n",
    "\n",
    "model = joblib.load(\"models/xgb_Z_default.joblib\")\n",
    "score = cross_val_score(model, Z_data, y_train, cv=3, scoring='accuracy', verbose=0, n_jobs=-1)\n",
    "print(\"XGB Cross-Validation Accuracy:\", score.mean())\n",
    "save_log(f'XGB Z Cross-Validation {datetime.datetime.now().strftime('%Y-%m-%d %H:%M:%S')}', [\"params : default\", \"score : \" + str(score.mean())])"
   ],
   "id": "7e86a63b768f4437",
   "outputs": [
    {
     "name": "stdout",
     "output_type": "stream",
     "text": [
      "XGB Cross-Validation Accuracy: 0.9863083333333335\n"
     ]
    }
   ],
   "execution_count": 45
  },
  {
   "metadata": {},
   "cell_type": "markdown",
   "source": "## CatBoost",
   "id": "6158e7cb3cc74c03"
  },
  {
   "metadata": {
    "ExecuteTime": {
     "end_time": "2024-11-11T05:45:02.362158Z",
     "start_time": "2024-11-11T05:45:02.293245Z"
    }
   },
   "cell_type": "code",
   "source": "from catboost import CatBoostClassifier",
   "id": "9bbd69b5103530d1",
   "outputs": [],
   "execution_count": 47
  },
  {
   "metadata": {},
   "cell_type": "code",
   "outputs": [],
   "execution_count": null,
   "source": [
    "# CatBoost\n",
    "model = CatBoostClassifier()\n",
    "param_grid = {\n",
    "    'iterations': [100, 200], \n",
    "    'learning_rate': [0.1, 0.01]\n",
    "}\n",
    "catboost_best = tune_model(model, Z_data, param_grid)"
   ],
   "id": "46ce33a36e37072c"
  },
  {
   "metadata": {
    "ExecuteTime": {
     "end_time": "2024-11-11T05:53:10.370597Z",
     "start_time": "2024-11-11T05:45:03.967378Z"
    }
   },
   "cell_type": "code",
   "source": [
    "# CatBoost 모델 학습 (PCA 데이터 사용) (8m 소요)\n",
    "model = CatBoostClassifier(iterations=200, learning_rate=0.1)\n",
    "model.fit(x_train, y_train)\n",
    "\n",
    "joblib.dump(model, 'models/catBoost_Z_i#200_lr#0.1.joblib')"
   ],
   "id": "fd5d0fa08b2e8db8",
   "outputs": [
    {
     "name": "stdout",
     "output_type": "stream",
     "text": [
      "0:\tlearn: 1.9288147\ttotal: 2.75s\tremaining: 9m 7s\n",
      "1:\tlearn: 1.6956580\ttotal: 5.31s\tremaining: 8m 45s\n",
      "2:\tlearn: 1.5339664\ttotal: 7.42s\tremaining: 8m 7s\n",
      "3:\tlearn: 1.4112326\ttotal: 9.25s\tremaining: 7m 33s\n",
      "4:\tlearn: 1.3030438\ttotal: 11.1s\tremaining: 7m 11s\n",
      "5:\tlearn: 1.2183052\ttotal: 12.8s\tremaining: 6m 55s\n",
      "6:\tlearn: 1.1365113\ttotal: 14.7s\tremaining: 6m 44s\n",
      "7:\tlearn: 1.0671103\ttotal: 16.5s\tremaining: 6m 36s\n",
      "8:\tlearn: 1.0045513\ttotal: 18.3s\tremaining: 6m 29s\n",
      "9:\tlearn: 0.9533074\ttotal: 20.4s\tremaining: 6m 26s\n",
      "10:\tlearn: 0.9026773\ttotal: 22.2s\tremaining: 6m 21s\n",
      "11:\tlearn: 0.8565848\ttotal: 24.1s\tremaining: 6m 17s\n",
      "12:\tlearn: 0.8215959\ttotal: 26.4s\tremaining: 6m 19s\n",
      "13:\tlearn: 0.7827144\ttotal: 28.3s\tremaining: 6m 15s\n",
      "14:\tlearn: 0.7502030\ttotal: 30.3s\tremaining: 6m 14s\n",
      "15:\tlearn: 0.7170709\ttotal: 32.1s\tremaining: 6m 9s\n",
      "16:\tlearn: 0.6875135\ttotal: 33.9s\tremaining: 6m 5s\n",
      "17:\tlearn: 0.6638215\ttotal: 36.1s\tremaining: 6m 5s\n",
      "18:\tlearn: 0.6372687\ttotal: 38s\tremaining: 6m 1s\n",
      "19:\tlearn: 0.6173822\ttotal: 40.3s\tremaining: 6m 2s\n",
      "20:\tlearn: 0.5955722\ttotal: 42.2s\tremaining: 5m 59s\n",
      "21:\tlearn: 0.5766378\ttotal: 44.4s\tremaining: 5m 59s\n",
      "22:\tlearn: 0.5579715\ttotal: 46.4s\tremaining: 5m 57s\n",
      "23:\tlearn: 0.5397366\ttotal: 48.5s\tremaining: 5m 55s\n",
      "24:\tlearn: 0.5227836\ttotal: 51.5s\tremaining: 6m\n",
      "25:\tlearn: 0.5079080\ttotal: 54.2s\tremaining: 6m 2s\n",
      "26:\tlearn: 0.4920610\ttotal: 57s\tremaining: 6m 5s\n",
      "27:\tlearn: 0.4769506\ttotal: 59.9s\tremaining: 6m 7s\n",
      "28:\tlearn: 0.4628546\ttotal: 1m 2s\tremaining: 6m 9s\n",
      "29:\tlearn: 0.4489034\ttotal: 1m 5s\tremaining: 6m 10s\n",
      "30:\tlearn: 0.4346508\ttotal: 1m 7s\tremaining: 6m 8s\n",
      "31:\tlearn: 0.4223313\ttotal: 1m 9s\tremaining: 6m 5s\n",
      "32:\tlearn: 0.4109254\ttotal: 1m 11s\tremaining: 6m 2s\n",
      "33:\tlearn: 0.3997942\ttotal: 1m 13s\tremaining: 5m 58s\n",
      "34:\tlearn: 0.3896863\ttotal: 1m 15s\tremaining: 5m 56s\n",
      "35:\tlearn: 0.3796172\ttotal: 1m 17s\tremaining: 5m 53s\n",
      "36:\tlearn: 0.3700132\ttotal: 1m 19s\tremaining: 5m 49s\n",
      "37:\tlearn: 0.3605098\ttotal: 1m 21s\tremaining: 5m 45s\n",
      "38:\tlearn: 0.3528605\ttotal: 1m 23s\tremaining: 5m 43s\n",
      "39:\tlearn: 0.3448626\ttotal: 1m 25s\tremaining: 5m 41s\n",
      "40:\tlearn: 0.3377756\ttotal: 1m 27s\tremaining: 5m 39s\n",
      "41:\tlearn: 0.3304019\ttotal: 1m 29s\tremaining: 5m 36s\n",
      "42:\tlearn: 0.3227665\ttotal: 1m 31s\tremaining: 5m 33s\n",
      "43:\tlearn: 0.3151645\ttotal: 1m 33s\tremaining: 5m 29s\n",
      "44:\tlearn: 0.3075810\ttotal: 1m 34s\tremaining: 5m 26s\n",
      "45:\tlearn: 0.3001057\ttotal: 1m 36s\tremaining: 5m 24s\n",
      "46:\tlearn: 0.2936868\ttotal: 1m 38s\tremaining: 5m 21s\n",
      "47:\tlearn: 0.2877617\ttotal: 1m 40s\tremaining: 5m 18s\n",
      "48:\tlearn: 0.2819426\ttotal: 1m 42s\tremaining: 5m 15s\n",
      "49:\tlearn: 0.2769429\ttotal: 1m 44s\tremaining: 5m 14s\n",
      "50:\tlearn: 0.2710985\ttotal: 1m 46s\tremaining: 5m 11s\n",
      "51:\tlearn: 0.2668513\ttotal: 1m 49s\tremaining: 5m 10s\n",
      "52:\tlearn: 0.2621737\ttotal: 1m 51s\tremaining: 5m 8s\n",
      "53:\tlearn: 0.2577955\ttotal: 1m 53s\tremaining: 5m 5s\n",
      "54:\tlearn: 0.2531981\ttotal: 1m 55s\tremaining: 5m 3s\n",
      "55:\tlearn: 0.2488730\ttotal: 1m 57s\tremaining: 5m 1s\n",
      "56:\tlearn: 0.2450357\ttotal: 1m 59s\tremaining: 4m 59s\n",
      "57:\tlearn: 0.2414293\ttotal: 2m 1s\tremaining: 4m 57s\n",
      "58:\tlearn: 0.2372633\ttotal: 2m 3s\tremaining: 4m 54s\n",
      "59:\tlearn: 0.2329454\ttotal: 2m 5s\tremaining: 4m 52s\n",
      "60:\tlearn: 0.2297053\ttotal: 2m 7s\tremaining: 4m 51s\n",
      "61:\tlearn: 0.2264717\ttotal: 2m 9s\tremaining: 4m 49s\n",
      "62:\tlearn: 0.2224554\ttotal: 2m 11s\tremaining: 4m 46s\n",
      "63:\tlearn: 0.2192710\ttotal: 2m 14s\tremaining: 4m 44s\n",
      "64:\tlearn: 0.2160877\ttotal: 2m 16s\tremaining: 4m 42s\n",
      "65:\tlearn: 0.2126516\ttotal: 2m 18s\tremaining: 4m 40s\n",
      "66:\tlearn: 0.2096155\ttotal: 2m 20s\tremaining: 4m 38s\n",
      "67:\tlearn: 0.2062743\ttotal: 2m 22s\tremaining: 4m 36s\n",
      "68:\tlearn: 0.2025039\ttotal: 2m 24s\tremaining: 4m 33s\n",
      "69:\tlearn: 0.1999818\ttotal: 2m 26s\tremaining: 4m 31s\n",
      "70:\tlearn: 0.1974405\ttotal: 2m 28s\tremaining: 4m 29s\n",
      "71:\tlearn: 0.1945983\ttotal: 2m 30s\tremaining: 4m 27s\n",
      "72:\tlearn: 0.1922482\ttotal: 2m 32s\tremaining: 4m 25s\n",
      "73:\tlearn: 0.1891059\ttotal: 2m 34s\tremaining: 4m 22s\n",
      "74:\tlearn: 0.1869136\ttotal: 2m 36s\tremaining: 4m 21s\n",
      "75:\tlearn: 0.1848128\ttotal: 2m 38s\tremaining: 4m 18s\n",
      "76:\tlearn: 0.1828456\ttotal: 2m 40s\tremaining: 4m 16s\n",
      "77:\tlearn: 0.1802325\ttotal: 2m 42s\tremaining: 4m 14s\n",
      "78:\tlearn: 0.1783305\ttotal: 2m 44s\tremaining: 4m 12s\n",
      "79:\tlearn: 0.1761779\ttotal: 2m 46s\tremaining: 4m 10s\n",
      "80:\tlearn: 0.1738323\ttotal: 2m 48s\tremaining: 4m 8s\n",
      "81:\tlearn: 0.1717712\ttotal: 2m 50s\tremaining: 4m 5s\n",
      "82:\tlearn: 0.1692131\ttotal: 2m 52s\tremaining: 4m 3s\n",
      "83:\tlearn: 0.1670060\ttotal: 2m 54s\tremaining: 4m 1s\n",
      "84:\tlearn: 0.1653249\ttotal: 2m 56s\tremaining: 3m 59s\n",
      "85:\tlearn: 0.1634293\ttotal: 2m 59s\tremaining: 3m 57s\n",
      "86:\tlearn: 0.1613755\ttotal: 3m 1s\tremaining: 3m 55s\n",
      "87:\tlearn: 0.1590301\ttotal: 3m 4s\tremaining: 3m 55s\n",
      "88:\tlearn: 0.1569993\ttotal: 3m 7s\tremaining: 3m 54s\n",
      "89:\tlearn: 0.1549689\ttotal: 3m 9s\tremaining: 3m 52s\n",
      "90:\tlearn: 0.1530824\ttotal: 3m 11s\tremaining: 3m 49s\n",
      "91:\tlearn: 0.1513162\ttotal: 3m 13s\tremaining: 3m 47s\n",
      "92:\tlearn: 0.1496898\ttotal: 3m 16s\tremaining: 3m 46s\n",
      "93:\tlearn: 0.1487956\ttotal: 3m 19s\tremaining: 3m 45s\n",
      "94:\tlearn: 0.1468181\ttotal: 3m 22s\tremaining: 3m 43s\n",
      "95:\tlearn: 0.1452970\ttotal: 3m 25s\tremaining: 3m 42s\n",
      "96:\tlearn: 0.1440365\ttotal: 3m 27s\tremaining: 3m 40s\n",
      "97:\tlearn: 0.1429713\ttotal: 3m 29s\tremaining: 3m 38s\n",
      "98:\tlearn: 0.1413937\ttotal: 3m 31s\tremaining: 3m 36s\n",
      "99:\tlearn: 0.1398390\ttotal: 3m 33s\tremaining: 3m 33s\n",
      "100:\tlearn: 0.1384332\ttotal: 3m 36s\tremaining: 3m 31s\n",
      "101:\tlearn: 0.1370859\ttotal: 3m 38s\tremaining: 3m 29s\n",
      "102:\tlearn: 0.1361740\ttotal: 3m 40s\tremaining: 3m 27s\n",
      "103:\tlearn: 0.1345264\ttotal: 3m 42s\tremaining: 3m 25s\n",
      "104:\tlearn: 0.1333096\ttotal: 3m 44s\tremaining: 3m 23s\n",
      "105:\tlearn: 0.1319521\ttotal: 3m 46s\tremaining: 3m 21s\n",
      "106:\tlearn: 0.1303464\ttotal: 3m 48s\tremaining: 3m 18s\n",
      "107:\tlearn: 0.1295350\ttotal: 3m 51s\tremaining: 3m 16s\n",
      "108:\tlearn: 0.1288257\ttotal: 3m 53s\tremaining: 3m 15s\n",
      "109:\tlearn: 0.1285066\ttotal: 3m 56s\tremaining: 3m 13s\n",
      "110:\tlearn: 0.1272123\ttotal: 3m 58s\tremaining: 3m 11s\n",
      "111:\tlearn: 0.1261305\ttotal: 4m\tremaining: 3m 9s\n",
      "112:\tlearn: 0.1249863\ttotal: 4m 2s\tremaining: 3m 7s\n",
      "113:\tlearn: 0.1239984\ttotal: 4m 5s\tremaining: 3m 5s\n",
      "114:\tlearn: 0.1232695\ttotal: 4m 7s\tremaining: 3m 3s\n",
      "115:\tlearn: 0.1225808\ttotal: 4m 10s\tremaining: 3m 1s\n",
      "116:\tlearn: 0.1218881\ttotal: 4m 12s\tremaining: 2m 59s\n",
      "117:\tlearn: 0.1215134\ttotal: 4m 15s\tremaining: 2m 57s\n",
      "118:\tlearn: 0.1206292\ttotal: 4m 18s\tremaining: 2m 55s\n",
      "119:\tlearn: 0.1197096\ttotal: 4m 20s\tremaining: 2m 53s\n",
      "120:\tlearn: 0.1188005\ttotal: 4m 22s\tremaining: 2m 51s\n",
      "121:\tlearn: 0.1178280\ttotal: 4m 24s\tremaining: 2m 49s\n",
      "122:\tlearn: 0.1172506\ttotal: 4m 26s\tremaining: 2m 47s\n",
      "123:\tlearn: 0.1167385\ttotal: 4m 29s\tremaining: 2m 45s\n",
      "124:\tlearn: 0.1163590\ttotal: 4m 32s\tremaining: 2m 43s\n",
      "125:\tlearn: 0.1161697\ttotal: 4m 34s\tremaining: 2m 41s\n",
      "126:\tlearn: 0.1155643\ttotal: 4m 37s\tremaining: 2m 39s\n",
      "127:\tlearn: 0.1154803\ttotal: 4m 40s\tremaining: 2m 37s\n",
      "128:\tlearn: 0.1152958\ttotal: 4m 42s\tremaining: 2m 35s\n",
      "129:\tlearn: 0.1145702\ttotal: 4m 44s\tremaining: 2m 33s\n",
      "130:\tlearn: 0.1142424\ttotal: 4m 47s\tremaining: 2m 31s\n",
      "131:\tlearn: 0.1136513\ttotal: 4m 49s\tremaining: 2m 29s\n",
      "132:\tlearn: 0.1127138\ttotal: 4m 51s\tremaining: 2m 26s\n",
      "133:\tlearn: 0.1118275\ttotal: 4m 53s\tremaining: 2m 24s\n",
      "134:\tlearn: 0.1116367\ttotal: 4m 56s\tremaining: 2m 22s\n",
      "135:\tlearn: 0.1111626\ttotal: 4m 59s\tremaining: 2m 20s\n",
      "136:\tlearn: 0.1110988\ttotal: 5m 2s\tremaining: 2m 19s\n",
      "137:\tlearn: 0.1108792\ttotal: 5m 5s\tremaining: 2m 17s\n",
      "138:\tlearn: 0.1103841\ttotal: 5m 7s\tremaining: 2m 14s\n",
      "139:\tlearn: 0.1102179\ttotal: 5m 10s\tremaining: 2m 12s\n",
      "140:\tlearn: 0.1098590\ttotal: 5m 12s\tremaining: 2m 10s\n",
      "141:\tlearn: 0.1096303\ttotal: 5m 15s\tremaining: 2m 8s\n",
      "142:\tlearn: 0.1091724\ttotal: 5m 18s\tremaining: 2m 6s\n",
      "143:\tlearn: 0.1088866\ttotal: 5m 20s\tremaining: 2m 4s\n",
      "144:\tlearn: 0.1088852\ttotal: 5m 23s\tremaining: 2m 2s\n",
      "145:\tlearn: 0.1082150\ttotal: 5m 26s\tremaining: 2m\n",
      "146:\tlearn: 0.1078794\ttotal: 5m 28s\tremaining: 1m 58s\n",
      "147:\tlearn: 0.1078083\ttotal: 5m 31s\tremaining: 1m 56s\n",
      "148:\tlearn: 0.1077497\ttotal: 5m 34s\tremaining: 1m 54s\n",
      "149:\tlearn: 0.1075375\ttotal: 5m 37s\tremaining: 1m 52s\n",
      "150:\tlearn: 0.1070449\ttotal: 5m 40s\tremaining: 1m 50s\n",
      "151:\tlearn: 0.1069569\ttotal: 5m 42s\tremaining: 1m 48s\n",
      "152:\tlearn: 0.1064123\ttotal: 5m 45s\tremaining: 1m 46s\n",
      "153:\tlearn: 0.1058564\ttotal: 5m 47s\tremaining: 1m 43s\n",
      "154:\tlearn: 0.1052812\ttotal: 5m 49s\tremaining: 1m 41s\n",
      "155:\tlearn: 0.1049439\ttotal: 5m 52s\tremaining: 1m 39s\n",
      "156:\tlearn: 0.1046499\ttotal: 5m 54s\tremaining: 1m 37s\n",
      "157:\tlearn: 0.1043160\ttotal: 5m 57s\tremaining: 1m 35s\n",
      "158:\tlearn: 0.1041227\ttotal: 6m\tremaining: 1m 32s\n",
      "159:\tlearn: 0.1037472\ttotal: 6m 3s\tremaining: 1m 30s\n",
      "160:\tlearn: 0.1032060\ttotal: 6m 5s\tremaining: 1m 28s\n",
      "161:\tlearn: 0.1030627\ttotal: 6m 8s\tremaining: 1m 26s\n",
      "162:\tlearn: 0.1028025\ttotal: 6m 11s\tremaining: 1m 24s\n",
      "163:\tlearn: 0.1026755\ttotal: 6m 14s\tremaining: 1m 22s\n",
      "164:\tlearn: 0.1023113\ttotal: 6m 16s\tremaining: 1m 19s\n",
      "165:\tlearn: 0.1022576\ttotal: 6m 19s\tremaining: 1m 17s\n",
      "166:\tlearn: 0.1017017\ttotal: 6m 22s\tremaining: 1m 15s\n",
      "167:\tlearn: 0.1011762\ttotal: 6m 24s\tremaining: 1m 13s\n",
      "168:\tlearn: 0.1009083\ttotal: 6m 27s\tremaining: 1m 11s\n",
      "169:\tlearn: 0.1005855\ttotal: 6m 30s\tremaining: 1m 8s\n",
      "170:\tlearn: 0.1004421\ttotal: 6m 32s\tremaining: 1m 6s\n",
      "171:\tlearn: 0.1004067\ttotal: 6m 35s\tremaining: 1m 4s\n",
      "172:\tlearn: 0.0995107\ttotal: 6m 37s\tremaining: 1m 2s\n",
      "173:\tlearn: 0.0989307\ttotal: 6m 40s\tremaining: 59.8s\n",
      "174:\tlearn: 0.0987974\ttotal: 6m 42s\tremaining: 57.5s\n",
      "175:\tlearn: 0.0984699\ttotal: 6m 45s\tremaining: 55.3s\n",
      "176:\tlearn: 0.0984668\ttotal: 6m 48s\tremaining: 53.1s\n",
      "177:\tlearn: 0.0981785\ttotal: 6m 51s\tremaining: 50.8s\n",
      "178:\tlearn: 0.0980610\ttotal: 6m 54s\tremaining: 48.6s\n",
      "179:\tlearn: 0.0979723\ttotal: 6m 57s\tremaining: 46.4s\n",
      "180:\tlearn: 0.0972708\ttotal: 6m 59s\tremaining: 44.1s\n",
      "181:\tlearn: 0.0971694\ttotal: 7m 2s\tremaining: 41.8s\n",
      "182:\tlearn: 0.0970785\ttotal: 7m 5s\tremaining: 39.6s\n",
      "183:\tlearn: 0.0970777\ttotal: 7m 8s\tremaining: 37.3s\n",
      "184:\tlearn: 0.0969687\ttotal: 7m 11s\tremaining: 35s\n",
      "185:\tlearn: 0.0968420\ttotal: 7m 14s\tremaining: 32.7s\n",
      "186:\tlearn: 0.0967750\ttotal: 7m 18s\tremaining: 30.5s\n",
      "187:\tlearn: 0.0967643\ttotal: 7m 22s\tremaining: 28.2s\n",
      "188:\tlearn: 0.0966087\ttotal: 7m 26s\tremaining: 26s\n",
      "189:\tlearn: 0.0963956\ttotal: 7m 30s\tremaining: 23.7s\n",
      "190:\tlearn: 0.0958757\ttotal: 7m 33s\tremaining: 21.4s\n",
      "191:\tlearn: 0.0958054\ttotal: 7m 36s\tremaining: 19s\n",
      "192:\tlearn: 0.0957562\ttotal: 7m 39s\tremaining: 16.7s\n",
      "193:\tlearn: 0.0957330\ttotal: 7m 44s\tremaining: 14.4s\n",
      "194:\tlearn: 0.0955368\ttotal: 7m 48s\tremaining: 12s\n",
      "195:\tlearn: 0.0955040\ttotal: 7m 52s\tremaining: 9.65s\n",
      "196:\tlearn: 0.0949317\ttotal: 7m 55s\tremaining: 7.25s\n",
      "197:\tlearn: 0.0948532\ttotal: 7m 59s\tremaining: 4.84s\n",
      "198:\tlearn: 0.0946449\ttotal: 8m 2s\tremaining: 2.42s\n",
      "199:\tlearn: 0.0943465\ttotal: 8m 5s\tremaining: 0us\n"
     ]
    },
    {
     "data": {
      "text/plain": [
       "['models/catBoost_Z_i#200_lr#0.1.joblib']"
      ]
     },
     "execution_count": 48,
     "metadata": {},
     "output_type": "execute_result"
    }
   ],
   "execution_count": 48
  },
  {
   "metadata": {},
   "cell_type": "code",
   "source": [
    "# CatBoost 모델 교차 검증 (PCA 데이터 사용) (?? 소요) - ??\n",
    "model = joblib.load(\"models/catBoost_Z_i#200_lr#0.1.joblib\")\n",
    "score = cross_val_score(model, x_train, y_train, cv=10, scoring='accuracy', verbose=2, n_jobs=-1)\n",
    "print(\"CatBoost Cross-Validation Accuracy:\", score.mean())\n",
    "save_log(f'CatBoost Z Cross-Validation {datetime.datetime.now().strftime('%Y-%m-%d %H:%M:%S')}', [\"params : iterations = 200, learning_rate = 0.1\", \"score : \" + str(score.mean())])"
   ],
   "id": "5894501975f53351",
   "outputs": [],
   "execution_count": null
  },
  {
   "metadata": {},
   "cell_type": "markdown",
   "source": "## SDG Classifier",
   "id": "ca28190a7e6ce100"
  },
  {
   "metadata": {
    "ExecuteTime": {
     "end_time": "2024-11-11T08:02:35.372752Z",
     "start_time": "2024-11-11T08:02:34.611166Z"
    }
   },
   "cell_type": "code",
   "source": [
    "# SGD 모델 학습 (원본 데이터 사용) (12s 소요)\n",
    "from sklearn.linear_model import SGDClassifier\n",
    "\n",
    "sgd_clf = SGDClassifier(max_iter=5, tol=None, random_state=42)\n",
    "sgd_clf.fit(x_train, y_train)"
   ],
   "id": "4325bcb7b7457ebd",
   "outputs": [
    {
     "ename": "NameError",
     "evalue": "name 'x_train' is not defined",
     "output_type": "error",
     "traceback": [
      "\u001B[0;31m---------------------------------------------------------------------------\u001B[0m",
      "\u001B[0;31mNameError\u001B[0m                                 Traceback (most recent call last)",
      "Cell \u001B[0;32mIn[1], line 5\u001B[0m\n\u001B[1;32m      2\u001B[0m \u001B[38;5;28;01mfrom\u001B[39;00m \u001B[38;5;21;01msklearn\u001B[39;00m\u001B[38;5;21;01m.\u001B[39;00m\u001B[38;5;21;01mlinear_model\u001B[39;00m \u001B[38;5;28;01mimport\u001B[39;00m SGDClassifier\n\u001B[1;32m      4\u001B[0m sgd_clf \u001B[38;5;241m=\u001B[39m SGDClassifier(max_iter\u001B[38;5;241m=\u001B[39m\u001B[38;5;241m5\u001B[39m, tol\u001B[38;5;241m=\u001B[39m\u001B[38;5;28;01mNone\u001B[39;00m, random_state\u001B[38;5;241m=\u001B[39m\u001B[38;5;241m42\u001B[39m)\n\u001B[0;32m----> 5\u001B[0m sgd_clf\u001B[38;5;241m.\u001B[39mfit(x_train, y_train)\n",
      "\u001B[0;31mNameError\u001B[0m: name 'x_train' is not defined"
     ]
    }
   ],
   "execution_count": 1
  },
  {
   "metadata": {
    "ExecuteTime": {
     "end_time": "2024-11-08T14:03:55.246516Z",
     "start_time": "2024-11-08T14:02:00.773919Z"
    }
   },
   "cell_type": "code",
   "source": [
    "# SGD 모델 교차 검증 (원본 데이터 사용) (27s 소요)\n",
    "sgd_cv_scores = cross_val_score(sgd_clf, x_train, y_train, cv=10, scoring=\"accuracy\").mean()\n",
    "print(\"SGD Cross-Validation Accuracy:\", sgd_cv_scores.mean())"
   ],
   "id": "61761292d7f38bb6",
   "outputs": [
    {
     "data": {
      "text/plain": [
       "0.8844583333333335"
      ]
     },
     "execution_count": 19,
     "metadata": {},
     "output_type": "execute_result"
    }
   ],
   "execution_count": 19
  },
  {
   "metadata": {},
   "cell_type": "code",
   "outputs": [],
   "execution_count": null,
   "source": "",
   "id": "110268712ca7e2db"
  },
  {
   "metadata": {},
   "cell_type": "code",
   "outputs": [],
   "execution_count": null,
   "source": "",
   "id": "c6202471fae95446"
  },
  {
   "metadata": {},
   "cell_type": "code",
   "outputs": [],
   "execution_count": null,
   "source": "",
   "id": "21ddcd305a86d921"
  },
  {
   "metadata": {},
   "cell_type": "code",
   "outputs": [],
   "execution_count": null,
   "source": "",
   "id": "82957ee02f4a0f19"
  },
  {
   "metadata": {},
   "cell_type": "code",
   "outputs": [],
   "execution_count": null,
   "source": "",
   "id": "efa96253429f40bb"
  },
  {
   "metadata": {},
   "cell_type": "code",
   "outputs": [],
   "execution_count": null,
   "source": "",
   "id": "4908c953c49ddc25"
  },
  {
   "metadata": {},
   "cell_type": "code",
   "outputs": [],
   "execution_count": null,
   "source": [
    "from sklearn.model_selection import cross_val_score\n",
    "\n",
    "# SVM 모델 교차 검증\n",
    "svm_cv_scores = cross_val_score(SVC(kernel='rbf', C=10, gamma=0.01), X_train_hog, y_train, cv=5, scoring='accuracy')\n",
    "print(\"SVM Cross-Validation Accuracy:\", svm_cv_scores.mean())\n",
    "\n",
    "# KNN 모델 교차 검증\n",
    "knn_cv_scores = cross_val_score(KNeighborsClassifier(n_neighbors=5), X_train_pca, y_train, cv=5, scoring='accuracy')\n",
    "print(\"KNN Cross-Validation Accuracy:\", knn_cv_scores.mean())\n",
    "\n",
    "# 랜덤 포레스트 모델 교차 검증\n",
    "rf_cv_scores = cross_val_score(RandomForestClassifier(n_estimators=100, max_depth=10), X_train_rf, y_train, cv=5, scoring='accuracy')\n",
    "print(\"Random Forest Cross-Validation Accuracy:\", rf_cv_scores.mean())\n",
    "\n",
    "# 로지스틱 회귀 모델 교차 검증\n",
    "lr_cv_scores = cross_val_score(LogisticRegression(max_iter=1000), X_train_scaled, y_train, cv=5, scoring='accuracy')\n",
    "print(\"Logistic Regression Cross-Validation Accuracy:\", lr_cv_scores.mean())\n",
    "\n",
    "# 스태킹 모델 교차 검증\n",
    "stacking_cv_scores = cross_val_score(stacking_clf, X_train_scaled, y_train, cv=5, scoring='accuracy')\n",
    "print(\"Stacking Model Cross-Validation Accuracy:\", stacking_cv_scores.mean())"
   ],
   "id": "7228f499556ed426"
  },
  {
   "metadata": {},
   "cell_type": "code",
   "outputs": [],
   "execution_count": null,
   "source": [
    "# 개별 모델 정확도 평가\n",
    "y_pred_svm = svm.predict(X_test_hog)\n",
    "y_pred_knn = knn.predict(X_test_pca)\n",
    "y_pred_rf = rf.predict(X_test_rf)\n",
    "y_pred_lr = lr.predict(X_test_scaled)\n",
    "\n",
    "print(\"SVM Accuracy:\", accuracy_score(y_test, y_pred_svm))\n",
    "print(\"KNN Accuracy:\", accuracy_score(y_test, y_pred_knn))\n",
    "print(\"Random Forest Accuracy:\", accuracy_score(y_test, y_pred_rf))\n",
    "print(\"Logistic Regression Accuracy:\", accuracy_score(y_test, y_pred_lr))\n",
    "\n",
    "# 스태킹 모델 정확도 평가\n",
    "y_pred_stack = stacking_clf.predict(X_test_scaled)\n",
    "print(\"Stacking Model Accuracy:\", accuracy_score(y_test, y_pred_stack))"
   ],
   "id": "831eea401b54fa4c"
  },
  {
   "metadata": {},
   "cell_type": "code",
   "outputs": [],
   "execution_count": null,
   "source": [
    "# 개별 모델을 StackingClassifier에 넣음\n",
    "estimators = [\n",
    "    ('svm', SVC(kernel='rbf', C=10, gamma=0.01, probability=True)),  # SVM 모델\n",
    "    ('knn', KNeighborsClassifier(n_neighbors=5)),                    # KNN 모델\n",
    "    ('rf', RandomForestClassifier(n_estimators=100, max_depth=10)),   # 랜덤 포레스트\n",
    "    ('lr', LogisticRegression(max_iter=1000))                         # 로지스틱 회귀\n",
    "]\n",
    "\n",
    "# 스태킹 모델 구성 (메타 모델: 로지스틱 회귀)\n",
    "stacking_clf = StackingClassifier(estimators=estimators, final_estimator=LogisticRegression())\n",
    "stacking_clf.fit(X_train_scaled, y_train)"
   ],
   "id": "e99f72c92769ff36"
  },
  {
   "metadata": {},
   "cell_type": "code",
   "outputs": [],
   "execution_count": null,
   "source": [
    "# 로지스틱 회귀 모델 학습\n",
    "lr = LogisticRegression(max_iter=1000)\n",
    "lr.fit(X_train_scaled, y_train)"
   ],
   "id": "40ee477a632d20f1"
  },
  {
   "metadata": {},
   "cell_type": "code",
   "outputs": [],
   "execution_count": null,
   "source": [
    "# 랜덤 포레스트 학습에 맞춘 이미지 구역 분할\n",
    "def split_image(data, num_splits=4):\n",
    "    split_features = []\n",
    "    for img in data:\n",
    "        img_reshaped = img.reshape((28, 28))\n",
    "        splits = []\n",
    "        for i in range(0, 28, 14):  # 두 개의 행 블록으로 나눔\n",
    "            for j in range(0, 28, 14):  # 두 개의 열 블록으로 나눔\n",
    "                splits.append(np.mean(img_reshaped[i:i+14, j:j+14]))  # 각 블록의 평균값\n",
    "        split_features.append(splits)\n",
    "    return np.array(split_features)\n",
    "\n",
    "X_train_rf = split_image(X_train_scaled)\n",
    "X_test_rf = split_image(X_test_scaled)\n",
    "\n",
    "# 랜덤 포레스트 모델 학습\n",
    "rf = RandomForestClassifier(n_estimators=100, max_depth=10)\n",
    "rf.fit(X_train_rf, y_train)"
   ],
   "id": "2a0b10e62186de03"
  }
 ],
 "metadata": {
  "kernelspec": {
   "display_name": "Python 3",
   "language": "python",
   "name": "python3"
  },
  "language_info": {
   "codemirror_mode": {
    "name": "ipython",
    "version": 2
   },
   "file_extension": ".py",
   "mimetype": "text/x-python",
   "name": "python",
   "nbconvert_exporter": "python",
   "pygments_lexer": "ipython2",
   "version": "2.7.6"
  }
 },
 "nbformat": 4,
 "nbformat_minor": 5
}
