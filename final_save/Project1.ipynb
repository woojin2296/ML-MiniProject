{
 "cells": [
  {
   "metadata": {},
   "cell_type": "markdown",
   "source": [
    "# Mini Project #1\n",
    "---\n",
    "\n",
    "EMNIST 데이터셋의 손글씨 숫자 이미지 분류기 개발\n",
    "\n",
    "---"
   ],
   "id": "8a77807f92f26ee"
  },
  {
   "metadata": {},
   "cell_type": "markdown",
   "source": "## 패키지 불러오기",
   "id": "637553b9aee9f75b"
  },
  {
   "metadata": {
    "ExecuteTime": {
     "end_time": "2024-11-28T01:26:49.078582Z",
     "start_time": "2024-11-28T01:26:48.296167Z"
    }
   },
   "cell_type": "code",
   "source": [
    "# ML 진행을 위한 패키지\n",
    "import numpy as np\n",
    "import pandas as pd\n",
    "from sklearn.model_selection import cross_val_score"
   ],
   "id": "fbc121e30a2defb3",
   "outputs": [],
   "execution_count": 1
  },
  {
   "metadata": {
    "ExecuteTime": {
     "end_time": "2024-11-28T01:26:49.082816Z",
     "start_time": "2024-11-28T01:26:49.081253Z"
    }
   },
   "cell_type": "code",
   "source": [
    "# 로그 및 모델 저장을 위한 패키지\n",
    "import joblib, datetime"
   ],
   "id": "b4920929233a32a",
   "outputs": [],
   "execution_count": 2
  },
  {
   "metadata": {},
   "cell_type": "markdown",
   "source": "## 데이터셋 입력 및 라벨 분리",
   "id": "a289a789fa8cfdf7"
  },
  {
   "metadata": {
    "ExecuteTime": {
     "end_time": "2024-11-28T01:26:53.834148Z",
     "start_time": "2024-11-28T01:26:49.114778Z"
    }
   },
   "cell_type": "code",
   "source": [
    "# 데이터 읽기\n",
    "input_file_name = \"data/emnist-digits-train.csv\"\n",
    "df_train = pd.read_csv(input_file_name, header=None)"
   ],
   "id": "63a64842ae695415",
   "outputs": [],
   "execution_count": 3
  },
  {
   "metadata": {
    "ExecuteTime": {
     "end_time": "2024-11-28T01:26:53.844285Z",
     "start_time": "2024-11-28T01:26:53.842898Z"
    }
   },
   "cell_type": "code",
   "source": [
    "# DataFrame 객체를 numpy 배열로 변환\n",
    "np_train = df_train.to_numpy()"
   ],
   "id": "409d07a559213f3a",
   "outputs": [],
   "execution_count": 4
  },
  {
   "metadata": {
    "ExecuteTime": {
     "end_time": "2024-11-28T01:26:53.850775Z",
     "start_time": "2024-11-28T01:26:53.849400Z"
    }
   },
   "cell_type": "code",
   "source": [
    "# 학습 셋 분리\n",
    "x_train = np_train[:, 1:]"
   ],
   "id": "cde1f215f7686ccf",
   "outputs": [],
   "execution_count": 5
  },
  {
   "metadata": {
    "ExecuteTime": {
     "end_time": "2024-11-28T01:26:53.856809Z",
     "start_time": "2024-11-28T01:26:53.855533Z"
    }
   },
   "cell_type": "code",
   "source": [
    "# 레이블 분리\n",
    "y_train = np_train[:, 0]"
   ],
   "id": "6597e906a3e2c83f",
   "outputs": [],
   "execution_count": 6
  },
  {
   "metadata": {},
   "cell_type": "markdown",
   "source": "## 데이터 전처리 함수 정의",
   "id": "5aa6da4d328ae29f"
  },
  {
   "metadata": {
    "ExecuteTime": {
     "end_time": "2024-11-28T01:26:53.863683Z",
     "start_time": "2024-11-28T01:26:53.862250Z"
    }
   },
   "cell_type": "code",
   "source": [
    "# float32 타입으로 변환\n",
    "def to_float32(data):\n",
    "    return data.astype(np.float32)"
   ],
   "id": "7794c1b86ce144d3",
   "outputs": [],
   "execution_count": 7
  },
  {
   "metadata": {
    "ExecuteTime": {
     "end_time": "2024-11-28T01:26:53.870411Z",
     "start_time": "2024-11-28T01:26:53.868693Z"
    }
   },
   "cell_type": "code",
   "source": [
    "# Zero Centering\n",
    "def zero_centering(data):\n",
    "    return data - np.mean(data, axis=0)"
   ],
   "id": "4f297aa702cc2dc5",
   "outputs": [],
   "execution_count": 8
  },
  {
   "metadata": {
    "ExecuteTime": {
     "end_time": "2024-11-28T01:26:53.877086Z",
     "start_time": "2024-11-28T01:26:53.875644Z"
    }
   },
   "cell_type": "code",
   "source": [
    "# Normalization\n",
    "def normalize(data):\n",
    "    return data / np.std(data)"
   ],
   "id": "5f4faf7651bff5e7",
   "outputs": [],
   "execution_count": 9
  },
  {
   "metadata": {
    "ExecuteTime": {
     "end_time": "2024-11-28T01:26:54.011178Z",
     "start_time": "2024-11-28T01:26:53.882151Z"
    }
   },
   "cell_type": "code",
   "source": [
    "# float32 타입으로 변환 시행\n",
    "x_train = to_float32(x_train)"
   ],
   "id": "f891576be8370478",
   "outputs": [],
   "execution_count": 10
  },
  {
   "metadata": {
    "ExecuteTime": {
     "end_time": "2024-11-28T01:26:54.146351Z",
     "start_time": "2024-11-28T01:26:54.016496Z"
    }
   },
   "cell_type": "code",
   "source": [
    "# Zero Centering 시행\n",
    "x_train = zero_centering(x_train)"
   ],
   "id": "a0bf57c1b51b226a",
   "outputs": [],
   "execution_count": 11
  },
  {
   "metadata": {
    "ExecuteTime": {
     "end_time": "2024-11-28T01:26:54.434867Z",
     "start_time": "2024-11-28T01:26:54.151747Z"
    }
   },
   "cell_type": "code",
   "source": [
    "# Normalization 시행\n",
    "x_train = normalize(x_train)"
   ],
   "id": "9e5012b9aec094cb",
   "outputs": [],
   "execution_count": 12
  },
  {
   "metadata": {
    "ExecuteTime": {
     "end_time": "2024-11-28T01:26:54.464296Z",
     "start_time": "2024-11-28T01:26:54.440308Z"
    }
   },
   "cell_type": "code",
   "source": [
    "# HOG\n",
    "from skimage.feature import hog\n",
    "\n",
    "def hog_func(data):\n",
    "    hog_features = []\n",
    "    for img in data:\n",
    "\n",
    "        img_reshaped = np.reshape(img, (28, 28)).T\n",
    "\n",
    "        features = hog(\n",
    "            img_reshaped,\n",
    "            orientations=8,\n",
    "            pixels_per_cell=(7, 7),\n",
    "            cells_per_block=(1, 1)\n",
    "        )\n",
    "        hog_features.append(features)\n",
    "    return np.array(hog_features)"
   ],
   "id": "b3a54d2a6a4270b3",
   "outputs": [],
   "execution_count": 13
  },
  {
   "metadata": {
    "ExecuteTime": {
     "end_time": "2024-11-28T01:26:54.471196Z",
     "start_time": "2024-11-28T01:26:54.469453Z"
    }
   },
   "cell_type": "code",
   "source": [
    "# Dimensionality Reduction\n",
    "def dimensionality_reduction(data, num_components):\n",
    "    covariance_matrix = np.cov(data, rowvar=False)\n",
    "    eigenvalues, eigenvectors = np.linalg.eigh(covariance_matrix)\n",
    "\n",
    "    sorted_indices = np.argsort(eigenvalues)[::-1]\n",
    "    top_indices = sorted_indices[:num_components]\n",
    "\n",
    "    components = eigenvectors[:, top_indices]\n",
    "\n",
    "    transformed_data = np.dot(data, components)\n",
    "    return transformed_data"
   ],
   "id": "16b7f87bc424203a",
   "outputs": [],
   "execution_count": 14
  },
  {
   "metadata": {
    "ExecuteTime": {
     "end_time": "2024-11-28T01:26:54.477698Z",
     "start_time": "2024-11-28T01:26:54.476287Z"
    }
   },
   "cell_type": "code",
   "source": [
    "# 데이터 결합\n",
    "def combine_data(data1, data2):\n",
    "    return np.hstack([data1, data2])"
   ],
   "id": "940b53ddd376db0f",
   "outputs": [],
   "execution_count": 15
  },
  {
   "metadata": {
    "ExecuteTime": {
     "end_time": "2024-11-28T01:27:32.708863Z",
     "start_time": "2024-11-28T01:26:54.482963Z"
    }
   },
   "cell_type": "code",
   "source": [
    "# HOG 시행\n",
    "H_data = hog_func(x_train)"
   ],
   "id": "e26d45bdf2024218",
   "outputs": [],
   "execution_count": 16
  },
  {
   "metadata": {
    "ExecuteTime": {
     "end_time": "2024-11-28T01:27:35.591367Z",
     "start_time": "2024-11-28T01:27:32.714732Z"
    }
   },
   "cell_type": "code",
   "source": [
    "# Dimensionality Reduction 시행\n",
    "D_data = dimensionality_reduction(x_train, 50)"
   ],
   "id": "aac6ac356f7689af",
   "outputs": [],
   "execution_count": 17
  },
  {
   "metadata": {
    "ExecuteTime": {
     "end_time": "2024-11-28T01:27:35.696265Z",
     "start_time": "2024-11-28T01:27:35.628684Z"
    }
   },
   "cell_type": "code",
   "source": [
    "# 데이터 결합 시행\n",
    "HD_data = combine_data(H_data, D_data)"
   ],
   "id": "cc7488f5a65674d",
   "outputs": [],
   "execution_count": 18
  },
  {
   "metadata": {},
   "cell_type": "markdown",
   "source": "## Grid Search 함수 정의",
   "id": "c70919bf0dbb92ea"
  },
  {
   "metadata": {
    "ExecuteTime": {
     "end_time": "2024-11-28T01:27:35.740336Z",
     "start_time": "2024-11-28T01:27:35.733175Z"
    }
   },
   "cell_type": "code",
   "source": [
    "# 하이퍼파라미터 튜닝 함수\n",
    "from sklearn.model_selection import GridSearchCV\n",
    "\n",
    "def tune_model(model, data, param_grid):\n",
    "    grid_search = GridSearchCV(model, param_grid, cv=3, verbose=2, scoring='accuracy', n_jobs=-1)\n",
    "    grid_search.fit(data, y_train)\n",
    "    print(f\"Best params for\", model.__class__.__name__, \":\", grid_search.best_params_)\n",
    "    print(\"Best Cross-Validation Score:\", grid_search.best_score_)\n",
    "    return grid_search.best_estimator_, grid_search.best_params_, grid_search.best_score_"
   ],
   "id": "8bf333334880a4eb",
   "outputs": [],
   "execution_count": 19
  },
  {
   "metadata": {},
   "cell_type": "markdown",
   "source": "## 로그 기록 함수 정의",
   "id": "250b1101141dd27f"
  },
  {
   "metadata": {
    "ExecuteTime": {
     "end_time": "2024-11-28T01:27:35.782183Z",
     "start_time": "2024-11-28T01:27:35.776708Z"
    }
   },
   "cell_type": "code",
   "source": [
    "# 로그 저장 함수\n",
    "def save_log(desc, con):\n",
    "    with open('log/ML-P1.log', 'a') as f:\n",
    "        f.write(\"\\n\\n\" + desc + \"\\n\")\n",
    "        f.writelines('\\n'.join(con))"
   ],
   "id": "1e92bc77fcf3c621",
   "outputs": [],
   "execution_count": 20
  },
  {
   "metadata": {},
   "cell_type": "markdown",
   "source": "## KNN",
   "id": "d0c866de9fb12979"
  },
  {
   "metadata": {
    "ExecuteTime": {
     "end_time": "2024-11-27T12:35:28.126995Z",
     "start_time": "2024-11-27T12:35:28.122264Z"
    }
   },
   "cell_type": "code",
   "source": "from sklearn.neighbors import KNeighborsClassifier",
   "id": "5a669d8cc36c2f4e",
   "outputs": [],
   "execution_count": 120
  },
  {
   "metadata": {
    "ExecuteTime": {
     "end_time": "2024-11-27T13:04:32.670524Z",
     "start_time": "2024-11-27T12:35:28.149504Z"
    }
   },
   "cell_type": "code",
   "source": [
    "# zero centering, normalization 데이터로 KNN 모델 fold 3 GridSearch\n",
    "\n",
    "model = KNeighborsClassifier(n_jobs=-1)\n",
    "param_grid = {\n",
    "    'n_neighbors': [1, 2, 3, 4, 5, 6, 7, 8, 9, 10]\n",
    "}\n",
    "model, params, score = tune_model(model, x_train, param_grid)\n",
    "\n",
    "joblib.dump(model, 'models/project1/knn/knn_O_gs.joblib')\n",
    "save_log(\n",
    "    f'KNN O GridSearch {datetime.datetime.now().strftime('%Y-%m-%d %H:%M:%S')}',\n",
    "    [\n",
    "        \"params : \" + str(params),\n",
    "        \"score : \" + str(score)\n",
    "    ]\n",
    ")"
   ],
   "id": "d353dda4604d1893",
   "outputs": [
    {
     "name": "stdout",
     "output_type": "stream",
     "text": [
      "Fitting 3 folds for each of 10 candidates, totalling 30 fits\n",
      "Best params for KNeighborsClassifier : {'n_neighbors': 1}\n",
      "Best Cross-Validation Score: 0.9816291666666667\n"
     ]
    }
   ],
   "execution_count": 121
  },
  {
   "metadata": {
    "ExecuteTime": {
     "end_time": "2024-11-27T13:09:57.795414Z",
     "start_time": "2024-11-27T13:04:32.718723Z"
    }
   },
   "cell_type": "code",
   "source": [
    "# zero centering, normalization, HOG 데이터로 KNN 모델 fold 3 GridSearch\n",
    "\n",
    "model = KNeighborsClassifier()\n",
    "param_grid = {\n",
    "    'n_neighbors': [1, 2, 3, 4, 5, 6, 7, 8, 9, 10]\n",
    "}\n",
    "model, params, score = tune_model(model, H_data, param_grid)\n",
    "\n",
    "joblib.dump(model, 'models/project1/knn/knn_H_gs.joblib')\n",
    "save_log(\n",
    "    f'KNN H GridSearch {datetime.datetime.now().strftime('%Y-%m-%d %H:%M:%S')}',\n",
    "    [\n",
    "        \"params : \" + str(params),\n",
    "        \"score : \" + str(score)\n",
    "    ]\n",
    ")"
   ],
   "id": "fa9ee8e1e2b6aa88",
   "outputs": [
    {
     "name": "stdout",
     "output_type": "stream",
     "text": [
      "Fitting 3 folds for each of 10 candidates, totalling 30 fits\n",
      "Best params for KNeighborsClassifier : {'n_neighbors': 5}\n",
      "Best Cross-Validation Score: 0.9545291666666667\n"
     ]
    }
   ],
   "execution_count": 122
  },
  {
   "metadata": {
    "ExecuteTime": {
     "end_time": "2024-11-27T13:12:59.790475Z",
     "start_time": "2024-11-27T13:09:57.858183Z"
    }
   },
   "cell_type": "code",
   "source": [
    "# zero centering, normalization, dimensionality reduction 데이터로 KNN 모델 fold 3 GridSearch\n",
    "\n",
    "model = KNeighborsClassifier()\n",
    "param_grid = {\n",
    "    'n_neighbors': [1, 2, 3, 4, 5, 6, 7, 8, 9, 10]\n",
    "}\n",
    "model, params, score = tune_model(model, D_data, param_grid)\n",
    "\n",
    "joblib.dump(model, 'models/project1/knn/knn_P_gs.joblib')\n",
    "save_log(\n",
    "    f'KNN P GridSearch {datetime.datetime.now().strftime('%Y-%m-%d %H:%M:%S')}',\n",
    "    [\n",
    "        \"params : \" + str(params),\n",
    "        \"score : \" + str(score)\n",
    "    ]\n",
    ")"
   ],
   "id": "949e75ff0fd47832",
   "outputs": [
    {
     "name": "stdout",
     "output_type": "stream",
     "text": [
      "Fitting 3 folds for each of 10 candidates, totalling 30 fits\n",
      "Best params for KNeighborsClassifier : {'n_neighbors': 3}\n",
      "Best Cross-Validation Score: 0.9845541666666667\n"
     ]
    }
   ],
   "execution_count": 123
  },
  {
   "metadata": {
    "ExecuteTime": {
     "end_time": "2024-11-27T13:20:25.573595Z",
     "start_time": "2024-11-27T13:12:59.812376Z"
    }
   },
   "cell_type": "code",
   "source": [
    "# zero centering, normalization, HOG, dimensionality reduction 데이터로 KNN 모델 fold 3 GridSearch\n",
    "\n",
    "model = KNeighborsClassifier()\n",
    "param_grid = {\n",
    "    'n_neighbors': [1, 2, 3, 4, 5, 6, 7, 8, 9, 10]\n",
    "}\n",
    "model, params, score = tune_model(model, HD_data, param_grid)\n",
    "\n",
    "joblib.dump(model, 'models/project1/knn/knn_HP_gs.joblib')\n",
    "save_log(\n",
    "    f'KNN HP GridSearch {datetime.datetime.now().strftime('%Y-%m-%d %H:%M:%S')}',\n",
    "    [\n",
    "        \"params : \" + str(params), \n",
    "        \"score : \" + str(score)\n",
    "    ]\n",
    ")"
   ],
   "id": "aa91545d938a295e",
   "outputs": [
    {
     "name": "stdout",
     "output_type": "stream",
     "text": [
      "Fitting 3 folds for each of 10 candidates, totalling 30 fits\n",
      "Best params for KNeighborsClassifier : {'n_neighbors': 3}\n",
      "Best Cross-Validation Score: 0.9846750000000001\n"
     ]
    }
   ],
   "execution_count": 124
  },
  {
   "metadata": {
    "ExecuteTime": {
     "end_time": "2024-11-27T13:20:25.741981Z",
     "start_time": "2024-11-27T13:20:25.625782Z"
    }
   },
   "cell_type": "code",
   "source": [
    "# KNN 모델 학습\n",
    "\n",
    "model = KNeighborsClassifier(n_neighbors=3)\n",
    "model.fit(HD_data, y_train)\n",
    "\n",
    "joblib.dump(model, 'models/project1/knn/knn_HP_n#3.joblib')"
   ],
   "id": "c66df1110faa739e",
   "outputs": [
    {
     "data": {
      "text/plain": [
       "['models/project1/knn/knn_HP_n#3.joblib']"
      ]
     },
     "execution_count": 125,
     "metadata": {},
     "output_type": "execute_result"
    }
   ],
   "execution_count": 125
  },
  {
   "metadata": {
    "ExecuteTime": {
     "end_time": "2024-11-27T13:21:28.525835Z",
     "start_time": "2024-11-27T13:20:25.769969Z"
    }
   },
   "cell_type": "code",
   "source": [
    "# KNN 모델 교차 검증 : 1m 14s 소요\n",
    "\n",
    "model = joblib.load(\"models/project1/knn/knn_HP_n#3.joblib\")\n",
    "score = cross_val_score(model, HD_data, y_train, cv=10, scoring='accuracy', verbose=0, n_jobs=-1)\n",
    "\n",
    "print(\"KNN Cross-Validation Accuracy:\", score.mean())\n",
    "save_log(\n",
    "    f'KNN HP Cross-Validation {datetime.datetime.now().strftime('%Y-%m-%d %H:%M:%S')}',\n",
    "    [\n",
    "        \"params : n = 3\", \n",
    "        \"score : \" + str(score.mean())\n",
    "    ]\n",
    ")"
   ],
   "id": "a46eb3856f115ad7",
   "outputs": [
    {
     "name": "stdout",
     "output_type": "stream",
     "text": [
      "KNN Cross-Validation Accuracy: 0.9863375\n"
     ]
    }
   ],
   "execution_count": 126
  },
  {
   "metadata": {},
   "cell_type": "markdown",
   "source": "## Random Forest",
   "id": "6bc6b886bbd46413"
  },
  {
   "metadata": {
    "ExecuteTime": {
     "end_time": "2024-11-27T13:21:28.616371Z",
     "start_time": "2024-11-27T13:21:28.571837Z"
    }
   },
   "cell_type": "code",
   "source": "from sklearn.ensemble import RandomForestClassifier",
   "id": "bd77bc7231a89f4a",
   "outputs": [],
   "execution_count": 127
  },
  {
   "metadata": {
    "ExecuteTime": {
     "end_time": "2024-11-27T14:36:54.377403Z",
     "start_time": "2024-11-27T13:21:28.628130Z"
    }
   },
   "cell_type": "code",
   "source": [
    "# Random Forest GridSearch : ??? 소요\n",
    "\n",
    "# 결과 ========================================\n",
    "# 최적 파라미터 : max_depth': 50, 'n_estimators': 500\n",
    "# 최고 스코어 : 0.9717333333333333\n",
    "# ============================================\n",
    "\n",
    "model = RandomForestClassifier(verbose=0)\n",
    "param_grid = {\n",
    "    'n_estimators': [50, 100, 200, 300, 500],\n",
    "    'max_depth': [10, 20, 50]\n",
    "}\n",
    "\n",
    "model, params, score = tune_model(model, HD_data, param_grid)\n",
    "\n",
    "joblib.dump(model, 'models/project1/RF/randomForest_HP_gs.joblib')\n",
    "save_log(\n",
    "    f'Random Forest HP GridSearch {datetime.datetime.now().strftime('%Y-%m-%d %H:%M:%S')}',\n",
    "    [\n",
    "        \"params : \" + str(params),\n",
    "        \"score : \" + str(score)\n",
    "    ]\n",
    ")"
   ],
   "id": "c78a926c428c011",
   "outputs": [
    {
     "name": "stdout",
     "output_type": "stream",
     "text": [
      "Fitting 3 folds for each of 15 candidates, totalling 45 fits\n",
      "[CV] END ......................................n_neighbors=1; total time= 9.7min\n",
      "[CV] END ......................................n_neighbors=6; total time= 9.7min\n",
      "[CV] END ......................................n_neighbors=9; total time=10.1min\n",
      "[CV] END ......................................n_neighbors=2; total time= 9.8min\n",
      "[CV] END ......................................n_neighbors=5; total time= 9.6min\n",
      "[CV] END ......................................n_neighbors=8; total time= 9.6min\n",
      "[CV] END ......................................n_neighbors=3; total time= 1.8min\n",
      "[CV] END ......................................n_neighbors=6; total time= 1.8min\n",
      "[CV] END ......................................n_neighbors=8; total time= 1.8min\n",
      "[CV] END ......................................n_neighbors=4; total time= 1.0min\n",
      "[CV] END ......................................n_neighbors=6; total time= 1.0min\n",
      "[CV] END .....................................n_neighbors=10; total time=  59.8s\n",
      "[CV] END ......................................n_neighbors=1; total time= 2.5min\n",
      "[CV] END ......................................n_neighbors=4; total time= 2.5min\n",
      "[CV] END ......................................n_neighbors=8; total time= 2.5min\n",
      "[CV] END .....................max_depth=10, n_estimators=100; total time= 2.4min\n",
      "[CV] END ......................max_depth=20, n_estimators=50; total time= 2.4min\n"
     ]
    },
    {
     "name": "stderr",
     "output_type": "stream",
     "text": [
      "/opt/homebrew/anaconda3/lib/python3.12/site-packages/joblib/externals/loky/process_executor.py:752: UserWarning: A worker stopped while some jobs were given to the executor. This can be caused by a too short worker timeout or by a memory leak.\n",
      "  warnings.warn(\n"
     ]
    },
    {
     "name": "stdout",
     "output_type": "stream",
     "text": [
      "[CV] END ......................................n_neighbors=3; total time= 9.7min\n",
      "[CV] END ......................................n_neighbors=5; total time= 9.7min\n",
      "[CV] END ......................................n_neighbors=9; total time=10.1min\n",
      "[CV] END ......................................n_neighbors=3; total time= 9.8min\n",
      "[CV] END ......................................n_neighbors=6; total time= 9.6min\n",
      "[CV] END ......................................n_neighbors=9; total time= 9.6min\n",
      "[CV] END ......................................n_neighbors=4; total time= 1.8min\n",
      "[CV] END ......................................n_neighbors=6; total time= 1.8min\n",
      "[CV] END .....................................n_neighbors=10; total time= 1.8min\n",
      "[CV] END ......................................n_neighbors=3; total time= 1.0min\n",
      "[CV] END ......................................n_neighbors=5; total time=  59.8s\n",
      "[CV] END ......................................n_neighbors=8; total time=  59.9s\n",
      "[CV] END ......................................n_neighbors=3; total time= 2.5min\n",
      "[CV] END ......................................n_neighbors=5; total time= 2.5min\n",
      "[CV] END ......................................n_neighbors=8; total time= 2.5min\n",
      "[CV] END .....................max_depth=10, n_estimators=200; total time= 4.8min\n",
      "[CV] END ......................max_depth=20, n_estimators=50; total time= 2.1min\n",
      "[CV] END ......................................n_neighbors=2; total time= 9.7min\n",
      "[CV] END ......................................n_neighbors=6; total time= 9.7min\n",
      "[CV] END .....................................n_neighbors=10; total time=10.0min\n",
      "[CV] END ......................................n_neighbors=2; total time= 9.8min\n",
      "[CV] END ......................................n_neighbors=7; total time= 9.6min\n",
      "[CV] END .....................................n_neighbors=10; total time= 9.6min\n",
      "[CV] END ......................................n_neighbors=2; total time= 1.8min\n",
      "[CV] END ......................................n_neighbors=7; total time= 1.8min\n",
      "[CV] END .....................................n_neighbors=10; total time= 1.8min\n",
      "[CV] END ......................................n_neighbors=3; total time= 1.0min\n",
      "[CV] END ......................................n_neighbors=6; total time=  59.8s\n",
      "[CV] END ......................................n_neighbors=9; total time=  59.6s\n",
      "[CV] END ......................................n_neighbors=2; total time= 2.5min\n",
      "[CV] END ......................................n_neighbors=5; total time= 2.5min\n",
      "[CV] END ......................................n_neighbors=9; total time= 2.5min\n",
      "[CV] END .....................max_depth=10, n_estimators=200; total time= 4.8min\n",
      "[CV] END .....................max_depth=20, n_estimators=100; total time= 4.1min\n",
      "[CV] END ......................................n_neighbors=3; total time= 9.8min\n",
      "[CV] END ......................................n_neighbors=7; total time= 9.7min\n",
      "[CV] END .....................................n_neighbors=10; total time=10.0min\n",
      "[CV] END ......................................n_neighbors=3; total time= 9.8min\n",
      "[CV] END ......................................n_neighbors=7; total time= 9.6min\n",
      "[CV] END .....................................n_neighbors=10; total time= 9.6min\n",
      "[CV] END ......................................n_neighbors=1; total time= 1.8min\n",
      "[CV] END ......................................n_neighbors=5; total time= 1.8min\n",
      "[CV] END ......................................n_neighbors=8; total time= 1.8min\n",
      "[CV] END ......................................n_neighbors=2; total time= 1.0min\n",
      "[CV] END ......................................n_neighbors=5; total time=  59.5s\n",
      "[CV] END ......................................n_neighbors=8; total time=  59.8s\n",
      "[CV] END ......................................n_neighbors=4; total time= 2.5min\n",
      "[CV] END ......................................n_neighbors=6; total time= 2.5min\n",
      "[CV] END .....................................n_neighbors=10; total time= 2.5min\n",
      "[CV] END .....................max_depth=10, n_estimators=200; total time= 4.9min\n",
      "[CV] END .....................max_depth=20, n_estimators=100; total time= 4.1min\n",
      "[CV] END ......................max_depth=20, n_estimators=50; total time= 2.1min\n",
      "[CV] END .....................max_depth=20, n_estimators=200; total time= 7.5min\n",
      "[CV] END ......................................n_neighbors=3; total time= 9.6min\n",
      "[CV] END ......................................n_neighbors=5; total time= 9.7min\n",
      "[CV] END ......................................n_neighbors=8; total time=10.1min\n",
      "[CV] END ......................................n_neighbors=4; total time= 9.8min\n",
      "[CV] END ......................................n_neighbors=6; total time= 9.6min\n",
      "[CV] END .....................................n_neighbors=10; total time= 9.6min\n",
      "[CV] END ......................................n_neighbors=3; total time= 1.8min\n",
      "[CV] END ......................................n_neighbors=7; total time= 1.8min\n",
      "[CV] END ......................................n_neighbors=9; total time= 1.8min\n",
      "[CV] END ......................................n_neighbors=2; total time= 1.0min\n",
      "[CV] END ......................................n_neighbors=4; total time=  59.5s\n",
      "[CV] END ......................................n_neighbors=7; total time=  59.8s\n",
      "[CV] END ......................................n_neighbors=1; total time= 2.5min\n",
      "[CV] END ......................................n_neighbors=7; total time= 2.5min\n",
      "[CV] END .....................................n_neighbors=10; total time= 2.5min\n",
      "[CV] END .....................max_depth=10, n_estimators=300; total time= 7.1min\n",
      "[CV] END .....................max_depth=20, n_estimators=200; total time= 7.5min\n",
      "[CV] END ......................................n_neighbors=2; total time= 9.7min\n",
      "[CV] END ......................................n_neighbors=6; total time= 9.7min\n",
      "[CV] END ......................................n_neighbors=9; total time=10.0min\n",
      "[CV] END ......................................n_neighbors=3; total time= 9.8min\n",
      "[CV] END ......................................n_neighbors=5; total time= 9.6min\n",
      "[CV] END ......................................n_neighbors=9; total time= 9.6min\n",
      "[CV] END ......................................n_neighbors=1; total time= 1.8min\n",
      "[CV] END ......................................n_neighbors=5; total time= 1.8min\n",
      "[CV] END .....................................n_neighbors=10; total time= 1.8min\n",
      "[CV] END ......................................n_neighbors=3; total time= 1.0min\n",
      "[CV] END ......................................n_neighbors=6; total time= 1.0min\n",
      "[CV] END .....................................n_neighbors=10; total time=  59.7s\n",
      "[CV] END ......................................n_neighbors=2; total time= 2.5min\n",
      "[CV] END ......................................n_neighbors=4; total time= 2.5min\n",
      "[CV] END ......................................n_neighbors=7; total time= 2.5min\n",
      "[CV] END ......................max_depth=10, n_estimators=50; total time= 1.2min\n",
      "[CV] END .....................max_depth=10, n_estimators=300; total time= 7.0min\n",
      "[CV] END .....................max_depth=20, n_estimators=200; total time= 7.4min\n",
      "[CV] END ......................................n_neighbors=2; total time= 9.6min\n",
      "[CV] END ......................................n_neighbors=5; total time= 9.7min\n",
      "[CV] END ......................................n_neighbors=8; total time=10.1min\n",
      "[CV] END ......................................n_neighbors=2; total time= 9.8min\n",
      "[CV] END ......................................n_neighbors=4; total time= 9.6min\n",
      "[CV] END ......................................n_neighbors=8; total time= 9.6min\n",
      "[CV] END ......................................n_neighbors=2; total time= 1.8min\n",
      "[CV] END ......................................n_neighbors=5; total time= 1.8min\n",
      "[CV] END ......................................n_neighbors=9; total time= 1.8min\n",
      "[CV] END ......................................n_neighbors=1; total time= 1.0min\n",
      "[CV] END ......................................n_neighbors=5; total time= 1.0min\n",
      "[CV] END .....................................n_neighbors=10; total time=  59.9s\n",
      "[CV] END ......................................n_neighbors=2; total time= 2.5min\n",
      "[CV] END ......................................n_neighbors=6; total time= 2.5min\n",
      "[CV] END ......................................n_neighbors=8; total time= 2.5min\n",
      "[CV] END ......................max_depth=10, n_estimators=50; total time= 1.2min\n",
      "[CV] END .....................max_depth=10, n_estimators=300; total time= 7.0min\n",
      "[CV] END .....................max_depth=20, n_estimators=300; total time=11.1min\n",
      "[CV] END ......................................n_neighbors=1; total time= 9.6min\n",
      "[CV] END ......................................n_neighbors=4; total time= 9.7min\n",
      "[CV] END ......................................n_neighbors=7; total time=10.1min\n",
      "[CV] END ......................................n_neighbors=1; total time= 9.8min\n",
      "[CV] END ......................................n_neighbors=4; total time= 9.6min\n",
      "[CV] END ......................................n_neighbors=7; total time= 9.6min\n",
      "[CV] END ......................................n_neighbors=1; total time= 1.8min\n",
      "[CV] END ......................................n_neighbors=4; total time= 1.8min\n",
      "[CV] END ......................................n_neighbors=7; total time= 1.8min\n",
      "[CV] END ......................................n_neighbors=1; total time= 1.0min\n",
      "[CV] END ......................................n_neighbors=7; total time=  59.7s\n",
      "[CV] END ......................................n_neighbors=9; total time=  59.7s\n",
      "[CV] END ......................................n_neighbors=3; total time= 2.5min\n",
      "[CV] END ......................................n_neighbors=5; total time= 2.5min\n",
      "[CV] END ......................................n_neighbors=9; total time= 2.5min\n",
      "[CV] END .....................max_depth=10, n_estimators=100; total time= 2.4min\n",
      "[CV] END .....................max_depth=10, n_estimators=500; total time=11.8min\n",
      "[CV] END ......................max_depth=50, n_estimators=50; total time= 2.2min\n",
      "[CV] END .....................max_depth=50, n_estimators=100; total time= 4.4min\n",
      "[CV] END ......................max_depth=50, n_estimators=50; total time= 2.2min\n",
      "[CV] END .....................max_depth=50, n_estimators=200; total time= 8.8min\n",
      "[CV] END .....................max_depth=20, n_estimators=100; total time= 3.8min\n",
      "[CV] END .....................max_depth=20, n_estimators=500; total time=18.3min\n",
      "[CV] END ......................................n_neighbors=1; total time= 9.6min\n",
      "[CV] END ......................................n_neighbors=4; total time= 9.7min\n",
      "[CV] END ......................................n_neighbors=8; total time=10.1min\n",
      "[CV] END ......................................n_neighbors=1; total time= 9.8min\n",
      "[CV] END ......................................n_neighbors=5; total time= 9.6min\n",
      "[CV] END ......................................n_neighbors=8; total time= 9.6min\n",
      "[CV] END ......................................n_neighbors=2; total time= 1.8min\n",
      "[CV] END ......................................n_neighbors=6; total time= 1.8min\n",
      "[CV] END ......................................n_neighbors=9; total time= 1.8min\n",
      "[CV] END ......................................n_neighbors=1; total time= 1.0min\n",
      "[CV] END ......................................n_neighbors=4; total time=  59.7s\n",
      "[CV] END ......................................n_neighbors=8; total time=  59.8s\n",
      "[CV] END ......................................n_neighbors=1; total time= 2.5min\n",
      "[CV] END ......................................n_neighbors=7; total time= 2.5min\n",
      "[CV] END .....................................n_neighbors=10; total time= 2.5min\n",
      "[CV] END ......................max_depth=10, n_estimators=50; total time= 1.2min\n",
      "[CV] END .....................max_depth=10, n_estimators=500; total time=11.6min\n",
      "[CV] END .....................max_depth=20, n_estimators=500; total time=18.0min\n",
      "[CV] END ......................................n_neighbors=4; total time= 9.8min\n",
      "[CV] END ......................................n_neighbors=7; total time= 9.7min\n",
      "[CV] END .....................................n_neighbors=10; total time=10.0min\n",
      "[CV] END ......................................n_neighbors=1; total time= 9.8min\n",
      "[CV] END ......................................n_neighbors=6; total time= 9.6min\n",
      "[CV] END ......................................n_neighbors=9; total time= 9.6min\n",
      "[CV] END ......................................n_neighbors=3; total time= 1.8min\n",
      "[CV] END ......................................n_neighbors=4; total time= 1.8min\n",
      "[CV] END ......................................n_neighbors=8; total time= 1.8min\n",
      "[CV] END ......................................n_neighbors=2; total time= 1.0min\n",
      "[CV] END ......................................n_neighbors=7; total time=  59.7s\n",
      "[CV] END ......................................n_neighbors=9; total time=  59.7s\n",
      "[CV] END ......................................n_neighbors=3; total time= 2.5min\n",
      "[CV] END ......................................n_neighbors=6; total time= 2.5min\n",
      "[CV] END ......................................n_neighbors=9; total time= 2.5min\n",
      "[CV] END .....................max_depth=10, n_estimators=100; total time= 2.4min\n",
      "[CV] END .....................max_depth=10, n_estimators=500; total time=11.6min\n",
      "[CV] END .....................max_depth=20, n_estimators=500; total time=17.8min\n",
      "[CV] END .....................max_depth=50, n_estimators=100; total time= 4.4min\n",
      "[CV] END .....................max_depth=50, n_estimators=300; total time=12.7min\n",
      "[CV] END .....................max_depth=20, n_estimators=300; total time=11.1min\n",
      "[CV] END .....................max_depth=50, n_estimators=200; total time= 8.8min\n",
      "[CV] END .....................max_depth=20, n_estimators=300; total time=11.1min\n",
      "[CV] END .....................max_depth=50, n_estimators=300; total time=12.6min\n",
      "[CV] END .....................max_depth=50, n_estimators=300; total time=12.5min\n",
      "[CV] END ......................max_depth=50, n_estimators=50; total time= 2.2min\n",
      "[CV] END .....................max_depth=50, n_estimators=100; total time= 4.4min\n",
      "[CV] END .....................max_depth=50, n_estimators=500; total time=20.0min\n",
      "[CV] END .....................max_depth=50, n_estimators=200; total time= 8.8min\n",
      "[CV] END .....................max_depth=50, n_estimators=500; total time=18.6min\n",
      "[CV] END .....................max_depth=50, n_estimators=500; total time=19.2min\n",
      "Best params for RandomForestClassifier : {'max_depth': 50, 'n_estimators': 500}\n",
      "Best Cross-Validation Score: 0.9761208333333334\n"
     ]
    }
   ],
   "execution_count": 128
  },
  {
   "metadata": {
    "ExecuteTime": {
     "end_time": "2024-11-27T14:39:42.465075Z",
     "start_time": "2024-11-27T14:36:54.404808Z"
    }
   },
   "cell_type": "code",
   "source": [
    "# Random Forest 모델 학습 : 2m 15s 소요\n",
    "\n",
    "model = RandomForestClassifier(n_estimators=100, max_depth=10)\n",
    "model.fit(HD_data, y_train)\n",
    "\n",
    "joblib.dump(model, 'models/project1/RF/randomForest_HP_n#100_d#10.joblib')"
   ],
   "id": "8722cdeb17aee6fd",
   "outputs": [
    {
     "data": {
      "text/plain": [
       "['models/project1/RF/randomForest_HP_n#100_d#10.joblib']"
      ]
     },
     "execution_count": 129,
     "metadata": {},
     "output_type": "execute_result"
    }
   ],
   "execution_count": 129
  },
  {
   "metadata": {
    "ExecuteTime": {
     "end_time": "2024-11-27T14:43:26.231886Z",
     "start_time": "2024-11-27T14:39:42.506278Z"
    }
   },
   "cell_type": "code",
   "source": [
    "# Random Forest 모델 교차 검증 : 2m 50s 소요\n",
    "\n",
    "model = joblib.load(\"models/project1/RF/randomForest_HP_n#100_d#10.joblib\")\n",
    "score = cross_val_score(model, HD_data, y_train, cv=10, scoring='accuracy', verbose=0, n_jobs=-1)\n",
    "print(\"Random Forest Cross-Validation Accuracy:\", score.mean())\n",
    "save_log(\n",
    "    f'Random Forest HP Cross-Validation {datetime.datetime.now().strftime('%Y-%m-%d %H:%M:%S')}',\n",
    "    [\n",
    "        \"params : n_estimators = 100, max_depth = 10\",\n",
    "        \"score : \" + str(score.mean())\n",
    "    ]\n",
    ")"
   ],
   "id": "1c56704832f256fe",
   "outputs": [
    {
     "name": "stdout",
     "output_type": "stream",
     "text": [
      "Random Forest Cross-Validation Accuracy: 0.9476166666666668\n"
     ]
    }
   ],
   "execution_count": 130
  },
  {
   "metadata": {
    "ExecuteTime": {
     "end_time": "2024-11-27T14:47:54.671980Z",
     "start_time": "2024-11-27T14:43:26.273473Z"
    }
   },
   "cell_type": "code",
   "source": [
    "# Random Forest 모델 학습 : 4m 37s 소요\n",
    "\n",
    "model = RandomForestClassifier(n_estimators=500, max_depth=50, n_jobs=-1)\n",
    "model.fit(HD_data, y_train)\n",
    "\n",
    "joblib.dump(model, 'models/project1/RF/randomForest_HP_n#500_d#50.joblib')"
   ],
   "id": "30ac8c30f338e66",
   "outputs": [
    {
     "data": {
      "text/plain": [
       "['models/project1/RF/randomForest_HP_n#500_d#50.joblib']"
      ]
     },
     "execution_count": 131,
     "metadata": {},
     "output_type": "execute_result"
    }
   ],
   "execution_count": 131
  },
  {
   "metadata": {
    "ExecuteTime": {
     "start_time": "2024-11-27T14:47:54.707857Z"
    }
   },
   "cell_type": "code",
   "source": [
    "# Random Forest 모델 교차 검증 : 50m 소요\n",
    "\n",
    "model = joblib.load(\"models/project1/RF/randomForest_HP_n#500_d#50.joblib\")\n",
    "score = cross_val_score(model, HD_data, y_train, cv=10, scoring='accuracy', verbose=0, n_jobs=-1)\n",
    "print(\"Random Forest Cross-Validation Accuracy:\", score.mean())\n",
    "save_log(\n",
    "    f'Random Forest HP Cross-Validation {datetime.datetime.now().strftime('%Y-%m-%d %H:%M:%S')}',\n",
    "    [\n",
    "        \"params : n_estimators = 500, max_depth = 50\",\n",
    "        \"score : \" + str(score.mean())\n",
    "    ]\n",
    ")"
   ],
   "id": "36aec7b5c3bd1428",
   "outputs": [],
   "execution_count": null
  },
  {
   "metadata": {},
   "cell_type": "markdown",
   "source": "## XGBoost",
   "id": "7701c21596c0b5a0"
  },
  {
   "metadata": {
    "ExecuteTime": {
     "end_time": "2024-11-28T01:27:35.820021Z",
     "start_time": "2024-11-28T01:27:35.796154Z"
    }
   },
   "cell_type": "code",
   "source": "from xgboost import XGBClassifier",
   "id": "d251b635c793cde",
   "outputs": [],
   "execution_count": 21
  },
  {
   "metadata": {
    "ExecuteTime": {
     "end_time": "2024-11-28T01:43:46.658919Z",
     "start_time": "2024-11-28T01:27:35.827631Z"
    }
   },
   "cell_type": "code",
   "source": [
    "# XGB 모델 학습 : 16m 39s 소요\n",
    "\n",
    "model = XGBClassifier(n_estimators = 500, max_depth = 6, learning_rate = 0.2, subsample = 0.8, colsample_bytree = 0.6, n_jobs=-1)\n",
    "model.fit(x_train, y_train)\n",
    "\n",
    "joblib.dump(model, 'models/project1/xgb/xgb_O_ne#500_md#6_lr#02_ss#08_cb#06.joblib')"
   ],
   "id": "ac1963ed6f66c183",
   "outputs": [
    {
     "data": {
      "text/plain": [
       "['models/project1/xgb/xgb_O_ne#500_md#6_lr#02_ss#08_cb#06.joblib']"
      ]
     },
     "execution_count": 22,
     "metadata": {},
     "output_type": "execute_result"
    }
   ],
   "execution_count": 22
  },
  {
   "metadata": {
    "jupyter": {
     "is_executing": true
    },
    "ExecuteTime": {
     "start_time": "2024-11-28T01:43:46.694444Z"
    }
   },
   "cell_type": "code",
   "source": [
    "# XGB 모델 교차 검증 : 1h 47m 소요\n",
    "\n",
    "model = joblib.load(\"models/project1/xgb/xgb_O_ne#500_md#6_lr#02_ss#08_cb#06.joblib\")\n",
    "score = cross_val_score(model, x_train, y_train, cv=10, scoring='accuracy', verbose=0, n_jobs=-1)\n",
    "print(\"XGB Cross-Validation Accuracy:\", score.mean())\n",
    "save_log(\n",
    "    f'XGB O Cross-Validation {datetime.datetime.now().strftime('%Y-%m-%d %H:%M:%S')}',\n",
    "    [\n",
    "        \"params : n_estimators = 500, max_depth = 6, learning_rate = 0.2, subsample = 0.8, colsample_bytree = 0.6\",\n",
    "        \"score : \" + str(score.mean())\n",
    "    ]\n",
    ")"
   ],
   "id": "abc6f7c6c95c2998",
   "outputs": [],
   "execution_count": null
  },
  {
   "metadata": {},
   "cell_type": "code",
   "outputs": [],
   "execution_count": null,
   "source": [
    "# XGB GridSearch : ??? 소요\n",
    "\n",
    "# 결과 ========================================\n",
    "# 최적 파라미터 : n_estimators = 500, max_depth = 6, learning_rate = 0.2, subsample = 0.8, colsample_bytree = 0.6\n",
    "# 최고 스코어 : 0.9904875000000001\n",
    "# ============================================\n",
    "\n",
    "model = XGBClassifier(n_jobs=-1)\n",
    "param_grid = {\n",
    "    'n_estimators': [200 ,300, 500],\n",
    "    'max_depth': [3, 6, 10],\n",
    "    'learning_rate': [0.2, 0.3, 0.4],\n",
    "    'subsample': [0.6, 0.8, 1.0],\n",
    "    'colsample_bytree': [0.6, 0.8, 1.0]\n",
    "}\n",
    "\n",
    "model, params, score = tune_model(model, HD_data, param_grid)\n",
    "\n",
    "joblib.dump(model, 'models/project1/xgb/xgb_HP_gs.joblib')\n",
    "save_log(\n",
    "    f'XGB HP GridSearch {datetime.datetime.now().strftime('%Y-%m-%d %H:%M:%S')}',\n",
    "    [\n",
    "        \"params : \" + str(params),\n",
    "        \"score : \" + str(score)\n",
    "    ]\n",
    ")"
   ],
   "id": "d4aa55d74bea3353"
  },
  {
   "metadata": {
    "ExecuteTime": {
     "end_time": "2024-11-28T01:26:39.100998Z",
     "start_time": "2024-11-25T09:13:03.397707Z"
    }
   },
   "cell_type": "code",
   "source": [
    "# XGB 모델 학습 : 2m 39s 소요\n",
    "\n",
    "model = XGBClassifier(n_estimators = 500, max_depth = 6, learning_rate = 0.2, subsample = 0.8, colsample_bytree = 0.6, n_jobs=-1)\n",
    "model.fit(HD_data, y_train)\n",
    "\n",
    "joblib.dump(model, 'models/project1/xgb/xgb_HP_ne#500_md#6_lr#02_ss#08_cb#06.joblib')"
   ],
   "id": "3de7bdfc93504a46",
   "outputs": [
    {
     "data": {
      "text/plain": [
       "['models/project1/xgb/xgb_HP_ne#500_md#6_lr#02_ss#08_cb#06.joblib']"
      ]
     },
     "execution_count": 112,
     "metadata": {},
     "output_type": "execute_result"
    }
   ],
   "execution_count": 112
  },
  {
   "metadata": {
    "ExecuteTime": {
     "end_time": "2024-11-28T01:26:39.101183Z",
     "start_time": "2024-11-27T02:54:30.736171Z"
    }
   },
   "cell_type": "code",
   "source": [
    "# XGB 모델 교차 검증 : 9m 53s 소요\n",
    "\n",
    "model = joblib.load(\"models/project1/xgb/xgb_HP_ne#500_md#6_lr#02_ss#08_cb#06.joblib\")\n",
    "score = cross_val_score(model, HD_data, y_train, cv=10, scoring='accuracy', verbose=0, n_jobs=-1)\n",
    "print(\"XGB Cross-Validation Accuracy:\", score.mean())\n",
    "save_log(\n",
    "    f'XGB HP Cross-Validation {datetime.datetime.now().strftime('%Y-%m-%d %H:%M:%S')}',\n",
    "    [\n",
    "        \"params : n_estimators = 500, max_depth = 6, learning_rate = 0.2, subsample = 0.8, colsample_bytree = 0.6\",\n",
    "        \"score : \" + str(score.mean())\n",
    "    ]\n",
    ")"
   ],
   "id": "a85603480005517d",
   "outputs": [
    {
     "name": "stdout",
     "output_type": "stream",
     "text": [
      "XGB Cross-Validation Accuracy: 0.9907291666666668\n"
     ]
    }
   ],
   "execution_count": 21
  },
  {
   "metadata": {},
   "cell_type": "markdown",
   "source": "## CatBoost",
   "id": "5f9690e4759d6e4e"
  },
  {
   "metadata": {
    "ExecuteTime": {
     "end_time": "2024-11-25T09:50:18.621368Z",
     "start_time": "2024-11-25T09:50:17.731706Z"
    }
   },
   "cell_type": "code",
   "source": "from catboost import CatBoostClassifier",
   "id": "9bbd69b5103530d1",
   "outputs": [],
   "execution_count": 118
  },
  {
   "metadata": {
    "ExecuteTime": {
     "end_time": "2024-11-16T04:25:22.901033Z",
     "start_time": "2024-11-16T04:17:50.349700Z"
    }
   },
   "cell_type": "code",
   "source": [
    "# CatBoost 모델 학습 (Zero Centering 데이터) : 7m 32s 소요\n",
    "# 파라미터 : iterations = 200, learning_rate = 0.1\n",
    "\n",
    "model = CatBoostClassifier(iterations=200, learning_rate=0.1, verbose=0)\n",
    "model.fit(x_train, y_train)\n",
    "\n",
    "joblib.dump(model, 'models/project1/CB/catBoost_Z_i#200_lr#0.1.joblib')"
   ],
   "id": "fd5d0fa08b2e8db8",
   "outputs": [
    {
     "name": "stdout",
     "output_type": "stream",
     "text": [
      "0:\tlearn: 1.9288147\ttotal: 1.81s\tremaining: 6m\n",
      "1:\tlearn: 1.6956580\ttotal: 3.55s\tremaining: 5m 51s\n",
      "2:\tlearn: 1.5339664\ttotal: 5.31s\tremaining: 5m 48s\n",
      "3:\tlearn: 1.4112326\ttotal: 7.06s\tremaining: 5m 45s\n",
      "4:\tlearn: 1.3030438\ttotal: 8.83s\tremaining: 5m 44s\n",
      "5:\tlearn: 1.2183052\ttotal: 10.6s\tremaining: 5m 43s\n",
      "6:\tlearn: 1.1365113\ttotal: 12.4s\tremaining: 5m 41s\n",
      "7:\tlearn: 1.0671103\ttotal: 14.2s\tremaining: 5m 39s\n",
      "8:\tlearn: 1.0045513\ttotal: 15.9s\tremaining: 5m 38s\n",
      "9:\tlearn: 0.9533074\ttotal: 18s\tremaining: 5m 41s\n",
      "10:\tlearn: 0.9026773\ttotal: 20.4s\tremaining: 5m 50s\n",
      "11:\tlearn: 0.8565848\ttotal: 22.7s\tremaining: 5m 54s\n",
      "12:\tlearn: 0.8215959\ttotal: 25.6s\tremaining: 6m 8s\n",
      "13:\tlearn: 0.7827144\ttotal: 27.4s\tremaining: 6m 4s\n",
      "14:\tlearn: 0.7502030\ttotal: 29.4s\tremaining: 6m 3s\n",
      "15:\tlearn: 0.7170709\ttotal: 31.2s\tremaining: 5m 58s\n",
      "16:\tlearn: 0.6875135\ttotal: 32.9s\tremaining: 5m 54s\n",
      "17:\tlearn: 0.6638215\ttotal: 35s\tremaining: 5m 54s\n",
      "18:\tlearn: 0.6372687\ttotal: 36.9s\tremaining: 5m 51s\n",
      "19:\tlearn: 0.6173822\ttotal: 39.1s\tremaining: 5m 51s\n",
      "20:\tlearn: 0.5955722\ttotal: 41s\tremaining: 5m 49s\n",
      "21:\tlearn: 0.5766378\ttotal: 43.1s\tremaining: 5m 48s\n",
      "22:\tlearn: 0.5579715\ttotal: 44.9s\tremaining: 5m 45s\n",
      "23:\tlearn: 0.5397366\ttotal: 47s\tremaining: 5m 44s\n",
      "24:\tlearn: 0.5227836\ttotal: 48.9s\tremaining: 5m 42s\n",
      "25:\tlearn: 0.5079080\ttotal: 51.1s\tremaining: 5m 41s\n",
      "26:\tlearn: 0.4920610\ttotal: 53.1s\tremaining: 5m 40s\n",
      "27:\tlearn: 0.4769506\ttotal: 55.1s\tremaining: 5m 38s\n",
      "28:\tlearn: 0.4628546\ttotal: 57.1s\tremaining: 5m 36s\n",
      "29:\tlearn: 0.4489034\ttotal: 59s\tremaining: 5m 34s\n",
      "30:\tlearn: 0.4346508\ttotal: 1m\tremaining: 5m 32s\n",
      "31:\tlearn: 0.4223313\ttotal: 1m 2s\tremaining: 5m 29s\n",
      "32:\tlearn: 0.4109254\ttotal: 1m 4s\tremaining: 5m 28s\n",
      "33:\tlearn: 0.3997942\ttotal: 1m 6s\tremaining: 5m 25s\n",
      "34:\tlearn: 0.3896863\ttotal: 1m 8s\tremaining: 5m 23s\n",
      "35:\tlearn: 0.3796172\ttotal: 1m 10s\tremaining: 5m 21s\n",
      "36:\tlearn: 0.3700132\ttotal: 1m 12s\tremaining: 5m 18s\n",
      "37:\tlearn: 0.3605098\ttotal: 1m 14s\tremaining: 5m 16s\n",
      "38:\tlearn: 0.3528605\ttotal: 1m 16s\tremaining: 5m 14s\n",
      "39:\tlearn: 0.3448626\ttotal: 1m 18s\tremaining: 5m 12s\n",
      "40:\tlearn: 0.3377756\ttotal: 1m 20s\tremaining: 5m 11s\n",
      "41:\tlearn: 0.3304019\ttotal: 1m 22s\tremaining: 5m 9s\n",
      "42:\tlearn: 0.3227665\ttotal: 1m 24s\tremaining: 5m 6s\n",
      "43:\tlearn: 0.3151645\ttotal: 1m 25s\tremaining: 5m 4s\n",
      "44:\tlearn: 0.3075810\ttotal: 1m 27s\tremaining: 5m 1s\n",
      "45:\tlearn: 0.3001057\ttotal: 1m 29s\tremaining: 4m 59s\n",
      "46:\tlearn: 0.2936868\ttotal: 1m 31s\tremaining: 4m 57s\n",
      "47:\tlearn: 0.2877617\ttotal: 1m 33s\tremaining: 4m 55s\n",
      "48:\tlearn: 0.2819426\ttotal: 1m 34s\tremaining: 4m 52s\n",
      "49:\tlearn: 0.2769429\ttotal: 1m 37s\tremaining: 4m 51s\n",
      "50:\tlearn: 0.2710985\ttotal: 1m 39s\tremaining: 4m 49s\n",
      "51:\tlearn: 0.2668513\ttotal: 1m 41s\tremaining: 4m 48s\n",
      "52:\tlearn: 0.2621737\ttotal: 1m 43s\tremaining: 4m 47s\n",
      "53:\tlearn: 0.2577955\ttotal: 1m 45s\tremaining: 4m 45s\n",
      "54:\tlearn: 0.2531981\ttotal: 1m 47s\tremaining: 4m 43s\n",
      "55:\tlearn: 0.2488730\ttotal: 1m 49s\tremaining: 4m 41s\n",
      "56:\tlearn: 0.2450357\ttotal: 1m 51s\tremaining: 4m 39s\n",
      "57:\tlearn: 0.2414293\ttotal: 1m 53s\tremaining: 4m 37s\n",
      "58:\tlearn: 0.2372633\ttotal: 1m 55s\tremaining: 4m 35s\n",
      "59:\tlearn: 0.2329454\ttotal: 1m 57s\tremaining: 4m 33s\n",
      "60:\tlearn: 0.2297053\ttotal: 1m 59s\tremaining: 4m 32s\n",
      "61:\tlearn: 0.2264717\ttotal: 2m 1s\tremaining: 4m 31s\n",
      "62:\tlearn: 0.2224554\ttotal: 2m 3s\tremaining: 4m 28s\n",
      "63:\tlearn: 0.2192710\ttotal: 2m 5s\tremaining: 4m 27s\n",
      "64:\tlearn: 0.2160877\ttotal: 2m 7s\tremaining: 4m 25s\n",
      "65:\tlearn: 0.2126516\ttotal: 2m 9s\tremaining: 4m 23s\n",
      "66:\tlearn: 0.2096155\ttotal: 2m 11s\tremaining: 4m 21s\n",
      "67:\tlearn: 0.2062743\ttotal: 2m 13s\tremaining: 4m 19s\n",
      "68:\tlearn: 0.2025039\ttotal: 2m 15s\tremaining: 4m 17s\n",
      "69:\tlearn: 0.1999818\ttotal: 2m 17s\tremaining: 4m 16s\n",
      "70:\tlearn: 0.1974405\ttotal: 2m 19s\tremaining: 4m 14s\n",
      "71:\tlearn: 0.1945983\ttotal: 2m 21s\tremaining: 4m 11s\n",
      "72:\tlearn: 0.1922482\ttotal: 2m 23s\tremaining: 4m 10s\n",
      "73:\tlearn: 0.1891059\ttotal: 2m 25s\tremaining: 4m 8s\n",
      "74:\tlearn: 0.1869136\ttotal: 2m 27s\tremaining: 4m 6s\n",
      "75:\tlearn: 0.1848128\ttotal: 2m 29s\tremaining: 4m 4s\n",
      "76:\tlearn: 0.1828456\ttotal: 2m 31s\tremaining: 4m 2s\n",
      "77:\tlearn: 0.1802325\ttotal: 2m 33s\tremaining: 4m\n",
      "78:\tlearn: 0.1783305\ttotal: 2m 35s\tremaining: 3m 58s\n",
      "79:\tlearn: 0.1761779\ttotal: 2m 37s\tremaining: 3m 56s\n",
      "80:\tlearn: 0.1738323\ttotal: 2m 39s\tremaining: 3m 54s\n",
      "81:\tlearn: 0.1717712\ttotal: 2m 41s\tremaining: 3m 52s\n",
      "82:\tlearn: 0.1692131\ttotal: 2m 43s\tremaining: 3m 50s\n",
      "83:\tlearn: 0.1670060\ttotal: 2m 45s\tremaining: 3m 48s\n",
      "84:\tlearn: 0.1653249\ttotal: 2m 47s\tremaining: 3m 46s\n",
      "85:\tlearn: 0.1634293\ttotal: 2m 49s\tremaining: 3m 45s\n",
      "86:\tlearn: 0.1613755\ttotal: 2m 51s\tremaining: 3m 43s\n",
      "87:\tlearn: 0.1590301\ttotal: 2m 53s\tremaining: 3m 41s\n",
      "88:\tlearn: 0.1569993\ttotal: 2m 55s\tremaining: 3m 39s\n",
      "89:\tlearn: 0.1549689\ttotal: 2m 57s\tremaining: 3m 37s\n",
      "90:\tlearn: 0.1530824\ttotal: 2m 59s\tremaining: 3m 35s\n",
      "91:\tlearn: 0.1513162\ttotal: 3m 1s\tremaining: 3m 32s\n",
      "92:\tlearn: 0.1496898\ttotal: 3m 3s\tremaining: 3m 31s\n",
      "93:\tlearn: 0.1487956\ttotal: 3m 6s\tremaining: 3m 29s\n",
      "94:\tlearn: 0.1468181\ttotal: 3m 8s\tremaining: 3m 27s\n",
      "95:\tlearn: 0.1452970\ttotal: 3m 10s\tremaining: 3m 26s\n",
      "96:\tlearn: 0.1440365\ttotal: 3m 12s\tremaining: 3m 24s\n",
      "97:\tlearn: 0.1429713\ttotal: 3m 14s\tremaining: 3m 22s\n",
      "98:\tlearn: 0.1413937\ttotal: 3m 16s\tremaining: 3m 20s\n",
      "99:\tlearn: 0.1398390\ttotal: 3m 18s\tremaining: 3m 18s\n",
      "100:\tlearn: 0.1384332\ttotal: 3m 21s\tremaining: 3m 17s\n",
      "101:\tlearn: 0.1370859\ttotal: 3m 23s\tremaining: 3m 15s\n",
      "102:\tlearn: 0.1361740\ttotal: 3m 25s\tremaining: 3m 13s\n",
      "103:\tlearn: 0.1345264\ttotal: 3m 27s\tremaining: 3m 11s\n",
      "104:\tlearn: 0.1333096\ttotal: 3m 29s\tremaining: 3m 9s\n",
      "105:\tlearn: 0.1319521\ttotal: 3m 31s\tremaining: 3m 7s\n",
      "106:\tlearn: 0.1303464\ttotal: 3m 33s\tremaining: 3m 5s\n",
      "107:\tlearn: 0.1295350\ttotal: 3m 35s\tremaining: 3m 3s\n",
      "108:\tlearn: 0.1288257\ttotal: 3m 38s\tremaining: 3m 2s\n",
      "109:\tlearn: 0.1285066\ttotal: 3m 41s\tremaining: 3m 1s\n",
      "110:\tlearn: 0.1272123\ttotal: 3m 43s\tremaining: 2m 58s\n",
      "111:\tlearn: 0.1261305\ttotal: 3m 45s\tremaining: 2m 56s\n",
      "112:\tlearn: 0.1249863\ttotal: 3m 47s\tremaining: 2m 55s\n",
      "113:\tlearn: 0.1239984\ttotal: 3m 49s\tremaining: 2m 53s\n",
      "114:\tlearn: 0.1232695\ttotal: 3m 52s\tremaining: 2m 51s\n",
      "115:\tlearn: 0.1225808\ttotal: 3m 54s\tremaining: 2m 50s\n",
      "116:\tlearn: 0.1218881\ttotal: 3m 57s\tremaining: 2m 48s\n",
      "117:\tlearn: 0.1215134\ttotal: 3m 59s\tremaining: 2m 46s\n",
      "118:\tlearn: 0.1206292\ttotal: 4m 2s\tremaining: 2m 44s\n",
      "119:\tlearn: 0.1197096\ttotal: 4m 4s\tremaining: 2m 42s\n",
      "120:\tlearn: 0.1188005\ttotal: 4m 6s\tremaining: 2m 40s\n",
      "121:\tlearn: 0.1178280\ttotal: 4m 8s\tremaining: 2m 39s\n",
      "122:\tlearn: 0.1172506\ttotal: 4m 11s\tremaining: 2m 37s\n",
      "123:\tlearn: 0.1167385\ttotal: 4m 13s\tremaining: 2m 35s\n",
      "124:\tlearn: 0.1163590\ttotal: 4m 16s\tremaining: 2m 33s\n",
      "125:\tlearn: 0.1161697\ttotal: 4m 18s\tremaining: 2m 32s\n",
      "126:\tlearn: 0.1155643\ttotal: 4m 21s\tremaining: 2m 30s\n",
      "127:\tlearn: 0.1154803\ttotal: 4m 24s\tremaining: 2m 28s\n",
      "128:\tlearn: 0.1152958\ttotal: 4m 26s\tremaining: 2m 26s\n",
      "129:\tlearn: 0.1145702\ttotal: 4m 28s\tremaining: 2m 24s\n",
      "130:\tlearn: 0.1142424\ttotal: 4m 31s\tremaining: 2m 22s\n",
      "131:\tlearn: 0.1136513\ttotal: 4m 33s\tremaining: 2m 20s\n",
      "132:\tlearn: 0.1127138\ttotal: 4m 35s\tremaining: 2m 18s\n",
      "133:\tlearn: 0.1118275\ttotal: 4m 37s\tremaining: 2m 16s\n",
      "134:\tlearn: 0.1116367\ttotal: 4m 40s\tremaining: 2m 15s\n",
      "135:\tlearn: 0.1111626\ttotal: 4m 43s\tremaining: 2m 13s\n",
      "136:\tlearn: 0.1110988\ttotal: 4m 46s\tremaining: 2m 11s\n",
      "137:\tlearn: 0.1108792\ttotal: 4m 48s\tremaining: 2m 9s\n",
      "138:\tlearn: 0.1103841\ttotal: 4m 51s\tremaining: 2m 7s\n",
      "139:\tlearn: 0.1102179\ttotal: 4m 53s\tremaining: 2m 5s\n",
      "140:\tlearn: 0.1098590\ttotal: 4m 56s\tremaining: 2m 4s\n",
      "141:\tlearn: 0.1096303\ttotal: 4m 59s\tremaining: 2m 2s\n",
      "142:\tlearn: 0.1091724\ttotal: 5m 1s\tremaining: 2m\n",
      "143:\tlearn: 0.1088866\ttotal: 5m 4s\tremaining: 1m 58s\n",
      "144:\tlearn: 0.1088852\ttotal: 5m 7s\tremaining: 1m 56s\n",
      "145:\tlearn: 0.1082150\ttotal: 5m 9s\tremaining: 1m 54s\n",
      "146:\tlearn: 0.1078794\ttotal: 5m 12s\tremaining: 1m 52s\n",
      "147:\tlearn: 0.1078083\ttotal: 5m 14s\tremaining: 1m 50s\n",
      "148:\tlearn: 0.1077497\ttotal: 5m 17s\tremaining: 1m 48s\n",
      "149:\tlearn: 0.1075375\ttotal: 5m 20s\tremaining: 1m 46s\n",
      "150:\tlearn: 0.1070449\ttotal: 5m 23s\tremaining: 1m 44s\n",
      "151:\tlearn: 0.1069569\ttotal: 5m 25s\tremaining: 1m 42s\n",
      "152:\tlearn: 0.1064123\ttotal: 5m 28s\tremaining: 1m 40s\n",
      "153:\tlearn: 0.1058564\ttotal: 5m 30s\tremaining: 1m 38s\n",
      "154:\tlearn: 0.1052812\ttotal: 5m 32s\tremaining: 1m 36s\n",
      "155:\tlearn: 0.1049439\ttotal: 5m 35s\tremaining: 1m 34s\n",
      "156:\tlearn: 0.1046499\ttotal: 5m 37s\tremaining: 1m 32s\n",
      "157:\tlearn: 0.1043160\ttotal: 5m 40s\tremaining: 1m 30s\n",
      "158:\tlearn: 0.1041227\ttotal: 5m 43s\tremaining: 1m 28s\n",
      "159:\tlearn: 0.1037472\ttotal: 5m 46s\tremaining: 1m 26s\n",
      "160:\tlearn: 0.1032060\ttotal: 5m 48s\tremaining: 1m 24s\n",
      "161:\tlearn: 0.1030627\ttotal: 5m 51s\tremaining: 1m 22s\n",
      "162:\tlearn: 0.1028025\ttotal: 5m 54s\tremaining: 1m 20s\n",
      "163:\tlearn: 0.1026755\ttotal: 5m 56s\tremaining: 1m 18s\n",
      "164:\tlearn: 0.1023113\ttotal: 5m 59s\tremaining: 1m 16s\n",
      "165:\tlearn: 0.1022576\ttotal: 6m 2s\tremaining: 1m 14s\n",
      "166:\tlearn: 0.1017017\ttotal: 6m 4s\tremaining: 1m 12s\n",
      "167:\tlearn: 0.1011762\ttotal: 6m 7s\tremaining: 1m 9s\n",
      "168:\tlearn: 0.1009083\ttotal: 6m 9s\tremaining: 1m 7s\n",
      "169:\tlearn: 0.1005855\ttotal: 6m 12s\tremaining: 1m 5s\n",
      "170:\tlearn: 0.1004421\ttotal: 6m 14s\tremaining: 1m 3s\n",
      "171:\tlearn: 0.1004067\ttotal: 6m 17s\tremaining: 1m 1s\n",
      "172:\tlearn: 0.0995107\ttotal: 6m 19s\tremaining: 59.3s\n",
      "173:\tlearn: 0.0989307\ttotal: 6m 21s\tremaining: 57.1s\n",
      "174:\tlearn: 0.0987974\ttotal: 6m 24s\tremaining: 55s\n",
      "175:\tlearn: 0.0984699\ttotal: 6m 27s\tremaining: 52.8s\n",
      "176:\tlearn: 0.0984668\ttotal: 6m 30s\tremaining: 50.7s\n",
      "177:\tlearn: 0.0981785\ttotal: 6m 32s\tremaining: 48.5s\n",
      "178:\tlearn: 0.0980610\ttotal: 6m 35s\tremaining: 46.4s\n",
      "179:\tlearn: 0.0979723\ttotal: 6m 38s\tremaining: 44.2s\n",
      "180:\tlearn: 0.0972708\ttotal: 6m 40s\tremaining: 42s\n",
      "181:\tlearn: 0.0971694\ttotal: 6m 43s\tremaining: 39.9s\n",
      "182:\tlearn: 0.0970785\ttotal: 6m 45s\tremaining: 37.7s\n",
      "183:\tlearn: 0.0970777\ttotal: 6m 48s\tremaining: 35.5s\n",
      "184:\tlearn: 0.0969687\ttotal: 6m 51s\tremaining: 33.3s\n",
      "185:\tlearn: 0.0968420\ttotal: 6m 53s\tremaining: 31.2s\n",
      "186:\tlearn: 0.0967750\ttotal: 6m 56s\tremaining: 29s\n",
      "187:\tlearn: 0.0967643\ttotal: 6m 59s\tremaining: 26.8s\n",
      "188:\tlearn: 0.0966087\ttotal: 7m 2s\tremaining: 24.6s\n",
      "189:\tlearn: 0.0963956\ttotal: 7m 5s\tremaining: 22.4s\n",
      "190:\tlearn: 0.0958757\ttotal: 7m 7s\tremaining: 20.1s\n",
      "191:\tlearn: 0.0958054\ttotal: 7m 10s\tremaining: 17.9s\n",
      "192:\tlearn: 0.0957562\ttotal: 7m 13s\tremaining: 15.7s\n",
      "193:\tlearn: 0.0957330\ttotal: 7m 16s\tremaining: 13.5s\n",
      "194:\tlearn: 0.0955368\ttotal: 7m 18s\tremaining: 11.2s\n",
      "195:\tlearn: 0.0955040\ttotal: 7m 21s\tremaining: 9.01s\n",
      "196:\tlearn: 0.0949317\ttotal: 7m 23s\tremaining: 6.75s\n",
      "197:\tlearn: 0.0948532\ttotal: 7m 26s\tremaining: 4.51s\n",
      "198:\tlearn: 0.0946449\ttotal: 7m 29s\tremaining: 2.26s\n",
      "199:\tlearn: 0.0943465\ttotal: 7m 31s\tremaining: 0us\n"
     ]
    },
    {
     "data": {
      "text/plain": [
       "['models/project1/CB/catBoost_Z_i#200_lr#0.1.joblib']"
      ]
     },
     "execution_count": 50,
     "metadata": {},
     "output_type": "execute_result"
    }
   ],
   "execution_count": 50
  },
  {
   "metadata": {
    "ExecuteTime": {
     "start_time": "2024-11-16T04:25:22.911672Z"
    }
   },
   "cell_type": "code",
   "source": [
    "# CatBoost 모델 교차 검증 (Zero Centering 데이터) : 1h +a 소요\n",
    "# 파라미터 : iterations = 200, learning_rate = 0.1\n",
    "\n",
    "# 결과 ========================================\n",
    "# 스코어 : 0.9735458333333333\n",
    "# ============================================\n",
    "\n",
    "model = joblib.load(\"models/project1/CB/catBoost_Z_i#200_lr#0.1.joblib\")\n",
    "score = cross_val_score(model, x_train, y_train, cv=10, scoring='accuracy', verbose=0, n_jobs=-1)\n",
    "print(\"CatBoost Cross-Validation Accuracy:\", score.mean())\n",
    "save_log(\n",
    "    f'CatBoost Z Cross-Validation {datetime.datetime.now().strftime('%Y-%m-%d %H:%M:%S')}', \n",
    "    [\n",
    "        \"params : iterations = 200, learning_rate = 0.1\", \n",
    "        \"score : \" + str(score.mean())\n",
    "    ]\n",
    ")"
   ],
   "id": "5894501975f53351",
   "outputs": [
    {
     "name": "stderr",
     "output_type": "stream",
     "text": [
      "[Parallel(n_jobs=-1)]: Using backend LokyBackend with 10 concurrent workers.\n"
     ]
    }
   ],
   "execution_count": null
  },
  {
   "metadata": {},
   "cell_type": "markdown",
   "source": "## SDG Classifier",
   "id": "ca28190a7e6ce100"
  },
  {
   "metadata": {
    "ExecuteTime": {
     "end_time": "2024-11-16T09:20:33.162898Z",
     "start_time": "2024-11-16T09:20:33.160939Z"
    }
   },
   "cell_type": "code",
   "source": "from sklearn.linear_model import SGDClassifier",
   "id": "7dd504a95ea2b197",
   "outputs": [],
   "execution_count": 52
  },
  {
   "metadata": {},
   "cell_type": "code",
   "source": [
    "# SGD GridSearch\n",
    "\n",
    "model = SGDClassifier(verbose=0)\n",
    "param_grid = {\n",
    "    'max_iter': [5, 10, 100],\n",
    "    'tol': [1e-3, 1e-4, 1e-5]\n",
    "}\n",
    "\n",
    "model, params, score = tune_model(model, x_train, param_grid)\n",
    "\n",
    "joblib.dump(model, 'models/project1/sgd/sgd_Z_gs.joblib')\n",
    "save_log(\n",
    "    f'SGD Z GridSearch {datetime.datetime.now().strftime('%Y-%m-%d %H:%M:%S')}', \n",
    "    [\n",
    "        \"params : \" + str(params), \n",
    "        \"score : \" + str(score)\n",
    "    ]\n",
    ")"
   ],
   "id": "9a6bf6f339f4aead",
   "outputs": [],
   "execution_count": null
  },
  {
   "metadata": {
    "ExecuteTime": {
     "end_time": "2024-11-16T09:28:47.433070Z",
     "start_time": "2024-11-16T09:28:34.727598Z"
    }
   },
   "cell_type": "code",
   "source": [
    "# SGD 모델 학습 (원본 데이터) : 12s 소요\n",
    "\n",
    "model = SGDClassifier(max_iter=5, tol=None, random_state=42, verbose=0)\n",
    "model.fit(x_train, y_train)\n",
    "\n",
    "joblib.dump(model, 'models/project1/sgd/sgd_O_mi#5_t#none.joblib')"
   ],
   "id": "4325bcb7b7457ebd",
   "outputs": [
    {
     "data": {
      "text/plain": [
       "['models/project1/sgd/sgd_O_mi#5_t#none.joblib']"
      ]
     },
     "execution_count": 54,
     "metadata": {},
     "output_type": "execute_result"
    }
   ],
   "execution_count": 54
  },
  {
   "metadata": {
    "ExecuteTime": {
     "end_time": "2024-11-16T09:30:42.014263Z",
     "start_time": "2024-11-16T09:28:47.476999Z"
    }
   },
   "cell_type": "code",
   "source": [
    "# SGD 모델 교차 검증 (원본 데이터) : 1m 54s 소요\n",
    "\n",
    "model = joblib.load(\"models/project1/sgd/sgd_O_mi#5_t#none.joblib\")\n",
    "score = cross_val_score(model, x_train, y_train, cv=10, scoring=\"accuracy\").mean()\n",
    "print(\"SGD Cross-Validation Accuracy:\", score.mean())\n",
    "save_log(\n",
    "    f'SGD Cross-Validation {datetime.datetime.now().strftime('%Y-%m-%d %H:%M:%S')}', \n",
    "    [\n",
    "        \"params : max_iter = 5, tol = None\", \n",
    "        \"score : \" + str(score.mean())\n",
    "    ]\n",
    ")"
   ],
   "id": "61761292d7f38bb6",
   "outputs": [
    {
     "name": "stdout",
     "output_type": "stream",
     "text": [
      "[CV] END ..............................max_iter=5, tol=0.001; total time=  20.0s\n",
      "[CV] END ............................max_iter=100, tol=0.001; total time= 3.4min\n",
      "[CV] END .............................max_iter=10, tol=0.001; total time=  30.1s\n",
      "[CV] END ............................max_iter=100, tol=0.001; total time= 3.4min\n",
      "[CV] END .............................max_iter=5, tol=0.0001; total time=  19.5s\n",
      "[CV] END .............................max_iter=10, tol=0.001; total time=  23.2s\n",
      "[CV] END ............................max_iter=100, tol=0.001; total time= 3.3min\n",
      "[CV] END ..............................max_iter=5, tol=1e-05; total time=  19.8s\n",
      "[CV] END ............................max_iter=10, tol=0.0001; total time=  23.2s\n",
      "[CV] END ............................max_iter=100, tol=1e-05; total time= 3.4min\n",
      "[CV] END .............................max_iter=5, tol=0.0001; total time=  19.8s\n",
      "[CV] END ............................max_iter=10, tol=0.0001; total time=  23.0s\n",
      "[CV] END ...........................max_iter=100, tol=0.0001; total time= 3.4min\n",
      "[CV] END ..............................max_iter=5, tol=1e-05; total time=  19.7s\n",
      "[CV] END ............................max_iter=10, tol=0.0001; total time=  23.3s\n",
      "[CV] END ............................max_iter=100, tol=1e-05; total time= 3.4min\n",
      "[CV] END ..............................max_iter=5, tol=1e-05; total time=  19.9s\n",
      "[CV] END .............................max_iter=10, tol=1e-05; total time=  23.0s\n",
      "[CV] END ............................max_iter=100, tol=1e-05; total time= 3.4min\n",
      "[CV] END ..............................max_iter=5, tol=0.001; total time=  19.6s\n",
      "[CV] END .............................max_iter=10, tol=0.001; total time=  23.1s\n",
      "[CV] END ...........................max_iter=100, tol=0.0001; total time= 3.5min\n",
      "[CV] END ..............................max_iter=5, tol=0.001; total time=  19.8s\n",
      "[CV] END .............................max_iter=10, tol=1e-05; total time=  23.0s\n",
      "[CV] END ...........................max_iter=100, tol=0.0001; total time= 3.5min\n",
      "SGD Cross-Validation Accuracy: 0.8844583333333335\n"
     ]
    }
   ],
   "execution_count": 55
  },
  {
   "metadata": {},
   "cell_type": "markdown",
   "source": "## Logistic Regression",
   "id": "20f743aa945e60fe"
  },
  {
   "metadata": {
    "ExecuteTime": {
     "end_time": "2024-11-16T09:30:42.037177Z",
     "start_time": "2024-11-16T09:30:42.025416Z"
    }
   },
   "cell_type": "code",
   "source": "from sklearn.linear_model import LogisticRegression",
   "id": "110268712ca7e2db",
   "outputs": [],
   "execution_count": 56
  },
  {
   "metadata": {
    "ExecuteTime": {
     "end_time": "2024-11-16T09:34:59.750573Z",
     "start_time": "2024-11-16T09:30:42.058875Z"
    }
   },
   "cell_type": "code",
   "source": [
    "# Logistic Regression GridSearch (Zero Centering 데이터) : 4m 17s 소요\n",
    "\n",
    "# 결과 ========================================\n",
    "# 최적 파라미터 : max_iter = 100, C = 0.1\n",
    "# 최고 스코어 : 0.9863083333333335\n",
    "# ============================================\n",
    "\n",
    "model = LogisticRegression()\n",
    "param_grid = {\n",
    "    'max_iter': [100, 200],\n",
    "    'C': [0.1, 1, 10, 100]\n",
    "}\n",
    "\n",
    "model, params, score = tune_model(model, Z_data, param_grid)\n",
    "\n",
    "joblib.dump(model, 'models/project1/LR/logisticRegression_Z_gs.joblib')\n",
    "save_log(\n",
    "    f'Logistic Regression Z GridSearch {datetime.datetime.now().strftime('%Y-%m-%d %H:%M:%S')}', \n",
    "    [\n",
    "        \"params : \" + str(params), \n",
    "        \"score : \" + str(score)\n",
    "    ]\n",
    ")"
   ],
   "id": "c6202471fae95446",
   "outputs": [
    {
     "name": "stdout",
     "output_type": "stream",
     "text": [
      "Fitting 3 folds for each of 8 candidates, totalling 24 fits\n"
     ]
    },
    {
     "name": "stderr",
     "output_type": "stream",
     "text": [
      "/opt/homebrew/anaconda3/lib/python3.12/site-packages/sklearn/linear_model/_logistic.py:469: ConvergenceWarning: lbfgs failed to converge (status=1):\n",
      "STOP: TOTAL NO. of ITERATIONS REACHED LIMIT.\n",
      "\n",
      "Increase the number of iterations (max_iter) or scale the data as shown in:\n",
      "    https://scikit-learn.org/stable/modules/preprocessing.html\n",
      "Please also refer to the documentation for alternative solver options:\n",
      "    https://scikit-learn.org/stable/modules/linear_model.html#logistic-regression\n",
      "  n_iter_i = _check_optimize_result(\n",
      "/opt/homebrew/anaconda3/lib/python3.12/site-packages/sklearn/linear_model/_logistic.py:469: ConvergenceWarning: lbfgs failed to converge (status=1):\n",
      "STOP: TOTAL NO. of ITERATIONS REACHED LIMIT.\n",
      "\n",
      "Increase the number of iterations (max_iter) or scale the data as shown in:\n",
      "    https://scikit-learn.org/stable/modules/preprocessing.html\n",
      "Please also refer to the documentation for alternative solver options:\n",
      "    https://scikit-learn.org/stable/modules/linear_model.html#logistic-regression\n",
      "  n_iter_i = _check_optimize_result(\n",
      "/opt/homebrew/anaconda3/lib/python3.12/site-packages/sklearn/linear_model/_logistic.py:469: ConvergenceWarning: lbfgs failed to converge (status=1):\n",
      "STOP: TOTAL NO. of ITERATIONS REACHED LIMIT.\n",
      "\n",
      "Increase the number of iterations (max_iter) or scale the data as shown in:\n",
      "    https://scikit-learn.org/stable/modules/preprocessing.html\n",
      "Please also refer to the documentation for alternative solver options:\n",
      "    https://scikit-learn.org/stable/modules/linear_model.html#logistic-regression\n",
      "  n_iter_i = _check_optimize_result(\n",
      "/opt/homebrew/anaconda3/lib/python3.12/site-packages/sklearn/linear_model/_logistic.py:469: ConvergenceWarning: lbfgs failed to converge (status=1):\n",
      "STOP: TOTAL NO. of ITERATIONS REACHED LIMIT.\n",
      "\n",
      "Increase the number of iterations (max_iter) or scale the data as shown in:\n",
      "    https://scikit-learn.org/stable/modules/preprocessing.html\n",
      "Please also refer to the documentation for alternative solver options:\n",
      "    https://scikit-learn.org/stable/modules/linear_model.html#logistic-regression\n",
      "  n_iter_i = _check_optimize_result(\n",
      "/opt/homebrew/anaconda3/lib/python3.12/site-packages/sklearn/linear_model/_logistic.py:469: ConvergenceWarning: lbfgs failed to converge (status=1):\n",
      "STOP: TOTAL NO. of ITERATIONS REACHED LIMIT.\n",
      "\n",
      "Increase the number of iterations (max_iter) or scale the data as shown in:\n",
      "    https://scikit-learn.org/stable/modules/preprocessing.html\n",
      "Please also refer to the documentation for alternative solver options:\n",
      "    https://scikit-learn.org/stable/modules/linear_model.html#logistic-regression\n",
      "  n_iter_i = _check_optimize_result(\n",
      "/opt/homebrew/anaconda3/lib/python3.12/site-packages/sklearn/linear_model/_logistic.py:469: ConvergenceWarning: lbfgs failed to converge (status=1):\n",
      "STOP: TOTAL NO. of ITERATIONS REACHED LIMIT.\n",
      "\n",
      "Increase the number of iterations (max_iter) or scale the data as shown in:\n",
      "    https://scikit-learn.org/stable/modules/preprocessing.html\n",
      "Please also refer to the documentation for alternative solver options:\n",
      "    https://scikit-learn.org/stable/modules/linear_model.html#logistic-regression\n",
      "  n_iter_i = _check_optimize_result(\n",
      "/opt/homebrew/anaconda3/lib/python3.12/site-packages/sklearn/linear_model/_logistic.py:469: ConvergenceWarning: lbfgs failed to converge (status=1):\n",
      "STOP: TOTAL NO. of ITERATIONS REACHED LIMIT.\n",
      "\n",
      "Increase the number of iterations (max_iter) or scale the data as shown in:\n",
      "    https://scikit-learn.org/stable/modules/preprocessing.html\n",
      "Please also refer to the documentation for alternative solver options:\n",
      "    https://scikit-learn.org/stable/modules/linear_model.html#logistic-regression\n",
      "  n_iter_i = _check_optimize_result(\n",
      "/opt/homebrew/anaconda3/lib/python3.12/site-packages/sklearn/linear_model/_logistic.py:469: ConvergenceWarning: lbfgs failed to converge (status=1):\n",
      "STOP: TOTAL NO. of ITERATIONS REACHED LIMIT.\n",
      "\n",
      "Increase the number of iterations (max_iter) or scale the data as shown in:\n",
      "    https://scikit-learn.org/stable/modules/preprocessing.html\n",
      "Please also refer to the documentation for alternative solver options:\n",
      "    https://scikit-learn.org/stable/modules/linear_model.html#logistic-regression\n",
      "  n_iter_i = _check_optimize_result(\n",
      "/opt/homebrew/anaconda3/lib/python3.12/site-packages/sklearn/linear_model/_logistic.py:469: ConvergenceWarning: lbfgs failed to converge (status=1):\n",
      "STOP: TOTAL NO. of ITERATIONS REACHED LIMIT.\n",
      "\n",
      "Increase the number of iterations (max_iter) or scale the data as shown in:\n",
      "    https://scikit-learn.org/stable/modules/preprocessing.html\n",
      "Please also refer to the documentation for alternative solver options:\n",
      "    https://scikit-learn.org/stable/modules/linear_model.html#logistic-regression\n",
      "  n_iter_i = _check_optimize_result(\n",
      "/opt/homebrew/anaconda3/lib/python3.12/site-packages/sklearn/linear_model/_logistic.py:469: ConvergenceWarning: lbfgs failed to converge (status=1):\n",
      "STOP: TOTAL NO. of ITERATIONS REACHED LIMIT.\n",
      "\n",
      "Increase the number of iterations (max_iter) or scale the data as shown in:\n",
      "    https://scikit-learn.org/stable/modules/preprocessing.html\n",
      "Please also refer to the documentation for alternative solver options:\n",
      "    https://scikit-learn.org/stable/modules/linear_model.html#logistic-regression\n",
      "  n_iter_i = _check_optimize_result(\n",
      "/opt/homebrew/anaconda3/lib/python3.12/site-packages/sklearn/linear_model/_logistic.py:469: ConvergenceWarning: lbfgs failed to converge (status=1):\n",
      "STOP: TOTAL NO. of ITERATIONS REACHED LIMIT.\n",
      "\n",
      "Increase the number of iterations (max_iter) or scale the data as shown in:\n",
      "    https://scikit-learn.org/stable/modules/preprocessing.html\n",
      "Please also refer to the documentation for alternative solver options:\n",
      "    https://scikit-learn.org/stable/modules/linear_model.html#logistic-regression\n",
      "  n_iter_i = _check_optimize_result(\n",
      "/opt/homebrew/anaconda3/lib/python3.12/site-packages/sklearn/linear_model/_logistic.py:469: ConvergenceWarning: lbfgs failed to converge (status=1):\n",
      "STOP: TOTAL NO. of ITERATIONS REACHED LIMIT.\n",
      "\n",
      "Increase the number of iterations (max_iter) or scale the data as shown in:\n",
      "    https://scikit-learn.org/stable/modules/preprocessing.html\n",
      "Please also refer to the documentation for alternative solver options:\n",
      "    https://scikit-learn.org/stable/modules/linear_model.html#logistic-regression\n",
      "  n_iter_i = _check_optimize_result(\n",
      "/opt/homebrew/anaconda3/lib/python3.12/site-packages/sklearn/linear_model/_logistic.py:469: ConvergenceWarning: lbfgs failed to converge (status=1):\n",
      "STOP: TOTAL NO. of ITERATIONS REACHED LIMIT.\n",
      "\n",
      "Increase the number of iterations (max_iter) or scale the data as shown in:\n",
      "    https://scikit-learn.org/stable/modules/preprocessing.html\n",
      "Please also refer to the documentation for alternative solver options:\n",
      "    https://scikit-learn.org/stable/modules/linear_model.html#logistic-regression\n",
      "  n_iter_i = _check_optimize_result(\n",
      "/opt/homebrew/anaconda3/lib/python3.12/site-packages/sklearn/linear_model/_logistic.py:469: ConvergenceWarning: lbfgs failed to converge (status=1):\n",
      "STOP: TOTAL NO. of ITERATIONS REACHED LIMIT.\n",
      "\n",
      "Increase the number of iterations (max_iter) or scale the data as shown in:\n",
      "    https://scikit-learn.org/stable/modules/preprocessing.html\n",
      "Please also refer to the documentation for alternative solver options:\n",
      "    https://scikit-learn.org/stable/modules/linear_model.html#logistic-regression\n",
      "  n_iter_i = _check_optimize_result(\n",
      "/opt/homebrew/anaconda3/lib/python3.12/site-packages/sklearn/linear_model/_logistic.py:469: ConvergenceWarning: lbfgs failed to converge (status=1):\n",
      "STOP: TOTAL NO. of ITERATIONS REACHED LIMIT.\n",
      "\n",
      "Increase the number of iterations (max_iter) or scale the data as shown in:\n",
      "    https://scikit-learn.org/stable/modules/preprocessing.html\n",
      "Please also refer to the documentation for alternative solver options:\n",
      "    https://scikit-learn.org/stable/modules/linear_model.html#logistic-regression\n",
      "  n_iter_i = _check_optimize_result(\n",
      "/opt/homebrew/anaconda3/lib/python3.12/site-packages/sklearn/linear_model/_logistic.py:469: ConvergenceWarning: lbfgs failed to converge (status=1):\n",
      "STOP: TOTAL NO. of ITERATIONS REACHED LIMIT.\n",
      "\n",
      "Increase the number of iterations (max_iter) or scale the data as shown in:\n",
      "    https://scikit-learn.org/stable/modules/preprocessing.html\n",
      "Please also refer to the documentation for alternative solver options:\n",
      "    https://scikit-learn.org/stable/modules/linear_model.html#logistic-regression\n",
      "  n_iter_i = _check_optimize_result(\n",
      "/opt/homebrew/anaconda3/lib/python3.12/site-packages/sklearn/linear_model/_logistic.py:469: ConvergenceWarning: lbfgs failed to converge (status=1):\n",
      "STOP: TOTAL NO. of ITERATIONS REACHED LIMIT.\n",
      "\n",
      "Increase the number of iterations (max_iter) or scale the data as shown in:\n",
      "    https://scikit-learn.org/stable/modules/preprocessing.html\n",
      "Please also refer to the documentation for alternative solver options:\n",
      "    https://scikit-learn.org/stable/modules/linear_model.html#logistic-regression\n",
      "  n_iter_i = _check_optimize_result(\n",
      "/opt/homebrew/anaconda3/lib/python3.12/site-packages/sklearn/linear_model/_logistic.py:469: ConvergenceWarning: lbfgs failed to converge (status=1):\n",
      "STOP: TOTAL NO. of ITERATIONS REACHED LIMIT.\n",
      "\n",
      "Increase the number of iterations (max_iter) or scale the data as shown in:\n",
      "    https://scikit-learn.org/stable/modules/preprocessing.html\n",
      "Please also refer to the documentation for alternative solver options:\n",
      "    https://scikit-learn.org/stable/modules/linear_model.html#logistic-regression\n",
      "  n_iter_i = _check_optimize_result(\n",
      "/opt/homebrew/anaconda3/lib/python3.12/site-packages/sklearn/linear_model/_logistic.py:469: ConvergenceWarning: lbfgs failed to converge (status=1):\n",
      "STOP: TOTAL NO. of ITERATIONS REACHED LIMIT.\n",
      "\n",
      "Increase the number of iterations (max_iter) or scale the data as shown in:\n",
      "    https://scikit-learn.org/stable/modules/preprocessing.html\n",
      "Please also refer to the documentation for alternative solver options:\n",
      "    https://scikit-learn.org/stable/modules/linear_model.html#logistic-regression\n",
      "  n_iter_i = _check_optimize_result(\n",
      "/opt/homebrew/anaconda3/lib/python3.12/site-packages/sklearn/linear_model/_logistic.py:469: ConvergenceWarning: lbfgs failed to converge (status=1):\n",
      "STOP: TOTAL NO. of ITERATIONS REACHED LIMIT.\n",
      "\n",
      "Increase the number of iterations (max_iter) or scale the data as shown in:\n",
      "    https://scikit-learn.org/stable/modules/preprocessing.html\n",
      "Please also refer to the documentation for alternative solver options:\n",
      "    https://scikit-learn.org/stable/modules/linear_model.html#logistic-regression\n",
      "  n_iter_i = _check_optimize_result(\n",
      "/opt/homebrew/anaconda3/lib/python3.12/site-packages/sklearn/linear_model/_logistic.py:469: ConvergenceWarning: lbfgs failed to converge (status=1):\n",
      "STOP: TOTAL NO. of ITERATIONS REACHED LIMIT.\n",
      "\n",
      "Increase the number of iterations (max_iter) or scale the data as shown in:\n",
      "    https://scikit-learn.org/stable/modules/preprocessing.html\n",
      "Please also refer to the documentation for alternative solver options:\n",
      "    https://scikit-learn.org/stable/modules/linear_model.html#logistic-regression\n",
      "  n_iter_i = _check_optimize_result(\n",
      "/opt/homebrew/anaconda3/lib/python3.12/site-packages/sklearn/linear_model/_logistic.py:469: ConvergenceWarning: lbfgs failed to converge (status=1):\n",
      "STOP: TOTAL NO. of ITERATIONS REACHED LIMIT.\n",
      "\n",
      "Increase the number of iterations (max_iter) or scale the data as shown in:\n",
      "    https://scikit-learn.org/stable/modules/preprocessing.html\n",
      "Please also refer to the documentation for alternative solver options:\n",
      "    https://scikit-learn.org/stable/modules/linear_model.html#logistic-regression\n",
      "  n_iter_i = _check_optimize_result(\n",
      "/opt/homebrew/anaconda3/lib/python3.12/site-packages/sklearn/linear_model/_logistic.py:469: ConvergenceWarning: lbfgs failed to converge (status=1):\n",
      "STOP: TOTAL NO. of ITERATIONS REACHED LIMIT.\n",
      "\n",
      "Increase the number of iterations (max_iter) or scale the data as shown in:\n",
      "    https://scikit-learn.org/stable/modules/preprocessing.html\n",
      "Please also refer to the documentation for alternative solver options:\n",
      "    https://scikit-learn.org/stable/modules/linear_model.html#logistic-regression\n",
      "  n_iter_i = _check_optimize_result(\n",
      "/opt/homebrew/anaconda3/lib/python3.12/site-packages/sklearn/linear_model/_logistic.py:469: ConvergenceWarning: lbfgs failed to converge (status=1):\n",
      "STOP: TOTAL NO. of ITERATIONS REACHED LIMIT.\n",
      "\n",
      "Increase the number of iterations (max_iter) or scale the data as shown in:\n",
      "    https://scikit-learn.org/stable/modules/preprocessing.html\n",
      "Please also refer to the documentation for alternative solver options:\n",
      "    https://scikit-learn.org/stable/modules/linear_model.html#logistic-regression\n",
      "  n_iter_i = _check_optimize_result(\n"
     ]
    },
    {
     "name": "stdout",
     "output_type": "stream",
     "text": [
      "Best params for LogisticRegression : {'C': 1, 'max_iter': 100}\n",
      "Best Cross-Validation Score: 0.9354458333333334\n"
     ]
    },
    {
     "name": "stderr",
     "output_type": "stream",
     "text": [
      "/opt/homebrew/anaconda3/lib/python3.12/site-packages/sklearn/linear_model/_logistic.py:469: ConvergenceWarning: lbfgs failed to converge (status=1):\n",
      "STOP: TOTAL NO. of ITERATIONS REACHED LIMIT.\n",
      "\n",
      "Increase the number of iterations (max_iter) or scale the data as shown in:\n",
      "    https://scikit-learn.org/stable/modules/preprocessing.html\n",
      "Please also refer to the documentation for alternative solver options:\n",
      "    https://scikit-learn.org/stable/modules/linear_model.html#logistic-regression\n",
      "  n_iter_i = _check_optimize_result(\n"
     ]
    }
   ],
   "execution_count": 57
  },
  {
   "metadata": {
    "ExecuteTime": {
     "end_time": "2024-11-16T09:35:41.132783Z",
     "start_time": "2024-11-16T09:34:59.826191Z"
    }
   },
   "cell_type": "code",
   "source": [
    "# Logistic Regression 모델 학습 (PCA 데이터) : 41s 소요\n",
    "# 파라미터 : max_iter = 100\n",
    "\n",
    "model = LogisticRegression(max_iter=100)\n",
    "model.fit(Z_data, y_train)\n",
    "\n",
    "joblib.dump(model, 'models/project1/LR/logisticRegression_Z_mi#100.joblib')"
   ],
   "id": "21ddcd305a86d921",
   "outputs": [
    {
     "name": "stderr",
     "output_type": "stream",
     "text": [
      "/opt/homebrew/anaconda3/lib/python3.12/site-packages/sklearn/linear_model/_logistic.py:469: ConvergenceWarning: lbfgs failed to converge (status=1):\n",
      "STOP: TOTAL NO. of ITERATIONS REACHED LIMIT.\n",
      "\n",
      "Increase the number of iterations (max_iter) or scale the data as shown in:\n",
      "    https://scikit-learn.org/stable/modules/preprocessing.html\n",
      "Please also refer to the documentation for alternative solver options:\n",
      "    https://scikit-learn.org/stable/modules/linear_model.html#logistic-regression\n",
      "  n_iter_i = _check_optimize_result(\n"
     ]
    },
    {
     "data": {
      "text/plain": [
       "['models/project1/LR/logisticRegression_Z_mi#100.joblib']"
      ]
     },
     "execution_count": 58,
     "metadata": {},
     "output_type": "execute_result"
    }
   ],
   "execution_count": 58
  },
  {
   "metadata": {
    "ExecuteTime": {
     "end_time": "2024-11-16T09:35:48.658438Z",
     "start_time": "2024-11-16T09:35:41.202914Z"
    }
   },
   "cell_type": "code",
   "source": [
    "# Logistic Regression 모델 교차 검증 (PCA 데이터) : 7s 소요\n",
    "# 파라미터 : max_iter = 100\n",
    "\n",
    "# 결과 ========================================\n",
    "# 스코어 : 0.9863083333333335\n",
    "# ============================================\n",
    "\n",
    "model = joblib.load(\"models/project1/LR/logisticRegression_Z_mi#100.joblib\")\n",
    "score = cross_val_score(model, ZP_data, y_train, cv=10, scoring='accuracy', verbose=0, n_jobs=-1)\n",
    "print(\"Logistic Regression Cross-Validation Accuracy:\", score.mean())\n",
    "save_log(\n",
    "    f'Logistic Regression Z Cross-Validation {datetime.datetime.now().strftime('%Y-%m-%d %H:%M:%S')}', \n",
    "    [\n",
    "        \"params : max_iter = 100\", \n",
    "        \"score : \" + str(score.mean())\n",
    "    ]\n",
    ")"
   ],
   "id": "82957ee02f4a0f19",
   "outputs": [
    {
     "name": "stderr",
     "output_type": "stream",
     "text": [
      "/opt/homebrew/anaconda3/lib/python3.12/site-packages/sklearn/linear_model/_logistic.py:469: ConvergenceWarning: lbfgs failed to converge (status=1):\n",
      "STOP: TOTAL NO. of ITERATIONS REACHED LIMIT.\n",
      "\n",
      "Increase the number of iterations (max_iter) or scale the data as shown in:\n",
      "    https://scikit-learn.org/stable/modules/preprocessing.html\n",
      "Please also refer to the documentation for alternative solver options:\n",
      "    https://scikit-learn.org/stable/modules/linear_model.html#logistic-regression\n",
      "  n_iter_i = _check_optimize_result(\n",
      "/opt/homebrew/anaconda3/lib/python3.12/site-packages/sklearn/linear_model/_logistic.py:469: ConvergenceWarning: lbfgs failed to converge (status=1):\n",
      "STOP: TOTAL NO. of ITERATIONS REACHED LIMIT.\n",
      "\n",
      "Increase the number of iterations (max_iter) or scale the data as shown in:\n",
      "    https://scikit-learn.org/stable/modules/preprocessing.html\n",
      "Please also refer to the documentation for alternative solver options:\n",
      "    https://scikit-learn.org/stable/modules/linear_model.html#logistic-regression\n",
      "  n_iter_i = _check_optimize_result(\n",
      "/opt/homebrew/anaconda3/lib/python3.12/site-packages/sklearn/linear_model/_logistic.py:469: ConvergenceWarning: lbfgs failed to converge (status=1):\n",
      "STOP: TOTAL NO. of ITERATIONS REACHED LIMIT.\n",
      "\n",
      "Increase the number of iterations (max_iter) or scale the data as shown in:\n",
      "    https://scikit-learn.org/stable/modules/preprocessing.html\n",
      "Please also refer to the documentation for alternative solver options:\n",
      "    https://scikit-learn.org/stable/modules/linear_model.html#logistic-regression\n",
      "  n_iter_i = _check_optimize_result(\n",
      "/opt/homebrew/anaconda3/lib/python3.12/site-packages/sklearn/linear_model/_logistic.py:469: ConvergenceWarning: lbfgs failed to converge (status=1):\n",
      "STOP: TOTAL NO. of ITERATIONS REACHED LIMIT.\n",
      "\n",
      "Increase the number of iterations (max_iter) or scale the data as shown in:\n",
      "    https://scikit-learn.org/stable/modules/preprocessing.html\n",
      "Please also refer to the documentation for alternative solver options:\n",
      "    https://scikit-learn.org/stable/modules/linear_model.html#logistic-regression\n",
      "  n_iter_i = _check_optimize_result(\n",
      "/opt/homebrew/anaconda3/lib/python3.12/site-packages/sklearn/linear_model/_logistic.py:469: ConvergenceWarning: lbfgs failed to converge (status=1):\n",
      "STOP: TOTAL NO. of ITERATIONS REACHED LIMIT.\n",
      "\n",
      "Increase the number of iterations (max_iter) or scale the data as shown in:\n",
      "    https://scikit-learn.org/stable/modules/preprocessing.html\n",
      "Please also refer to the documentation for alternative solver options:\n",
      "    https://scikit-learn.org/stable/modules/linear_model.html#logistic-regression\n",
      "  n_iter_i = _check_optimize_result(\n",
      "/opt/homebrew/anaconda3/lib/python3.12/site-packages/sklearn/linear_model/_logistic.py:469: ConvergenceWarning: lbfgs failed to converge (status=1):\n",
      "STOP: TOTAL NO. of ITERATIONS REACHED LIMIT.\n",
      "\n",
      "Increase the number of iterations (max_iter) or scale the data as shown in:\n",
      "    https://scikit-learn.org/stable/modules/preprocessing.html\n",
      "Please also refer to the documentation for alternative solver options:\n",
      "    https://scikit-learn.org/stable/modules/linear_model.html#logistic-regression\n",
      "  n_iter_i = _check_optimize_result(\n",
      "/opt/homebrew/anaconda3/lib/python3.12/site-packages/sklearn/linear_model/_logistic.py:469: ConvergenceWarning: lbfgs failed to converge (status=1):\n",
      "STOP: TOTAL NO. of ITERATIONS REACHED LIMIT.\n",
      "\n",
      "Increase the number of iterations (max_iter) or scale the data as shown in:\n",
      "    https://scikit-learn.org/stable/modules/preprocessing.html\n",
      "Please also refer to the documentation for alternative solver options:\n",
      "    https://scikit-learn.org/stable/modules/linear_model.html#logistic-regression\n",
      "  n_iter_i = _check_optimize_result(\n",
      "/opt/homebrew/anaconda3/lib/python3.12/site-packages/sklearn/linear_model/_logistic.py:469: ConvergenceWarning: lbfgs failed to converge (status=1):\n",
      "STOP: TOTAL NO. of ITERATIONS REACHED LIMIT.\n",
      "\n",
      "Increase the number of iterations (max_iter) or scale the data as shown in:\n",
      "    https://scikit-learn.org/stable/modules/preprocessing.html\n",
      "Please also refer to the documentation for alternative solver options:\n",
      "    https://scikit-learn.org/stable/modules/linear_model.html#logistic-regression\n",
      "  n_iter_i = _check_optimize_result(\n",
      "/opt/homebrew/anaconda3/lib/python3.12/site-packages/sklearn/linear_model/_logistic.py:469: ConvergenceWarning: lbfgs failed to converge (status=1):\n",
      "STOP: TOTAL NO. of ITERATIONS REACHED LIMIT.\n",
      "\n",
      "Increase the number of iterations (max_iter) or scale the data as shown in:\n",
      "    https://scikit-learn.org/stable/modules/preprocessing.html\n",
      "Please also refer to the documentation for alternative solver options:\n",
      "    https://scikit-learn.org/stable/modules/linear_model.html#logistic-regression\n",
      "  n_iter_i = _check_optimize_result(\n"
     ]
    },
    {
     "name": "stdout",
     "output_type": "stream",
     "text": [
      "Logistic Regression Cross-Validation Accuracy: 0.9292624999999999\n"
     ]
    },
    {
     "name": "stderr",
     "output_type": "stream",
     "text": [
      "/opt/homebrew/anaconda3/lib/python3.12/site-packages/sklearn/linear_model/_logistic.py:469: ConvergenceWarning: lbfgs failed to converge (status=1):\n",
      "STOP: TOTAL NO. of ITERATIONS REACHED LIMIT.\n",
      "\n",
      "Increase the number of iterations (max_iter) or scale the data as shown in:\n",
      "    https://scikit-learn.org/stable/modules/preprocessing.html\n",
      "Please also refer to the documentation for alternative solver options:\n",
      "    https://scikit-learn.org/stable/modules/linear_model.html#logistic-regression\n",
      "  n_iter_i = _check_optimize_result(\n"
     ]
    }
   ],
   "execution_count": 59
  }
 ],
 "metadata": {
  "kernelspec": {
   "display_name": "Python 3",
   "language": "python",
   "name": "python3"
  },
  "language_info": {
   "codemirror_mode": {
    "name": "ipython",
    "version": 2
   },
   "file_extension": ".py",
   "mimetype": "text/x-python",
   "name": "python",
   "nbconvert_exporter": "python",
   "pygments_lexer": "ipython2",
   "version": "2.7.6"
  }
 },
 "nbformat": 4,
 "nbformat_minor": 5
}
